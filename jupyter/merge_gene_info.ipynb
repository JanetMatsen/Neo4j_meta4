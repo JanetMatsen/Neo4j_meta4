{
 "cells": [
  {
   "cell_type": "code",
   "execution_count": 1,
   "metadata": {
    "collapsed": true
   },
   "outputs": [],
   "source": [
    "import numpy as np\n",
    "\n",
    "import pandas as pd"
   ]
  },
  {
   "cell_type": "markdown",
   "metadata": {},
   "source": [
    "The network directory in this share (which is still uploading, btw) contains a pickle (data.pkl) and the code used to generate it (network.py). The lfdr_pcor object in the pickle has the partial correlations after pruning, but poor has all of them (the full network). network.txt has a text version of the network (after pruning) that can be sucked into cytoscape."
   ]
  },
  {
   "cell_type": "markdown",
   "metadata": {},
   "source": [
    "The network data was calculated from mapping to genome bins:"
   ]
  },
  {
   "cell_type": "raw",
   "metadata": {},
   "source": [
    "jmatsen@waffle:/dacb/meta4_bins/analysis/network$ column -t network.txt | head -n 5\n",
    "source             target             weight    association\n",
    "Ga0081607_11219    Ga0081607_115212   0.01928   positive\n",
    "Ga0081607_11219    Ga0081607_116221   0.01995   positive\n",
    "Ga0081607_11219    Ga0081607_107914   0.02173   positive\n",
    "Ga0081607_11219    Ga0081607_115213   0.02291   positive"
   ]
  },
  {
   "cell_type": "code",
   "execution_count": 2,
   "metadata": {
    "collapsed": false
   },
   "outputs": [],
   "source": [
    "network = pd.read_csv('/dacb/meta4_bins/analysis/network/network.txt', \n",
    "                      sep='\\t', usecols=(0, 1, 2))"
   ]
  },
  {
   "cell_type": "code",
   "execution_count": 3,
   "metadata": {
    "collapsed": false
   },
   "outputs": [
    {
     "data": {
      "text/html": [
       "<div>\n",
       "<table border=\"1\" class=\"dataframe\">\n",
       "  <thead>\n",
       "    <tr style=\"text-align: right;\">\n",
       "      <th></th>\n",
       "      <th>source</th>\n",
       "      <th>target</th>\n",
       "      <th>weight</th>\n",
       "    </tr>\n",
       "  </thead>\n",
       "  <tbody>\n",
       "    <tr>\n",
       "      <th>0</th>\n",
       "      <td>Ga0081607_11219</td>\n",
       "      <td>Ga0081607_115212</td>\n",
       "      <td>0.01928</td>\n",
       "    </tr>\n",
       "    <tr>\n",
       "      <th>1</th>\n",
       "      <td>Ga0081607_11219</td>\n",
       "      <td>Ga0081607_116221</td>\n",
       "      <td>0.01995</td>\n",
       "    </tr>\n",
       "    <tr>\n",
       "      <th>2</th>\n",
       "      <td>Ga0081607_11219</td>\n",
       "      <td>Ga0081607_107914</td>\n",
       "      <td>0.02173</td>\n",
       "    </tr>\n",
       "    <tr>\n",
       "      <th>3</th>\n",
       "      <td>Ga0081607_11219</td>\n",
       "      <td>Ga0081607_115213</td>\n",
       "      <td>0.02291</td>\n",
       "    </tr>\n",
       "    <tr>\n",
       "      <th>4</th>\n",
       "      <td>Ga0081607_108214</td>\n",
       "      <td>Ga0081607_11235</td>\n",
       "      <td>0.01928</td>\n",
       "    </tr>\n",
       "  </tbody>\n",
       "</table>\n",
       "</div>"
      ],
      "text/plain": [
       "             source            target   weight\n",
       "0   Ga0081607_11219  Ga0081607_115212  0.01928\n",
       "1   Ga0081607_11219  Ga0081607_116221  0.01995\n",
       "2   Ga0081607_11219  Ga0081607_107914  0.02173\n",
       "3   Ga0081607_11219  Ga0081607_115213  0.02291\n",
       "4  Ga0081607_108214   Ga0081607_11235  0.01928"
      ]
     },
     "execution_count": 3,
     "metadata": {},
     "output_type": "execute_result"
    }
   ],
   "source": [
    "network.head()"
   ]
  },
  {
   "cell_type": "code",
   "execution_count": 4,
   "metadata": {
    "collapsed": false
   },
   "outputs": [
    {
     "name": "stderr",
     "output_type": "stream",
     "text": [
      "/home/jmatsen/miniconda2/envs/neo4j/lib/python2.7/site-packages/ipykernel/__main__.py:1: FutureWarning: currently extract(expand=None) means expand=False (return Index/Series/DataFrame) but in a future version of pandas this will be changed to expand=True (return DataFrame)\n",
      "  if __name__ == '__main__':\n",
      "/home/jmatsen/miniconda2/envs/neo4j/lib/python2.7/site-packages/ipykernel/__main__.py:2: FutureWarning: currently extract(expand=None) means expand=False (return Index/Series/DataFrame) but in a future version of pandas this will be changed to expand=True (return DataFrame)\n",
      "  from ipykernel import kernelapp as app\n",
      "/home/jmatsen/miniconda2/envs/neo4j/lib/python2.7/site-packages/ipykernel/__main__.py:3: FutureWarning: currently extract(expand=None) means expand=False (return Index/Series/DataFrame) but in a future version of pandas this will be changed to expand=True (return DataFrame)\n",
      "  app.launch_new_instance()\n",
      "/home/jmatsen/miniconda2/envs/neo4j/lib/python2.7/site-packages/ipykernel/__main__.py:4: FutureWarning: currently extract(expand=None) means expand=False (return Index/Series/DataFrame) but in a future version of pandas this will be changed to expand=True (return DataFrame)\n"
     ]
    }
   ],
   "source": [
    "network['target_organism'] = network['target'].str.extract('([A-z0-9]+)_[0-9]+')\n",
    "network['target_gene'] = network['target'].str.extract('[A-z0-9]+_([0-9]+)')\n",
    "network['source_organism'] = network['source'].str.extract('([A-z0-9]+)_[0-9]+')\n",
    "network['source_gene'] = network['source'].str.extract('[A-z0-9]+_([0-9]+)')"
   ]
  },
  {
   "cell_type": "code",
   "execution_count": 5,
   "metadata": {
    "collapsed": false
   },
   "outputs": [
    {
     "data": {
      "text/html": [
       "<div>\n",
       "<table border=\"1\" class=\"dataframe\">\n",
       "  <thead>\n",
       "    <tr style=\"text-align: right;\">\n",
       "      <th></th>\n",
       "      <th>source</th>\n",
       "      <th>target</th>\n",
       "      <th>weight</th>\n",
       "      <th>target_organism</th>\n",
       "      <th>target_gene</th>\n",
       "      <th>source_organism</th>\n",
       "      <th>source_gene</th>\n",
       "    </tr>\n",
       "  </thead>\n",
       "  <tbody>\n",
       "    <tr>\n",
       "      <th>0</th>\n",
       "      <td>Ga0081607_11219</td>\n",
       "      <td>Ga0081607_115212</td>\n",
       "      <td>0.01928</td>\n",
       "      <td>Ga0081607</td>\n",
       "      <td>115212</td>\n",
       "      <td>Ga0081607</td>\n",
       "      <td>11219</td>\n",
       "    </tr>\n",
       "    <tr>\n",
       "      <th>1</th>\n",
       "      <td>Ga0081607_11219</td>\n",
       "      <td>Ga0081607_116221</td>\n",
       "      <td>0.01995</td>\n",
       "      <td>Ga0081607</td>\n",
       "      <td>116221</td>\n",
       "      <td>Ga0081607</td>\n",
       "      <td>11219</td>\n",
       "    </tr>\n",
       "    <tr>\n",
       "      <th>2</th>\n",
       "      <td>Ga0081607_11219</td>\n",
       "      <td>Ga0081607_107914</td>\n",
       "      <td>0.02173</td>\n",
       "      <td>Ga0081607</td>\n",
       "      <td>107914</td>\n",
       "      <td>Ga0081607</td>\n",
       "      <td>11219</td>\n",
       "    </tr>\n",
       "    <tr>\n",
       "      <th>3</th>\n",
       "      <td>Ga0081607_11219</td>\n",
       "      <td>Ga0081607_115213</td>\n",
       "      <td>0.02291</td>\n",
       "      <td>Ga0081607</td>\n",
       "      <td>115213</td>\n",
       "      <td>Ga0081607</td>\n",
       "      <td>11219</td>\n",
       "    </tr>\n",
       "    <tr>\n",
       "      <th>4</th>\n",
       "      <td>Ga0081607_108214</td>\n",
       "      <td>Ga0081607_11235</td>\n",
       "      <td>0.01928</td>\n",
       "      <td>Ga0081607</td>\n",
       "      <td>11235</td>\n",
       "      <td>Ga0081607</td>\n",
       "      <td>108214</td>\n",
       "    </tr>\n",
       "  </tbody>\n",
       "</table>\n",
       "</div>"
      ],
      "text/plain": [
       "             source            target   weight target_organism target_gene  \\\n",
       "0   Ga0081607_11219  Ga0081607_115212  0.01928       Ga0081607      115212   \n",
       "1   Ga0081607_11219  Ga0081607_116221  0.01995       Ga0081607      116221   \n",
       "2   Ga0081607_11219  Ga0081607_107914  0.02173       Ga0081607      107914   \n",
       "3   Ga0081607_11219  Ga0081607_115213  0.02291       Ga0081607      115213   \n",
       "4  Ga0081607_108214   Ga0081607_11235  0.01928       Ga0081607       11235   \n",
       "\n",
       "  source_organism source_gene  \n",
       "0       Ga0081607       11219  \n",
       "1       Ga0081607       11219  \n",
       "2       Ga0081607       11219  \n",
       "3       Ga0081607       11219  \n",
       "4       Ga0081607      108214  "
      ]
     },
     "execution_count": 5,
     "metadata": {},
     "output_type": "execute_result"
    }
   ],
   "source": [
    "network.head()"
   ]
  },
  {
   "cell_type": "code",
   "execution_count": 6,
   "metadata": {
    "collapsed": false
   },
   "outputs": [
    {
     "data": {
      "text/plain": [
       "array(['Ga0081607', 'Ga0081629'], dtype=object)"
      ]
     },
     "execution_count": 6,
     "metadata": {},
     "output_type": "execute_result"
    }
   ],
   "source": [
    "network['source_organism'].unique()"
   ]
  },
  {
   "cell_type": "code",
   "execution_count": 7,
   "metadata": {
    "collapsed": false
   },
   "outputs": [
    {
     "data": {
      "text/plain": [
       "array(['Ga0081607', 'Ga0081629'], dtype=object)"
      ]
     },
     "execution_count": 7,
     "metadata": {},
     "output_type": "execute_result"
    }
   ],
   "source": [
    "network['target_organism'].unique()"
   ]
  },
  {
   "cell_type": "raw",
   "metadata": {},
   "source": [
    "jmatsen@waffle:/dacb/meta4_bins/data$ head -n 4 genome_bins.locus_to_organism.tsv\n",
    "Ga0081607_1001  Methylobacter-123 (UID203)\n",
    "Ga0081607_1002  Methylobacter-123 (UID203)\n",
    "Ga0081607_1003  Methylobacter-123 (UID203)\n",
    "Ga0081607_1004  Methylobacter-123 (UID203)"
   ]
  },
  {
   "cell_type": "code",
   "execution_count": 8,
   "metadata": {
    "collapsed": false
   },
   "outputs": [],
   "source": [
    "locus_to_organism = pd.read_csv('/dacb/meta4_bins/data/genome_bins.locus_to_organism.tsv', sep='\\t',\n",
    "                               names=['locus', 'organism'])"
   ]
  },
  {
   "cell_type": "code",
   "execution_count": 9,
   "metadata": {
    "collapsed": false
   },
   "outputs": [
    {
     "data": {
      "text/html": [
       "<div>\n",
       "<table border=\"1\" class=\"dataframe\">\n",
       "  <thead>\n",
       "    <tr style=\"text-align: right;\">\n",
       "      <th></th>\n",
       "      <th>locus</th>\n",
       "      <th>organism</th>\n",
       "    </tr>\n",
       "  </thead>\n",
       "  <tbody>\n",
       "    <tr>\n",
       "      <th>0</th>\n",
       "      <td>Ga0081607_1001</td>\n",
       "      <td>Methylobacter-123 (UID203)</td>\n",
       "    </tr>\n",
       "    <tr>\n",
       "      <th>1</th>\n",
       "      <td>Ga0081607_1002</td>\n",
       "      <td>Methylobacter-123 (UID203)</td>\n",
       "    </tr>\n",
       "    <tr>\n",
       "      <th>2</th>\n",
       "      <td>Ga0081607_1003</td>\n",
       "      <td>Methylobacter-123 (UID203)</td>\n",
       "    </tr>\n",
       "    <tr>\n",
       "      <th>3</th>\n",
       "      <td>Ga0081607_1004</td>\n",
       "      <td>Methylobacter-123 (UID203)</td>\n",
       "    </tr>\n",
       "    <tr>\n",
       "      <th>4</th>\n",
       "      <td>Ga0081607_1005</td>\n",
       "      <td>Methylobacter-123 (UID203)</td>\n",
       "    </tr>\n",
       "  </tbody>\n",
       "</table>\n",
       "</div>"
      ],
      "text/plain": [
       "            locus                     organism\n",
       "0  Ga0081607_1001  Methylobacter-123 (UID203) \n",
       "1  Ga0081607_1002  Methylobacter-123 (UID203) \n",
       "2  Ga0081607_1003  Methylobacter-123 (UID203) \n",
       "3  Ga0081607_1004  Methylobacter-123 (UID203) \n",
       "4  Ga0081607_1005  Methylobacter-123 (UID203) "
      ]
     },
     "execution_count": 9,
     "metadata": {},
     "output_type": "execute_result"
    }
   ],
   "source": [
    "locus_to_organism.head()"
   ]
  },
  {
   "cell_type": "code",
   "execution_count": 10,
   "metadata": {
    "collapsed": false
   },
   "outputs": [
    {
     "name": "stderr",
     "output_type": "stream",
     "text": [
      "/home/jmatsen/miniconda2/envs/neo4j/lib/python2.7/site-packages/ipykernel/__main__.py:1: FutureWarning: currently extract(expand=None) means expand=False (return Index/Series/DataFrame) but in a future version of pandas this will be changed to expand=True (return DataFrame)\n",
      "  if __name__ == '__main__':\n"
     ]
    }
   ],
   "source": [
    "locus_to_organism['organism ID'] = locus_to_organism['locus'].str.extract('([A-z]+[0-9]+)_[0-9]+')"
   ]
  },
  {
   "cell_type": "code",
   "execution_count": 11,
   "metadata": {
    "collapsed": false
   },
   "outputs": [],
   "source": [
    "source_organism_names = locus_to_organism[['organism ID', 'organism']].drop_duplicates()\n",
    "target_organism_names = locus_to_organism[['organism ID', 'organism']].drop_duplicates()"
   ]
  },
  {
   "cell_type": "code",
   "execution_count": 12,
   "metadata": {
    "collapsed": false
   },
   "outputs": [],
   "source": [
    "source_organism_names = source_organism_names.rename(columns={'organism ID':'source_organism', 'organism':'source_organism_name'})\n",
    "target_organism_names = target_organism_names.rename(columns={'organism ID':'target_organism', 'organism':'target_organism_name'})"
   ]
  },
  {
   "cell_type": "code",
   "execution_count": 13,
   "metadata": {
    "collapsed": false
   },
   "outputs": [
    {
     "data": {
      "text/html": [
       "<div>\n",
       "<table border=\"1\" class=\"dataframe\">\n",
       "  <thead>\n",
       "    <tr style=\"text-align: right;\">\n",
       "      <th></th>\n",
       "      <th>source_organism</th>\n",
       "      <th>source_organism_name</th>\n",
       "    </tr>\n",
       "  </thead>\n",
       "  <tbody>\n",
       "    <tr>\n",
       "      <th>0</th>\n",
       "      <td>Ga0081607</td>\n",
       "      <td>Methylobacter-123 (UID203)</td>\n",
       "    </tr>\n",
       "    <tr>\n",
       "      <th>260</th>\n",
       "      <td>Ga0081608</td>\n",
       "      <td>Methylotenera mobilis-123 (UID3888)</td>\n",
       "    </tr>\n",
       "    <tr>\n",
       "      <th>560</th>\n",
       "      <td>Ga0081609</td>\n",
       "      <td>Acidovorax-123 (UID4000)</td>\n",
       "    </tr>\n",
       "    <tr>\n",
       "      <th>578</th>\n",
       "      <td>Ga0081610</td>\n",
       "      <td>Rhodocyclaceae-127 (UID3972)</td>\n",
       "    </tr>\n",
       "    <tr>\n",
       "      <th>938</th>\n",
       "      <td>Ga0081611</td>\n",
       "      <td>Methylophilus methylotrophus-127-1 (UID203)</td>\n",
       "    </tr>\n",
       "    <tr>\n",
       "      <th>1080</th>\n",
       "      <td>Ga0081612</td>\n",
       "      <td>Methylophilus methylotrophus-127-2 (UID203)</td>\n",
       "    </tr>\n",
       "    <tr>\n",
       "      <th>1307</th>\n",
       "      <td>Ga0081613</td>\n",
       "      <td>Acidovorax-127 (UID4105)</td>\n",
       "    </tr>\n",
       "    <tr>\n",
       "      <th>1367</th>\n",
       "      <td>Ga0081614</td>\n",
       "      <td>Methylobacter tundripaludum-129 (UID203)</td>\n",
       "    </tr>\n",
       "    <tr>\n",
       "      <th>1454</th>\n",
       "      <td>Ga0081615</td>\n",
       "      <td>Opitutae-129 (UID2982)</td>\n",
       "    </tr>\n",
       "    <tr>\n",
       "      <th>1647</th>\n",
       "      <td>Ga0081616</td>\n",
       "      <td>Burkholderiales-129 (UID4000)</td>\n",
       "    </tr>\n",
       "    <tr>\n",
       "      <th>2031</th>\n",
       "      <td>Ga0081617</td>\n",
       "      <td>Methylophilus methylotrophus-129-1 (UID203)</td>\n",
       "    </tr>\n",
       "    <tr>\n",
       "      <th>2146</th>\n",
       "      <td>Ga0081618</td>\n",
       "      <td>Methylophilus methylotrophus-129-2 (UID203)</td>\n",
       "    </tr>\n",
       "    <tr>\n",
       "      <th>2233</th>\n",
       "      <td>Ga0081619</td>\n",
       "      <td>Bacteriovorax-21 (UID3187)</td>\n",
       "    </tr>\n",
       "    <tr>\n",
       "      <th>2285</th>\n",
       "      <td>Ga0081620</td>\n",
       "      <td>Bacteria-21 (UID203)</td>\n",
       "    </tr>\n",
       "    <tr>\n",
       "      <th>2539</th>\n",
       "      <td>Ga0081621</td>\n",
       "      <td>Acidovorax-21 (UID4105)</td>\n",
       "    </tr>\n",
       "    <tr>\n",
       "      <th>2985</th>\n",
       "      <td>Ga0081622</td>\n",
       "      <td>Methylosarcina-21 (UID203)</td>\n",
       "    </tr>\n",
       "    <tr>\n",
       "      <th>3394</th>\n",
       "      <td>Ga0081623</td>\n",
       "      <td>Methylococcaceae-21 (UID203)</td>\n",
       "    </tr>\n",
       "    <tr>\n",
       "      <th>3948</th>\n",
       "      <td>Ga0081624</td>\n",
       "      <td>Methylophilaceae-40 (UID3888)</td>\n",
       "    </tr>\n",
       "    <tr>\n",
       "      <th>4188</th>\n",
       "      <td>Ga0081625</td>\n",
       "      <td>Opititae-40 (UID2982)</td>\n",
       "    </tr>\n",
       "    <tr>\n",
       "      <th>4212</th>\n",
       "      <td>Ga0081626</td>\n",
       "      <td>Methylophilaceae-49 (UID203)</td>\n",
       "    </tr>\n",
       "    <tr>\n",
       "      <th>4413</th>\n",
       "      <td>Ga0081627</td>\n",
       "      <td>Methylotenera mobilis-49 (UID3888)</td>\n",
       "    </tr>\n",
       "    <tr>\n",
       "      <th>4639</th>\n",
       "      <td>Ga0081628</td>\n",
       "      <td>Bacteroidetes-49 (UID2591)</td>\n",
       "    </tr>\n",
       "    <tr>\n",
       "      <th>4709</th>\n",
       "      <td>Ga0081629</td>\n",
       "      <td>Methylotenera mobilis-49 (UID203)</td>\n",
       "    </tr>\n",
       "    <tr>\n",
       "      <th>4931</th>\n",
       "      <td>Ga0081630</td>\n",
       "      <td>Bacteriovorax-49 (UID3187)</td>\n",
       "    </tr>\n",
       "    <tr>\n",
       "      <th>5308</th>\n",
       "      <td>Ga0081631</td>\n",
       "      <td>Rhodocyclaceae-49 (UID3972)</td>\n",
       "    </tr>\n",
       "    <tr>\n",
       "      <th>5498</th>\n",
       "      <td>Ga0081632</td>\n",
       "      <td>Flavobacteriaceae-49 (UID2817)</td>\n",
       "    </tr>\n",
       "    <tr>\n",
       "      <th>5721</th>\n",
       "      <td>Ga0081633</td>\n",
       "      <td>Methylophilus methylotrophus-55 (UID3888)</td>\n",
       "    </tr>\n",
       "    <tr>\n",
       "      <th>5738</th>\n",
       "      <td>Ga0081634</td>\n",
       "      <td>Methylosarcina lacus-55 (UID4274)</td>\n",
       "    </tr>\n",
       "    <tr>\n",
       "      <th>6181</th>\n",
       "      <td>Ga0081635</td>\n",
       "      <td>Burkholderiales-55 (UID4000)</td>\n",
       "    </tr>\n",
       "    <tr>\n",
       "      <th>6234</th>\n",
       "      <td>Ga0081636</td>\n",
       "      <td>Methylococcaceae-55 (UID203)</td>\n",
       "    </tr>\n",
       "    <tr>\n",
       "      <th>6288</th>\n",
       "      <td>Ga0081637</td>\n",
       "      <td>Methylophilaceae-55 (UID3888)</td>\n",
       "    </tr>\n",
       "    <tr>\n",
       "      <th>6312</th>\n",
       "      <td>Ga0081638</td>\n",
       "      <td>Methylovulum miyakonense-55 (UID4274)</td>\n",
       "    </tr>\n",
       "    <tr>\n",
       "      <th>6645</th>\n",
       "      <td>Ga0081639</td>\n",
       "      <td>Bacteriovorax-63 (UID3187)</td>\n",
       "    </tr>\n",
       "    <tr>\n",
       "      <th>6654</th>\n",
       "      <td>Ga0081640</td>\n",
       "      <td>Methylotenera mobilis-63 (UID3888)</td>\n",
       "    </tr>\n",
       "    <tr>\n",
       "      <th>6945</th>\n",
       "      <td>Ga0081641</td>\n",
       "      <td>Methylobacter-69 (UID4274)</td>\n",
       "    </tr>\n",
       "    <tr>\n",
       "      <th>7125</th>\n",
       "      <td>Ga0081642</td>\n",
       "      <td>Methylophilus methylotrophus-69 (UID3888)</td>\n",
       "    </tr>\n",
       "    <tr>\n",
       "      <th>7156</th>\n",
       "      <td>Ga0081643</td>\n",
       "      <td>Methylosarcina lacus-69 (UID4274)</td>\n",
       "    </tr>\n",
       "    <tr>\n",
       "      <th>7373</th>\n",
       "      <td>Ga0081644</td>\n",
       "      <td>Acidovora-69x (UID4105)</td>\n",
       "    </tr>\n",
       "    <tr>\n",
       "      <th>7818</th>\n",
       "      <td>Ga0081645</td>\n",
       "      <td>Acidovorax-75 (UID4105)</td>\n",
       "    </tr>\n",
       "    <tr>\n",
       "      <th>8086</th>\n",
       "      <td>Ga0081646</td>\n",
       "      <td>Bacteroidetes-76 (UID2591)</td>\n",
       "    </tr>\n",
       "    <tr>\n",
       "      <th>8337</th>\n",
       "      <td>Ga0081647</td>\n",
       "      <td>Methylotenera mobilis-76-1 (UID203)</td>\n",
       "    </tr>\n",
       "    <tr>\n",
       "      <th>8545</th>\n",
       "      <td>Ga0081648</td>\n",
       "      <td>Burkholderiales-76 (UID4002)</td>\n",
       "    </tr>\n",
       "    <tr>\n",
       "      <th>8652</th>\n",
       "      <td>Ga0081649</td>\n",
       "      <td>Methylotenera mobilis-76-2 (UID203)</td>\n",
       "    </tr>\n",
       "    <tr>\n",
       "      <th>9061</th>\n",
       "      <td>Ga0081650</td>\n",
       "      <td>Methylophilus methylotrophus-79 (UID3888)</td>\n",
       "    </tr>\n",
       "    <tr>\n",
       "      <th>9078</th>\n",
       "      <td>Ga0081651</td>\n",
       "      <td>Acidovorax-79 (UID4214)</td>\n",
       "    </tr>\n",
       "    <tr>\n",
       "      <th>9176</th>\n",
       "      <td>Ga0081652</td>\n",
       "      <td>Flavobacteriaceae-79-1 (UID2817)</td>\n",
       "    </tr>\n",
       "    <tr>\n",
       "      <th>9383</th>\n",
       "      <td>Ga0081653</td>\n",
       "      <td>Flavobacteriaceae-79-2 (UID2817)</td>\n",
       "    </tr>\n",
       "    <tr>\n",
       "      <th>9644</th>\n",
       "      <td>Ga0081654</td>\n",
       "      <td>Bacteroidetes-8 (UID2591)</td>\n",
       "    </tr>\n",
       "    <tr>\n",
       "      <th>9987</th>\n",
       "      <td>Ga0081656</td>\n",
       "      <td>Bacteriovora-8x (UID3187)</td>\n",
       "    </tr>\n",
       "    <tr>\n",
       "      <th>10277</th>\n",
       "      <td>Ga0081657</td>\n",
       "      <td>Methylobacte-98r (UID4274)</td>\n",
       "    </tr>\n",
       "    <tr>\n",
       "      <th>10403</th>\n",
       "      <td>Ga0081658</td>\n",
       "      <td>Methylophilus methylotrophus-98 (UID3888)</td>\n",
       "    </tr>\n",
       "    <tr>\n",
       "      <th>10434</th>\n",
       "      <td>Ga0081659</td>\n",
       "      <td>Acidovorax-98 (UID4105)</td>\n",
       "    </tr>\n",
       "    <tr>\n",
       "      <th>10793</th>\n",
       "      <td>Ga0081655</td>\n",
       "      <td>Methylophilaceae-8 (UID203)</td>\n",
       "    </tr>\n",
       "  </tbody>\n",
       "</table>\n",
       "</div>"
      ],
      "text/plain": [
       "      source_organism                         source_organism_name\n",
       "0           Ga0081607                  Methylobacter-123 (UID203) \n",
       "260         Ga0081608          Methylotenera mobilis-123 (UID3888)\n",
       "560         Ga0081609                    Acidovorax-123 (UID4000) \n",
       "578         Ga0081610                Rhodocyclaceae-127 (UID3972) \n",
       "938         Ga0081611  Methylophilus methylotrophus-127-1 (UID203)\n",
       "1080        Ga0081612  Methylophilus methylotrophus-127-2 (UID203)\n",
       "1307        Ga0081613                    Acidovorax-127 (UID4105) \n",
       "1367        Ga0081614     Methylobacter tundripaludum-129 (UID203)\n",
       "1454        Ga0081615                      Opitutae-129 (UID2982) \n",
       "1647        Ga0081616               Burkholderiales-129 (UID4000) \n",
       "2031        Ga0081617  Methylophilus methylotrophus-129-1 (UID203)\n",
       "2146        Ga0081618  Methylophilus methylotrophus-129-2 (UID203)\n",
       "2233        Ga0081619                  Bacteriovorax-21 (UID3187) \n",
       "2285        Ga0081620                        Bacteria-21 (UID203) \n",
       "2539        Ga0081621                     Acidovorax-21 (UID4105) \n",
       "2985        Ga0081622                  Methylosarcina-21 (UID203) \n",
       "3394        Ga0081623                Methylococcaceae-21 (UID203) \n",
       "3948        Ga0081624               Methylophilaceae-40 (UID3888) \n",
       "4188        Ga0081625                       Opititae-40 (UID2982) \n",
       "4212        Ga0081626                Methylophilaceae-49 (UID203) \n",
       "4413        Ga0081627           Methylotenera mobilis-49 (UID3888)\n",
       "4639        Ga0081628                  Bacteroidetes-49 (UID2591) \n",
       "4709        Ga0081629            Methylotenera mobilis-49 (UID203)\n",
       "4931        Ga0081630                  Bacteriovorax-49 (UID3187) \n",
       "5308        Ga0081631                 Rhodocyclaceae-49 (UID3972) \n",
       "5498        Ga0081632              Flavobacteriaceae-49 (UID2817) \n",
       "5721        Ga0081633    Methylophilus methylotrophus-55 (UID3888)\n",
       "5738        Ga0081634            Methylosarcina lacus-55 (UID4274)\n",
       "6181        Ga0081635                Burkholderiales-55 (UID4000) \n",
       "6234        Ga0081636                Methylococcaceae-55 (UID203) \n",
       "6288        Ga0081637               Methylophilaceae-55 (UID3888) \n",
       "6312        Ga0081638        Methylovulum miyakonense-55 (UID4274)\n",
       "6645        Ga0081639                  Bacteriovorax-63 (UID3187) \n",
       "6654        Ga0081640           Methylotenera mobilis-63 (UID3888)\n",
       "6945        Ga0081641                  Methylobacter-69 (UID4274) \n",
       "7125        Ga0081642    Methylophilus methylotrophus-69 (UID3888)\n",
       "7156        Ga0081643            Methylosarcina lacus-69 (UID4274)\n",
       "7373        Ga0081644                     Acidovora-69x (UID4105) \n",
       "7818        Ga0081645                     Acidovorax-75 (UID4105) \n",
       "8086        Ga0081646                  Bacteroidetes-76 (UID2591) \n",
       "8337        Ga0081647          Methylotenera mobilis-76-1 (UID203)\n",
       "8545        Ga0081648                Burkholderiales-76 (UID4002) \n",
       "8652        Ga0081649          Methylotenera mobilis-76-2 (UID203)\n",
       "9061        Ga0081650    Methylophilus methylotrophus-79 (UID3888)\n",
       "9078        Ga0081651                     Acidovorax-79 (UID4214) \n",
       "9176        Ga0081652            Flavobacteriaceae-79-1 (UID2817) \n",
       "9383        Ga0081653            Flavobacteriaceae-79-2 (UID2817) \n",
       "9644        Ga0081654                   Bacteroidetes-8 (UID2591) \n",
       "9987        Ga0081656                   Bacteriovora-8x (UID3187) \n",
       "10277       Ga0081657                  Methylobacte-98r (UID4274) \n",
       "10403       Ga0081658    Methylophilus methylotrophus-98 (UID3888)\n",
       "10434       Ga0081659                     Acidovorax-98 (UID4105) \n",
       "10793       Ga0081655                 Methylophilaceae-8 (UID203) "
      ]
     },
     "execution_count": 13,
     "metadata": {},
     "output_type": "execute_result"
    }
   ],
   "source": [
    "source_organism_names"
   ]
  },
  {
   "cell_type": "code",
   "execution_count": 14,
   "metadata": {
    "collapsed": true
   },
   "outputs": [],
   "source": [
    "# Note that there are trailing white spaces.  Remove them with strip."
   ]
  },
  {
   "cell_type": "code",
   "execution_count": 15,
   "metadata": {
    "collapsed": false
   },
   "outputs": [
    {
     "data": {
      "text/plain": [
       "'abc'"
      ]
     },
     "execution_count": 15,
     "metadata": {},
     "output_type": "execute_result"
    }
   ],
   "source": [
    "\"abc \".strip()"
   ]
  },
  {
   "cell_type": "code",
   "execution_count": 16,
   "metadata": {
    "collapsed": false
   },
   "outputs": [
    {
     "data": {
      "text/plain": [
       "'abc'"
      ]
     },
     "execution_count": 16,
     "metadata": {},
     "output_type": "execute_result"
    }
   ],
   "source": [
    "\" abc\".strip()"
   ]
  },
  {
   "cell_type": "code",
   "execution_count": 17,
   "metadata": {
    "collapsed": false
   },
   "outputs": [
    {
     "data": {
      "text/plain": [
       "'abc def'"
      ]
     },
     "execution_count": 17,
     "metadata": {},
     "output_type": "execute_result"
    }
   ],
   "source": [
    "\"abc def\".strip()"
   ]
  },
  {
   "cell_type": "code",
   "execution_count": 18,
   "metadata": {
    "collapsed": true
   },
   "outputs": [],
   "source": [
    "# http://pandas.pydata.org/pandas-docs/stable/generated/pandas.Series.str.strip.html\n",
    "source_organism_names['source_organism_name'] = source_organism_names['source_organism_name'].str.strip()"
   ]
  },
  {
   "cell_type": "code",
   "execution_count": 19,
   "metadata": {
    "collapsed": false
   },
   "outputs": [],
   "source": [
    "merged = pd.merge(network, source_organism_names)"
   ]
  },
  {
   "cell_type": "code",
   "execution_count": 20,
   "metadata": {
    "collapsed": false
   },
   "outputs": [
    {
     "data": {
      "text/plain": [
       "array(['Methylobacter-123 (UID203)', 'Methylotenera mobilis-49 (UID203)'], dtype=object)"
      ]
     },
     "execution_count": 20,
     "metadata": {},
     "output_type": "execute_result"
    }
   ],
   "source": [
    "merged.source_organism_name.unique()"
   ]
  },
  {
   "cell_type": "code",
   "execution_count": 21,
   "metadata": {
    "collapsed": false
   },
   "outputs": [
    {
     "data": {
      "text/html": [
       "<div>\n",
       "<table border=\"1\" class=\"dataframe\">\n",
       "  <thead>\n",
       "    <tr style=\"text-align: right;\">\n",
       "      <th></th>\n",
       "      <th>source</th>\n",
       "      <th>target</th>\n",
       "      <th>weight</th>\n",
       "      <th>target_organism</th>\n",
       "      <th>target_gene</th>\n",
       "      <th>source_organism</th>\n",
       "      <th>source_gene</th>\n",
       "      <th>source_organism_name</th>\n",
       "    </tr>\n",
       "  </thead>\n",
       "  <tbody>\n",
       "    <tr>\n",
       "      <th>0</th>\n",
       "      <td>Ga0081607_11219</td>\n",
       "      <td>Ga0081607_115212</td>\n",
       "      <td>0.01928</td>\n",
       "      <td>Ga0081607</td>\n",
       "      <td>115212</td>\n",
       "      <td>Ga0081607</td>\n",
       "      <td>11219</td>\n",
       "      <td>Methylobacter-123 (UID203)</td>\n",
       "    </tr>\n",
       "    <tr>\n",
       "      <th>1</th>\n",
       "      <td>Ga0081607_11219</td>\n",
       "      <td>Ga0081607_116221</td>\n",
       "      <td>0.01995</td>\n",
       "      <td>Ga0081607</td>\n",
       "      <td>116221</td>\n",
       "      <td>Ga0081607</td>\n",
       "      <td>11219</td>\n",
       "      <td>Methylobacter-123 (UID203)</td>\n",
       "    </tr>\n",
       "  </tbody>\n",
       "</table>\n",
       "</div>"
      ],
      "text/plain": [
       "            source            target   weight target_organism target_gene  \\\n",
       "0  Ga0081607_11219  Ga0081607_115212  0.01928       Ga0081607      115212   \n",
       "1  Ga0081607_11219  Ga0081607_116221  0.01995       Ga0081607      116221   \n",
       "\n",
       "  source_organism source_gene        source_organism_name  \n",
       "0       Ga0081607       11219  Methylobacter-123 (UID203)  \n",
       "1       Ga0081607       11219  Methylobacter-123 (UID203)  "
      ]
     },
     "execution_count": 21,
     "metadata": {},
     "output_type": "execute_result"
    }
   ],
   "source": [
    "merged.head(2)"
   ]
  },
  {
   "cell_type": "code",
   "execution_count": 22,
   "metadata": {
    "collapsed": false
   },
   "outputs": [
    {
     "name": "stdout",
     "output_type": "stream",
     "text": [
      "(2486, 9)\n",
      "(2486, 7)\n"
     ]
    }
   ],
   "source": [
    "merged = pd.merge(merged, target_organism_names)\n",
    "print(merged.shape)\n",
    "print(network.shape)"
   ]
  },
  {
   "cell_type": "code",
   "execution_count": 23,
   "metadata": {
    "collapsed": false
   },
   "outputs": [
    {
     "data": {
      "text/html": [
       "<div>\n",
       "<table border=\"1\" class=\"dataframe\">\n",
       "  <thead>\n",
       "    <tr style=\"text-align: right;\">\n",
       "      <th></th>\n",
       "      <th>source</th>\n",
       "      <th>target</th>\n",
       "      <th>weight</th>\n",
       "      <th>target_organism</th>\n",
       "      <th>target_gene</th>\n",
       "      <th>source_organism</th>\n",
       "      <th>source_gene</th>\n",
       "      <th>source_organism_name</th>\n",
       "      <th>target_organism_name</th>\n",
       "    </tr>\n",
       "  </thead>\n",
       "  <tbody>\n",
       "    <tr>\n",
       "      <th>0</th>\n",
       "      <td>Ga0081607_11219</td>\n",
       "      <td>Ga0081607_115212</td>\n",
       "      <td>0.01928</td>\n",
       "      <td>Ga0081607</td>\n",
       "      <td>115212</td>\n",
       "      <td>Ga0081607</td>\n",
       "      <td>11219</td>\n",
       "      <td>Methylobacter-123 (UID203)</td>\n",
       "      <td>Methylobacter-123 (UID203)</td>\n",
       "    </tr>\n",
       "    <tr>\n",
       "      <th>1</th>\n",
       "      <td>Ga0081607_11219</td>\n",
       "      <td>Ga0081607_116221</td>\n",
       "      <td>0.01995</td>\n",
       "      <td>Ga0081607</td>\n",
       "      <td>116221</td>\n",
       "      <td>Ga0081607</td>\n",
       "      <td>11219</td>\n",
       "      <td>Methylobacter-123 (UID203)</td>\n",
       "      <td>Methylobacter-123 (UID203)</td>\n",
       "    </tr>\n",
       "    <tr>\n",
       "      <th>2</th>\n",
       "      <td>Ga0081607_11219</td>\n",
       "      <td>Ga0081607_107914</td>\n",
       "      <td>0.02173</td>\n",
       "      <td>Ga0081607</td>\n",
       "      <td>107914</td>\n",
       "      <td>Ga0081607</td>\n",
       "      <td>11219</td>\n",
       "      <td>Methylobacter-123 (UID203)</td>\n",
       "      <td>Methylobacter-123 (UID203)</td>\n",
       "    </tr>\n",
       "    <tr>\n",
       "      <th>3</th>\n",
       "      <td>Ga0081607_11219</td>\n",
       "      <td>Ga0081607_115213</td>\n",
       "      <td>0.02291</td>\n",
       "      <td>Ga0081607</td>\n",
       "      <td>115213</td>\n",
       "      <td>Ga0081607</td>\n",
       "      <td>11219</td>\n",
       "      <td>Methylobacter-123 (UID203)</td>\n",
       "      <td>Methylobacter-123 (UID203)</td>\n",
       "    </tr>\n",
       "    <tr>\n",
       "      <th>4</th>\n",
       "      <td>Ga0081607_108214</td>\n",
       "      <td>Ga0081607_11235</td>\n",
       "      <td>0.01928</td>\n",
       "      <td>Ga0081607</td>\n",
       "      <td>11235</td>\n",
       "      <td>Ga0081607</td>\n",
       "      <td>108214</td>\n",
       "      <td>Methylobacter-123 (UID203)</td>\n",
       "      <td>Methylobacter-123 (UID203)</td>\n",
       "    </tr>\n",
       "  </tbody>\n",
       "</table>\n",
       "</div>"
      ],
      "text/plain": [
       "             source            target   weight target_organism target_gene  \\\n",
       "0   Ga0081607_11219  Ga0081607_115212  0.01928       Ga0081607      115212   \n",
       "1   Ga0081607_11219  Ga0081607_116221  0.01995       Ga0081607      116221   \n",
       "2   Ga0081607_11219  Ga0081607_107914  0.02173       Ga0081607      107914   \n",
       "3   Ga0081607_11219  Ga0081607_115213  0.02291       Ga0081607      115213   \n",
       "4  Ga0081607_108214   Ga0081607_11235  0.01928       Ga0081607       11235   \n",
       "\n",
       "  source_organism source_gene        source_organism_name  \\\n",
       "0       Ga0081607       11219  Methylobacter-123 (UID203)   \n",
       "1       Ga0081607       11219  Methylobacter-123 (UID203)   \n",
       "2       Ga0081607       11219  Methylobacter-123 (UID203)   \n",
       "3       Ga0081607       11219  Methylobacter-123 (UID203)   \n",
       "4       Ga0081607      108214  Methylobacter-123 (UID203)   \n",
       "\n",
       "          target_organism_name  \n",
       "0  Methylobacter-123 (UID203)   \n",
       "1  Methylobacter-123 (UID203)   \n",
       "2  Methylobacter-123 (UID203)   \n",
       "3  Methylobacter-123 (UID203)   \n",
       "4  Methylobacter-123 (UID203)   "
      ]
     },
     "execution_count": 23,
     "metadata": {},
     "output_type": "execute_result"
    }
   ],
   "source": [
    "merged.head()"
   ]
  },
  {
   "cell_type": "code",
   "execution_count": 24,
   "metadata": {
    "collapsed": false
   },
   "outputs": [
    {
     "data": {
      "text/plain": [
       "array(['Methylobacter-123 (UID203)', 'Methylotenera mobilis-49 (UID203)'], dtype=object)"
      ]
     },
     "execution_count": 24,
     "metadata": {},
     "output_type": "execute_result"
    }
   ],
   "source": [
    "merged.source_organism_name.unique()"
   ]
  },
  {
   "cell_type": "code",
   "execution_count": 25,
   "metadata": {
    "collapsed": false
   },
   "outputs": [
    {
     "name": "stdout",
     "output_type": "stream",
     "text": [
      "(2486, 9)\n",
      "(2486, 7)\n"
     ]
    }
   ],
   "source": [
    "print(merged.shape)\n",
    "print(network.shape)"
   ]
  },
  {
   "cell_type": "code",
   "execution_count": 26,
   "metadata": {
    "collapsed": false
   },
   "outputs": [
    {
     "data": {
      "text/html": [
       "<div>\n",
       "<table border=\"1\" class=\"dataframe\">\n",
       "  <thead>\n",
       "    <tr style=\"text-align: right;\">\n",
       "      <th></th>\n",
       "      <th>source</th>\n",
       "      <th>target</th>\n",
       "      <th>weight</th>\n",
       "      <th>target_organism</th>\n",
       "      <th>target_gene</th>\n",
       "      <th>source_organism</th>\n",
       "      <th>source_gene</th>\n",
       "      <th>source_organism_name</th>\n",
       "      <th>target_organism_name</th>\n",
       "    </tr>\n",
       "  </thead>\n",
       "  <tbody>\n",
       "    <tr>\n",
       "      <th>2481</th>\n",
       "      <td>Ga0081629_11451</td>\n",
       "      <td>Ga0081629_11135</td>\n",
       "      <td>0.03896</td>\n",
       "      <td>Ga0081629</td>\n",
       "      <td>11135</td>\n",
       "      <td>Ga0081629</td>\n",
       "      <td>11451</td>\n",
       "      <td>Methylotenera mobilis-49 (UID203)</td>\n",
       "      <td>Methylotenera mobilis-49 (UID203)</td>\n",
       "    </tr>\n",
       "    <tr>\n",
       "      <th>2482</th>\n",
       "      <td>Ga0081629_11451</td>\n",
       "      <td>Ga0081629_12205</td>\n",
       "      <td>0.04051</td>\n",
       "      <td>Ga0081629</td>\n",
       "      <td>12205</td>\n",
       "      <td>Ga0081629</td>\n",
       "      <td>11451</td>\n",
       "      <td>Methylotenera mobilis-49 (UID203)</td>\n",
       "      <td>Methylotenera mobilis-49 (UID203)</td>\n",
       "    </tr>\n",
       "    <tr>\n",
       "      <th>2483</th>\n",
       "      <td>Ga0081629_11451</td>\n",
       "      <td>Ga0081629_10266</td>\n",
       "      <td>0.04218</td>\n",
       "      <td>Ga0081629</td>\n",
       "      <td>10266</td>\n",
       "      <td>Ga0081629</td>\n",
       "      <td>11451</td>\n",
       "      <td>Methylotenera mobilis-49 (UID203)</td>\n",
       "      <td>Methylotenera mobilis-49 (UID203)</td>\n",
       "    </tr>\n",
       "    <tr>\n",
       "      <th>2484</th>\n",
       "      <td>Ga0081629_11451</td>\n",
       "      <td>Ga0081629_11844</td>\n",
       "      <td>0.04379</td>\n",
       "      <td>Ga0081629</td>\n",
       "      <td>11844</td>\n",
       "      <td>Ga0081629</td>\n",
       "      <td>11451</td>\n",
       "      <td>Methylotenera mobilis-49 (UID203)</td>\n",
       "      <td>Methylotenera mobilis-49 (UID203)</td>\n",
       "    </tr>\n",
       "    <tr>\n",
       "      <th>2485</th>\n",
       "      <td>Ga0081629_11451</td>\n",
       "      <td>Ga0081629_10632</td>\n",
       "      <td>0.04406</td>\n",
       "      <td>Ga0081629</td>\n",
       "      <td>10632</td>\n",
       "      <td>Ga0081629</td>\n",
       "      <td>11451</td>\n",
       "      <td>Methylotenera mobilis-49 (UID203)</td>\n",
       "      <td>Methylotenera mobilis-49 (UID203)</td>\n",
       "    </tr>\n",
       "  </tbody>\n",
       "</table>\n",
       "</div>"
      ],
      "text/plain": [
       "               source           target   weight target_organism target_gene  \\\n",
       "2481  Ga0081629_11451  Ga0081629_11135  0.03896       Ga0081629       11135   \n",
       "2482  Ga0081629_11451  Ga0081629_12205  0.04051       Ga0081629       12205   \n",
       "2483  Ga0081629_11451  Ga0081629_10266  0.04218       Ga0081629       10266   \n",
       "2484  Ga0081629_11451  Ga0081629_11844  0.04379       Ga0081629       11844   \n",
       "2485  Ga0081629_11451  Ga0081629_10632  0.04406       Ga0081629       10632   \n",
       "\n",
       "     source_organism source_gene               source_organism_name  \\\n",
       "2481       Ga0081629       11451  Methylotenera mobilis-49 (UID203)   \n",
       "2482       Ga0081629       11451  Methylotenera mobilis-49 (UID203)   \n",
       "2483       Ga0081629       11451  Methylotenera mobilis-49 (UID203)   \n",
       "2484       Ga0081629       11451  Methylotenera mobilis-49 (UID203)   \n",
       "2485       Ga0081629       11451  Methylotenera mobilis-49 (UID203)   \n",
       "\n",
       "                   target_organism_name  \n",
       "2481  Methylotenera mobilis-49 (UID203)  \n",
       "2482  Methylotenera mobilis-49 (UID203)  \n",
       "2483  Methylotenera mobilis-49 (UID203)  \n",
       "2484  Methylotenera mobilis-49 (UID203)  \n",
       "2485  Methylotenera mobilis-49 (UID203)  "
      ]
     },
     "execution_count": 26,
     "metadata": {},
     "output_type": "execute_result"
    }
   ],
   "source": [
    "merged.tail()"
   ]
  },
  {
   "cell_type": "code",
   "execution_count": null,
   "metadata": {
    "collapsed": true
   },
   "outputs": [],
   "source": []
  },
  {
   "cell_type": "code",
   "execution_count": 27,
   "metadata": {
    "collapsed": false
   },
   "outputs": [
    {
     "data": {
      "text/html": [
       "<div>\n",
       "<table border=\"1\" class=\"dataframe\">\n",
       "  <thead>\n",
       "    <tr style=\"text-align: right;\">\n",
       "      <th></th>\n",
       "      <th>source</th>\n",
       "      <th>target</th>\n",
       "      <th>weight</th>\n",
       "      <th>target_organism</th>\n",
       "      <th>target_gene</th>\n",
       "      <th>source_organism</th>\n",
       "      <th>source_gene</th>\n",
       "      <th>source_organism_name</th>\n",
       "      <th>target_organism_name</th>\n",
       "    </tr>\n",
       "  </thead>\n",
       "  <tbody>\n",
       "  </tbody>\n",
       "</table>\n",
       "</div>"
      ],
      "text/plain": [
       "Empty DataFrame\n",
       "Columns: [source, target, weight, target_organism, target_gene, source_organism, source_gene, source_organism_name, target_organism_name]\n",
       "Index: []"
      ]
     },
     "execution_count": 27,
     "metadata": {},
     "output_type": "execute_result"
    }
   ],
   "source": [
    "# # d[(d['x']>2) & (d['y']>7)]\n",
    "merged[(merged['source_organism_name'] == 'Methylotenera mobilis-49 (UID203)') &\n",
    "       (merged['target_organism_name'] == 'Methylobacter-123 (UID203)')].head()"
   ]
  },
  {
   "cell_type": "code",
   "execution_count": 28,
   "metadata": {
    "collapsed": false
   },
   "outputs": [
    {
     "data": {
      "text/html": [
       "<div>\n",
       "<table border=\"1\" class=\"dataframe\">\n",
       "  <thead>\n",
       "    <tr style=\"text-align: right;\">\n",
       "      <th></th>\n",
       "      <th>source</th>\n",
       "      <th>target</th>\n",
       "      <th>weight</th>\n",
       "      <th>target_organism</th>\n",
       "      <th>target_gene</th>\n",
       "      <th>source_organism</th>\n",
       "      <th>source_gene</th>\n",
       "      <th>source_organism_name</th>\n",
       "      <th>target_organism_name</th>\n",
       "    </tr>\n",
       "  </thead>\n",
       "  <tbody>\n",
       "    <tr>\n",
       "      <th>2086</th>\n",
       "      <td>Ga0081607_108214</td>\n",
       "      <td>Ga0081629_10591</td>\n",
       "      <td>-0.02555</td>\n",
       "      <td>Ga0081629</td>\n",
       "      <td>10591</td>\n",
       "      <td>Ga0081607</td>\n",
       "      <td>108214</td>\n",
       "      <td>Methylobacter-123 (UID203)</td>\n",
       "      <td>Methylotenera mobilis-49 (UID203)</td>\n",
       "    </tr>\n",
       "    <tr>\n",
       "      <th>2087</th>\n",
       "      <td>Ga0081607_10701</td>\n",
       "      <td>Ga0081629_12205</td>\n",
       "      <td>0.02161</td>\n",
       "      <td>Ga0081629</td>\n",
       "      <td>12205</td>\n",
       "      <td>Ga0081607</td>\n",
       "      <td>10701</td>\n",
       "      <td>Methylobacter-123 (UID203)</td>\n",
       "      <td>Methylotenera mobilis-49 (UID203)</td>\n",
       "    </tr>\n",
       "    <tr>\n",
       "      <th>2088</th>\n",
       "      <td>Ga0081607_10701</td>\n",
       "      <td>Ga0081629_11365</td>\n",
       "      <td>0.02348</td>\n",
       "      <td>Ga0081629</td>\n",
       "      <td>11365</td>\n",
       "      <td>Ga0081607</td>\n",
       "      <td>10701</td>\n",
       "      <td>Methylobacter-123 (UID203)</td>\n",
       "      <td>Methylotenera mobilis-49 (UID203)</td>\n",
       "    </tr>\n",
       "    <tr>\n",
       "      <th>2089</th>\n",
       "      <td>Ga0081607_10701</td>\n",
       "      <td>Ga0081629_11135</td>\n",
       "      <td>0.02414</td>\n",
       "      <td>Ga0081629</td>\n",
       "      <td>11135</td>\n",
       "      <td>Ga0081607</td>\n",
       "      <td>10701</td>\n",
       "      <td>Methylobacter-123 (UID203)</td>\n",
       "      <td>Methylotenera mobilis-49 (UID203)</td>\n",
       "    </tr>\n",
       "    <tr>\n",
       "      <th>2090</th>\n",
       "      <td>Ga0081607_10701</td>\n",
       "      <td>Ga0081629_109314</td>\n",
       "      <td>0.02782</td>\n",
       "      <td>Ga0081629</td>\n",
       "      <td>109314</td>\n",
       "      <td>Ga0081607</td>\n",
       "      <td>10701</td>\n",
       "      <td>Methylobacter-123 (UID203)</td>\n",
       "      <td>Methylotenera mobilis-49 (UID203)</td>\n",
       "    </tr>\n",
       "  </tbody>\n",
       "</table>\n",
       "</div>"
      ],
      "text/plain": [
       "                source            target   weight target_organism target_gene  \\\n",
       "2086  Ga0081607_108214   Ga0081629_10591 -0.02555       Ga0081629       10591   \n",
       "2087   Ga0081607_10701   Ga0081629_12205  0.02161       Ga0081629       12205   \n",
       "2088   Ga0081607_10701   Ga0081629_11365  0.02348       Ga0081629       11365   \n",
       "2089   Ga0081607_10701   Ga0081629_11135  0.02414       Ga0081629       11135   \n",
       "2090   Ga0081607_10701  Ga0081629_109314  0.02782       Ga0081629      109314   \n",
       "\n",
       "     source_organism source_gene        source_organism_name  \\\n",
       "2086       Ga0081607      108214  Methylobacter-123 (UID203)   \n",
       "2087       Ga0081607       10701  Methylobacter-123 (UID203)   \n",
       "2088       Ga0081607       10701  Methylobacter-123 (UID203)   \n",
       "2089       Ga0081607       10701  Methylobacter-123 (UID203)   \n",
       "2090       Ga0081607       10701  Methylobacter-123 (UID203)   \n",
       "\n",
       "                   target_organism_name  \n",
       "2086  Methylotenera mobilis-49 (UID203)  \n",
       "2087  Methylotenera mobilis-49 (UID203)  \n",
       "2088  Methylotenera mobilis-49 (UID203)  \n",
       "2089  Methylotenera mobilis-49 (UID203)  \n",
       "2090  Methylotenera mobilis-49 (UID203)  "
      ]
     },
     "execution_count": 28,
     "metadata": {},
     "output_type": "execute_result"
    }
   ],
   "source": [
    "merged[(merged['source_organism_name'] == 'Methylobacter-123 (UID203)') &\n",
    "       (merged['target_organism_name'] == 'Methylotenera mobilis-49 (UID203)')].head()"
   ]
  },
  {
   "cell_type": "markdown",
   "metadata": {},
   "source": [
    "**Use summary_counts, not summary_rpkm for gene names.**\n",
    "\n",
    "`jmatsen@waffle:/dacb/meta4_bins/analysis/assemble_summaries$ ag Ga0081607_11219 summary_rpkm.xls | head -n 10\n",
    "jmatsen@waffle:/dacb/meta4_bins/analysis/assemble_summaries$ ag Ga0081607_11219 summary_counts.xls | head -n 10\n",
    "2015:Methylobacter-123 (UID203)         Ga0081607_11219 hypothetical protein    243652  6660    160     285587  448     89      94      4893    13\n",
    "        66994   47733   163     301     3       146     1851    26      53125   249288  21      14249   28      12      42296   23538   2778    1918      2061    217     173983  164307  398     450     1170    10410   30      344     2224    2164    1452    810     338     656     70      222       3475    1143    2672    1313    1246    930     54      23      9942    9603    2381    8196    29      49      23721   7808    33195   17291     5825    6609    36      83      40661   28629   17949   12227   15478   15054   125     1010    10214   66875   40225   944     11993   9572      56      9375`"
   ]
  },
  {
   "cell_type": "code",
   "execution_count": 29,
   "metadata": {
    "collapsed": false
   },
   "outputs": [],
   "source": [
    "genes = pd.read_csv('/dacb/meta4_bins/analysis/assemble_summaries/summary_counts.xls', sep = '\\t', usecols=[1, 2])"
   ]
  },
  {
   "cell_type": "code",
   "execution_count": 30,
   "metadata": {
    "collapsed": false
   },
   "outputs": [
    {
     "data": {
      "text/html": [
       "<div>\n",
       "<table border=\"1\" class=\"dataframe\">\n",
       "  <thead>\n",
       "    <tr style=\"text-align: right;\">\n",
       "      <th></th>\n",
       "      <th>locus_tag</th>\n",
       "      <th>product</th>\n",
       "    </tr>\n",
       "  </thead>\n",
       "  <tbody>\n",
       "    <tr>\n",
       "      <th>169834</th>\n",
       "      <td>Ga0081655_13359</td>\n",
       "      <td>sulfur compound chelating protein SoxZ</td>\n",
       "    </tr>\n",
       "    <tr>\n",
       "      <th>169835</th>\n",
       "      <td>Ga0081655_133510</td>\n",
       "      <td>thiosulfate-binding protein SoxY</td>\n",
       "    </tr>\n",
       "    <tr>\n",
       "      <th>169836</th>\n",
       "      <td>Ga0081655_133511</td>\n",
       "      <td>predicted Zn-dependent protease</td>\n",
       "    </tr>\n",
       "  </tbody>\n",
       "</table>\n",
       "</div>"
      ],
      "text/plain": [
       "               locus_tag                                 product\n",
       "169834   Ga0081655_13359  sulfur compound chelating protein SoxZ\n",
       "169835  Ga0081655_133510        thiosulfate-binding protein SoxY\n",
       "169836  Ga0081655_133511         predicted Zn-dependent protease"
      ]
     },
     "execution_count": 30,
     "metadata": {},
     "output_type": "execute_result"
    }
   ],
   "source": [
    "genes.tail(3)"
   ]
  },
  {
   "cell_type": "raw",
   "metadata": {},
   "source": [
    "genes['locus'] = genes['locus_tag'].str.extract('([A-z0-9]+)_[0-9]+')\n",
    "genes['target_gene'] = genes['locus_tag'].str.extract('[A-z0-9]+_([0-9]+)')"
   ]
  },
  {
   "cell_type": "code",
   "execution_count": 31,
   "metadata": {
    "collapsed": false
   },
   "outputs": [
    {
     "data": {
      "text/html": [
       "<div>\n",
       "<table border=\"1\" class=\"dataframe\">\n",
       "  <thead>\n",
       "    <tr style=\"text-align: right;\">\n",
       "      <th></th>\n",
       "      <th>locus_tag</th>\n",
       "      <th>product</th>\n",
       "    </tr>\n",
       "  </thead>\n",
       "  <tbody>\n",
       "    <tr>\n",
       "      <th>169832</th>\n",
       "      <td>Ga0081655_13357</td>\n",
       "      <td>alkyl hydroperoxide reductase subunit F</td>\n",
       "    </tr>\n",
       "    <tr>\n",
       "      <th>169833</th>\n",
       "      <td>Ga0081655_13358</td>\n",
       "      <td>peroxiredoxin (alkyl hydroperoxide reductase s...</td>\n",
       "    </tr>\n",
       "    <tr>\n",
       "      <th>169834</th>\n",
       "      <td>Ga0081655_13359</td>\n",
       "      <td>sulfur compound chelating protein SoxZ</td>\n",
       "    </tr>\n",
       "    <tr>\n",
       "      <th>169835</th>\n",
       "      <td>Ga0081655_133510</td>\n",
       "      <td>thiosulfate-binding protein SoxY</td>\n",
       "    </tr>\n",
       "    <tr>\n",
       "      <th>169836</th>\n",
       "      <td>Ga0081655_133511</td>\n",
       "      <td>predicted Zn-dependent protease</td>\n",
       "    </tr>\n",
       "  </tbody>\n",
       "</table>\n",
       "</div>"
      ],
      "text/plain": [
       "               locus_tag                                            product\n",
       "169832   Ga0081655_13357            alkyl hydroperoxide reductase subunit F\n",
       "169833   Ga0081655_13358  peroxiredoxin (alkyl hydroperoxide reductase s...\n",
       "169834   Ga0081655_13359             sulfur compound chelating protein SoxZ\n",
       "169835  Ga0081655_133510                   thiosulfate-binding protein SoxY\n",
       "169836  Ga0081655_133511                    predicted Zn-dependent protease"
      ]
     },
     "execution_count": 31,
     "metadata": {},
     "output_type": "execute_result"
    }
   ],
   "source": [
    "genes.tail()"
   ]
  },
  {
   "cell_type": "code",
   "execution_count": 32,
   "metadata": {
    "collapsed": false
   },
   "outputs": [
    {
     "data": {
      "text/html": [
       "<div>\n",
       "<table border=\"1\" class=\"dataframe\">\n",
       "  <thead>\n",
       "    <tr style=\"text-align: right;\">\n",
       "      <th></th>\n",
       "      <th>locus_tag</th>\n",
       "      <th>product</th>\n",
       "    </tr>\n",
       "  </thead>\n",
       "  <tbody>\n",
       "  </tbody>\n",
       "</table>\n",
       "</div>"
      ],
      "text/plain": [
       "Empty DataFrame\n",
       "Columns: [locus_tag, product]\n",
       "Index: []"
      ]
     },
     "execution_count": 32,
     "metadata": {},
     "output_type": "execute_result"
    }
   ],
   "source": [
    "genes[genes['locus_tag'] == 'FG11DRAFT_2667']"
   ]
  },
  {
   "cell_type": "code",
   "execution_count": 33,
   "metadata": {
    "collapsed": false
   },
   "outputs": [
    {
     "data": {
      "text/html": [
       "<div>\n",
       "<table border=\"1\" class=\"dataframe\">\n",
       "  <thead>\n",
       "    <tr style=\"text-align: right;\">\n",
       "      <th></th>\n",
       "      <th>locus_tag</th>\n",
       "      <th>product</th>\n",
       "    </tr>\n",
       "  </thead>\n",
       "  <tbody>\n",
       "    <tr>\n",
       "      <th>2013</th>\n",
       "      <td>Ga0081607_11219</td>\n",
       "      <td>hypothetical protein</td>\n",
       "    </tr>\n",
       "  </tbody>\n",
       "</table>\n",
       "</div>"
      ],
      "text/plain": [
       "            locus_tag               product\n",
       "2013  Ga0081607_11219  hypothetical protein"
      ]
     },
     "execution_count": 33,
     "metadata": {},
     "output_type": "execute_result"
    }
   ],
   "source": [
    "genes[genes['locus_tag'] == 'Ga0081607_11219']"
   ]
  },
  {
   "cell_type": "code",
   "execution_count": 34,
   "metadata": {
    "collapsed": false
   },
   "outputs": [
    {
     "data": {
      "text/html": [
       "<div>\n",
       "<table border=\"1\" class=\"dataframe\">\n",
       "  <thead>\n",
       "    <tr style=\"text-align: right;\">\n",
       "      <th></th>\n",
       "      <th>source</th>\n",
       "      <th>target</th>\n",
       "      <th>weight</th>\n",
       "      <th>target_organism</th>\n",
       "      <th>target_gene</th>\n",
       "      <th>source_organism</th>\n",
       "      <th>source_gene</th>\n",
       "      <th>source_organism_name</th>\n",
       "      <th>target_organism_name</th>\n",
       "    </tr>\n",
       "  </thead>\n",
       "  <tbody>\n",
       "    <tr>\n",
       "      <th>0</th>\n",
       "      <td>Ga0081607_11219</td>\n",
       "      <td>Ga0081607_115212</td>\n",
       "      <td>0.01928</td>\n",
       "      <td>Ga0081607</td>\n",
       "      <td>115212</td>\n",
       "      <td>Ga0081607</td>\n",
       "      <td>11219</td>\n",
       "      <td>Methylobacter-123 (UID203)</td>\n",
       "      <td>Methylobacter-123 (UID203)</td>\n",
       "    </tr>\n",
       "    <tr>\n",
       "      <th>1</th>\n",
       "      <td>Ga0081607_11219</td>\n",
       "      <td>Ga0081607_116221</td>\n",
       "      <td>0.01995</td>\n",
       "      <td>Ga0081607</td>\n",
       "      <td>116221</td>\n",
       "      <td>Ga0081607</td>\n",
       "      <td>11219</td>\n",
       "      <td>Methylobacter-123 (UID203)</td>\n",
       "      <td>Methylobacter-123 (UID203)</td>\n",
       "    </tr>\n",
       "  </tbody>\n",
       "</table>\n",
       "</div>"
      ],
      "text/plain": [
       "            source            target   weight target_organism target_gene  \\\n",
       "0  Ga0081607_11219  Ga0081607_115212  0.01928       Ga0081607      115212   \n",
       "1  Ga0081607_11219  Ga0081607_116221  0.01995       Ga0081607      116221   \n",
       "\n",
       "  source_organism source_gene        source_organism_name  \\\n",
       "0       Ga0081607       11219  Methylobacter-123 (UID203)   \n",
       "1       Ga0081607       11219  Methylobacter-123 (UID203)   \n",
       "\n",
       "          target_organism_name  \n",
       "0  Methylobacter-123 (UID203)   \n",
       "1  Methylobacter-123 (UID203)   "
      ]
     },
     "execution_count": 34,
     "metadata": {},
     "output_type": "execute_result"
    }
   ],
   "source": [
    "merged.head(2)"
   ]
  },
  {
   "cell_type": "code",
   "execution_count": 35,
   "metadata": {
    "collapsed": false
   },
   "outputs": [],
   "source": [
    "source_genes = genes[['locus_tag', 'product']].rename(columns={'locus_tag':'source', 'product':'source_gene_product'})\n",
    "target_genes = genes[['locus_tag', 'product']].rename(columns={'locus_tag':'target', 'product':'target_gene_product'})"
   ]
  },
  {
   "cell_type": "code",
   "execution_count": 36,
   "metadata": {
    "collapsed": false
   },
   "outputs": [
    {
     "data": {
      "text/html": [
       "<div>\n",
       "<table border=\"1\" class=\"dataframe\">\n",
       "  <thead>\n",
       "    <tr style=\"text-align: right;\">\n",
       "      <th></th>\n",
       "      <th>source</th>\n",
       "      <th>source_gene_product</th>\n",
       "    </tr>\n",
       "  </thead>\n",
       "  <tbody>\n",
       "    <tr>\n",
       "      <th>0</th>\n",
       "      <td>Ga0081607_10011</td>\n",
       "      <td>DNA gyrase B subunit, carboxyl terminus</td>\n",
       "    </tr>\n",
       "    <tr>\n",
       "      <th>1</th>\n",
       "      <td>Ga0081607_10012</td>\n",
       "      <td>Putative addiction module component</td>\n",
       "    </tr>\n",
       "  </tbody>\n",
       "</table>\n",
       "</div>"
      ],
      "text/plain": [
       "            source                      source_gene_product\n",
       "0  Ga0081607_10011  DNA gyrase B subunit, carboxyl terminus\n",
       "1  Ga0081607_10012      Putative addiction module component"
      ]
     },
     "execution_count": 36,
     "metadata": {},
     "output_type": "execute_result"
    }
   ],
   "source": [
    "source_genes.head(2)"
   ]
  },
  {
   "cell_type": "code",
   "execution_count": 37,
   "metadata": {
    "collapsed": false
   },
   "outputs": [
    {
     "data": {
      "text/plain": [
       "(2486, 7)"
      ]
     },
     "execution_count": 37,
     "metadata": {},
     "output_type": "execute_result"
    }
   ],
   "source": [
    "network.shape"
   ]
  },
  {
   "cell_type": "code",
   "execution_count": 38,
   "metadata": {
    "collapsed": false
   },
   "outputs": [
    {
     "data": {
      "text/plain": [
       "(2486, 9)"
      ]
     },
     "execution_count": 38,
     "metadata": {},
     "output_type": "execute_result"
    }
   ],
   "source": [
    "merged.shape"
   ]
  },
  {
   "cell_type": "code",
   "execution_count": 39,
   "metadata": {
    "collapsed": false
   },
   "outputs": [],
   "source": [
    "merged = pd.merge(merged, source_genes)"
   ]
  },
  {
   "cell_type": "code",
   "execution_count": 40,
   "metadata": {
    "collapsed": false
   },
   "outputs": [
    {
     "data": {
      "text/plain": [
       "(2486, 10)"
      ]
     },
     "execution_count": 40,
     "metadata": {},
     "output_type": "execute_result"
    }
   ],
   "source": [
    "merged.shape"
   ]
  },
  {
   "cell_type": "code",
   "execution_count": 41,
   "metadata": {
    "collapsed": true
   },
   "outputs": [],
   "source": [
    "merged = pd.merge(merged, target_genes)"
   ]
  },
  {
   "cell_type": "code",
   "execution_count": 42,
   "metadata": {
    "collapsed": false
   },
   "outputs": [
    {
     "data": {
      "text/plain": [
       "(2486, 11)"
      ]
     },
     "execution_count": 42,
     "metadata": {},
     "output_type": "execute_result"
    }
   ],
   "source": [
    "merged.shape"
   ]
  },
  {
   "cell_type": "code",
   "execution_count": 43,
   "metadata": {
    "collapsed": false
   },
   "outputs": [
    {
     "data": {
      "text/html": [
       "<div>\n",
       "<table border=\"1\" class=\"dataframe\">\n",
       "  <thead>\n",
       "    <tr style=\"text-align: right;\">\n",
       "      <th></th>\n",
       "      <th>source</th>\n",
       "      <th>target</th>\n",
       "      <th>weight</th>\n",
       "      <th>target_organism</th>\n",
       "      <th>target_gene</th>\n",
       "      <th>source_organism</th>\n",
       "      <th>source_gene</th>\n",
       "      <th>source_organism_name</th>\n",
       "      <th>target_organism_name</th>\n",
       "      <th>source_gene_product</th>\n",
       "      <th>target_gene_product</th>\n",
       "    </tr>\n",
       "  </thead>\n",
       "  <tbody>\n",
       "    <tr>\n",
       "      <th>0</th>\n",
       "      <td>Ga0081607_11219</td>\n",
       "      <td>Ga0081607_115212</td>\n",
       "      <td>0.01928</td>\n",
       "      <td>Ga0081607</td>\n",
       "      <td>115212</td>\n",
       "      <td>Ga0081607</td>\n",
       "      <td>11219</td>\n",
       "      <td>Methylobacter-123 (UID203)</td>\n",
       "      <td>Methylobacter-123 (UID203)</td>\n",
       "      <td>hypothetical protein</td>\n",
       "      <td>flagellar protein FlaG</td>\n",
       "    </tr>\n",
       "    <tr>\n",
       "      <th>1</th>\n",
       "      <td>Ga0081607_115213</td>\n",
       "      <td>Ga0081607_115212</td>\n",
       "      <td>0.02512</td>\n",
       "      <td>Ga0081607</td>\n",
       "      <td>115212</td>\n",
       "      <td>Ga0081607</td>\n",
       "      <td>115213</td>\n",
       "      <td>Methylobacter-123 (UID203)</td>\n",
       "      <td>Methylobacter-123 (UID203)</td>\n",
       "      <td>flagellin</td>\n",
       "      <td>flagellar protein FlaG</td>\n",
       "    </tr>\n",
       "  </tbody>\n",
       "</table>\n",
       "</div>"
      ],
      "text/plain": [
       "             source            target   weight target_organism target_gene  \\\n",
       "0   Ga0081607_11219  Ga0081607_115212  0.01928       Ga0081607      115212   \n",
       "1  Ga0081607_115213  Ga0081607_115212  0.02512       Ga0081607      115212   \n",
       "\n",
       "  source_organism source_gene        source_organism_name  \\\n",
       "0       Ga0081607       11219  Methylobacter-123 (UID203)   \n",
       "1       Ga0081607      115213  Methylobacter-123 (UID203)   \n",
       "\n",
       "          target_organism_name   source_gene_product     target_gene_product  \n",
       "0  Methylobacter-123 (UID203)   hypothetical protein  flagellar protein FlaG  \n",
       "1  Methylobacter-123 (UID203)              flagellin  flagellar protein FlaG  "
      ]
     },
     "execution_count": 43,
     "metadata": {},
     "output_type": "execute_result"
    }
   ],
   "source": [
    "merged.head(2)"
   ]
  },
  {
   "cell_type": "code",
   "execution_count": 44,
   "metadata": {
    "collapsed": false
   },
   "outputs": [
    {
     "data": {
      "text/html": [
       "<div>\n",
       "<table border=\"1\" class=\"dataframe\">\n",
       "  <thead>\n",
       "    <tr style=\"text-align: right;\">\n",
       "      <th></th>\n",
       "      <th>source</th>\n",
       "      <th>target</th>\n",
       "      <th>weight</th>\n",
       "      <th>target_organism</th>\n",
       "      <th>target_gene</th>\n",
       "      <th>source_organism</th>\n",
       "      <th>source_gene</th>\n",
       "      <th>source_organism_name</th>\n",
       "      <th>target_organism_name</th>\n",
       "      <th>source_gene_product</th>\n",
       "      <th>target_gene_product</th>\n",
       "    </tr>\n",
       "  </thead>\n",
       "  <tbody>\n",
       "    <tr>\n",
       "      <th>0</th>\n",
       "      <td>Ga0081607_11219</td>\n",
       "      <td>Ga0081607_115212</td>\n",
       "      <td>0.01928</td>\n",
       "      <td>Ga0081607</td>\n",
       "      <td>115212</td>\n",
       "      <td>Ga0081607</td>\n",
       "      <td>11219</td>\n",
       "      <td>Methylobacter-123 (UID203)</td>\n",
       "      <td>Methylobacter-123 (UID203)</td>\n",
       "      <td>hypothetical protein</td>\n",
       "      <td>flagellar protein FlaG</td>\n",
       "    </tr>\n",
       "    <tr>\n",
       "      <th>1</th>\n",
       "      <td>Ga0081607_115213</td>\n",
       "      <td>Ga0081607_115212</td>\n",
       "      <td>0.02512</td>\n",
       "      <td>Ga0081607</td>\n",
       "      <td>115212</td>\n",
       "      <td>Ga0081607</td>\n",
       "      <td>115213</td>\n",
       "      <td>Methylobacter-123 (UID203)</td>\n",
       "      <td>Methylobacter-123 (UID203)</td>\n",
       "      <td>flagellin</td>\n",
       "      <td>flagellar protein FlaG</td>\n",
       "    </tr>\n",
       "    <tr>\n",
       "      <th>2</th>\n",
       "      <td>Ga0081607_109111</td>\n",
       "      <td>Ga0081607_115212</td>\n",
       "      <td>0.01954</td>\n",
       "      <td>Ga0081607</td>\n",
       "      <td>115212</td>\n",
       "      <td>Ga0081607</td>\n",
       "      <td>109111</td>\n",
       "      <td>Methylobacter-123 (UID203)</td>\n",
       "      <td>Methylobacter-123 (UID203)</td>\n",
       "      <td>bacterial nucleoid protein HU beta subunit</td>\n",
       "      <td>flagellar protein FlaG</td>\n",
       "    </tr>\n",
       "  </tbody>\n",
       "</table>\n",
       "</div>"
      ],
      "text/plain": [
       "             source            target   weight target_organism target_gene  \\\n",
       "0   Ga0081607_11219  Ga0081607_115212  0.01928       Ga0081607      115212   \n",
       "1  Ga0081607_115213  Ga0081607_115212  0.02512       Ga0081607      115212   \n",
       "2  Ga0081607_109111  Ga0081607_115212  0.01954       Ga0081607      115212   \n",
       "\n",
       "  source_organism source_gene        source_organism_name  \\\n",
       "0       Ga0081607       11219  Methylobacter-123 (UID203)   \n",
       "1       Ga0081607      115213  Methylobacter-123 (UID203)   \n",
       "2       Ga0081607      109111  Methylobacter-123 (UID203)   \n",
       "\n",
       "          target_organism_name                         source_gene_product  \\\n",
       "0  Methylobacter-123 (UID203)                         hypothetical protein   \n",
       "1  Methylobacter-123 (UID203)                                    flagellin   \n",
       "2  Methylobacter-123 (UID203)   bacterial nucleoid protein HU beta subunit   \n",
       "\n",
       "      target_gene_product  \n",
       "0  flagellar protein FlaG  \n",
       "1  flagellar protein FlaG  \n",
       "2  flagellar protein FlaG  "
      ]
     },
     "execution_count": 44,
     "metadata": {},
     "output_type": "execute_result"
    }
   ],
   "source": [
    "merged.head(3)"
   ]
  },
  {
   "cell_type": "code",
   "execution_count": 45,
   "metadata": {
    "collapsed": false
   },
   "outputs": [
    {
     "name": "stderr",
     "output_type": "stream",
     "text": [
      "/home/jmatsen/miniconda2/envs/neo4j/lib/python2.7/site-packages/ipykernel/__main__.py:2: FutureWarning: sort(columns=....) is deprecated, use sort_values(by=.....)\n",
      "  from ipykernel import kernelapp as app\n"
     ]
    }
   ],
   "source": [
    "merged['sort'] = merged.weight.abs()\n",
    "merged = merged.sort(columns='sort', ascending=False).drop('sort', axis=1)"
   ]
  },
  {
   "cell_type": "code",
   "execution_count": 46,
   "metadata": {
    "collapsed": false
   },
   "outputs": [
    {
     "data": {
      "text/plain": [
       "count    2486.000000\n",
       "mean        0.020346\n",
       "std         0.016258\n",
       "min        -0.041380\n",
       "25%         0.020020\n",
       "50%         0.022290\n",
       "75%         0.026930\n",
       "max         0.074740\n",
       "Name: weight, dtype: float64"
      ]
     },
     "execution_count": 46,
     "metadata": {},
     "output_type": "execute_result"
    }
   ],
   "source": [
    "merged['weight'].describe()"
   ]
  },
  {
   "cell_type": "code",
   "execution_count": 47,
   "metadata": {
    "collapsed": false
   },
   "outputs": [
    {
     "data": {
      "text/html": [
       "<div>\n",
       "<table border=\"1\" class=\"dataframe\">\n",
       "  <thead>\n",
       "    <tr style=\"text-align: right;\">\n",
       "      <th></th>\n",
       "      <th>source</th>\n",
       "      <th>target</th>\n",
       "      <th>weight</th>\n",
       "      <th>target_organism</th>\n",
       "      <th>target_gene</th>\n",
       "      <th>source_organism</th>\n",
       "      <th>source_gene</th>\n",
       "      <th>source_organism_name</th>\n",
       "      <th>target_organism_name</th>\n",
       "      <th>source_gene_product</th>\n",
       "      <th>target_gene_product</th>\n",
       "    </tr>\n",
       "  </thead>\n",
       "  <tbody>\n",
       "    <tr>\n",
       "      <th>417</th>\n",
       "      <td>Ga0081607_113410</td>\n",
       "      <td>Ga0081607_10311</td>\n",
       "      <td>0.07474</td>\n",
       "      <td>Ga0081607</td>\n",
       "      <td>10311</td>\n",
       "      <td>Ga0081607</td>\n",
       "      <td>113410</td>\n",
       "      <td>Methylobacter-123 (UID203)</td>\n",
       "      <td>Methylobacter-123 (UID203)</td>\n",
       "      <td>hypothetical protein</td>\n",
       "      <td>hypothetical protein</td>\n",
       "    </tr>\n",
       "    <tr>\n",
       "      <th>1808</th>\n",
       "      <td>Ga0081607_10311</td>\n",
       "      <td>Ga0081607_113410</td>\n",
       "      <td>0.07474</td>\n",
       "      <td>Ga0081607</td>\n",
       "      <td>113410</td>\n",
       "      <td>Ga0081607</td>\n",
       "      <td>10311</td>\n",
       "      <td>Methylobacter-123 (UID203)</td>\n",
       "      <td>Methylobacter-123 (UID203)</td>\n",
       "      <td>hypothetical protein</td>\n",
       "      <td>hypothetical protein</td>\n",
       "    </tr>\n",
       "  </tbody>\n",
       "</table>\n",
       "</div>"
      ],
      "text/plain": [
       "                source            target   weight target_organism target_gene  \\\n",
       "417   Ga0081607_113410   Ga0081607_10311  0.07474       Ga0081607       10311   \n",
       "1808   Ga0081607_10311  Ga0081607_113410  0.07474       Ga0081607      113410   \n",
       "\n",
       "     source_organism source_gene        source_organism_name  \\\n",
       "417        Ga0081607      113410  Methylobacter-123 (UID203)   \n",
       "1808       Ga0081607       10311  Methylobacter-123 (UID203)   \n",
       "\n",
       "             target_organism_name   source_gene_product   target_gene_product  \n",
       "417   Methylobacter-123 (UID203)   hypothetical protein  hypothetical protein  \n",
       "1808  Methylobacter-123 (UID203)   hypothetical protein  hypothetical protein  "
      ]
     },
     "execution_count": 47,
     "metadata": {},
     "output_type": "execute_result"
    }
   ],
   "source": [
    "merged.head(2)"
   ]
  },
  {
   "cell_type": "code",
   "execution_count": 48,
   "metadata": {
    "collapsed": false
   },
   "outputs": [
    {
     "data": {
      "text/plain": [
       "array(['hypothetical protein', 'type IV pilus assembly protein PilA',\n",
       "       'LSU ribosomal protein L35P',\n",
       "       'nitric oxide reductase, NorC subunit apoprotein'], dtype=object)"
      ]
     },
     "execution_count": 48,
     "metadata": {},
     "output_type": "execute_result"
    }
   ],
   "source": [
    "merged['source_gene_product'].unique()[0:4]"
   ]
  },
  {
   "cell_type": "code",
   "execution_count": 49,
   "metadata": {
    "collapsed": true
   },
   "outputs": [],
   "source": [
    "filename = 'Methylobacter-123--Methylotenera_mobilis-49_network'"
   ]
  },
  {
   "cell_type": "code",
   "execution_count": 50,
   "metadata": {
    "collapsed": false
   },
   "outputs": [
    {
     "name": "stdout",
     "output_type": "stream",
     "text": [
      "gene_names.tsv\t\t      network_broken.csv  network_with_info.txt\r\n",
      "Methylobacter--Methylotenera  network_broken.tsv\r\n",
      "network_broken_20.csv\t      network.txt\r\n"
     ]
    }
   ],
   "source": [
    "! ls ../data"
   ]
  },
  {
   "cell_type": "code",
   "execution_count": 51,
   "metadata": {
    "collapsed": false
   },
   "outputs": [
    {
     "name": "stdout",
     "output_type": "stream",
     "text": [
      "mkdir: cannot create directory ‘../data/Methylobacter--Methylotenera’: File exists\r\n"
     ]
    }
   ],
   "source": [
    "! mkdir ../data/Methylobacter--Methylotenera"
   ]
  },
  {
   "cell_type": "code",
   "execution_count": 52,
   "metadata": {
    "collapsed": true
   },
   "outputs": [],
   "source": [
    "dirname = '../data/Methylobacter--Methylotenera/' "
   ]
  },
  {
   "cell_type": "code",
   "execution_count": 53,
   "metadata": {
    "collapsed": true
   },
   "outputs": [],
   "source": [
    "merged.to_csv(dirname + filename + '.tsv', sep='\\t')"
   ]
  },
  {
   "cell_type": "code",
   "execution_count": 54,
   "metadata": {
    "collapsed": true
   },
   "outputs": [],
   "source": [
    "# The CSV isn't a good idea because of the gene names. \n",
    "#merged.to_csv(dirname + filename + '.csv')"
   ]
  },
  {
   "cell_type": "code",
   "execution_count": 55,
   "metadata": {
    "collapsed": false
   },
   "outputs": [],
   "source": [
    "merged.head(100).to_csv(dirname + filename + '--100' + '.tsv', sep='\\t')"
   ]
  },
  {
   "cell_type": "code",
   "execution_count": 56,
   "metadata": {
    "collapsed": false
   },
   "outputs": [
    {
     "data": {
      "text/plain": [
       "(2486, 11)"
      ]
     },
     "execution_count": 56,
     "metadata": {},
     "output_type": "execute_result"
    }
   ],
   "source": [
    "merged.shape"
   ]
  },
  {
   "cell_type": "code",
   "execution_count": 57,
   "metadata": {
    "collapsed": false
   },
   "outputs": [],
   "source": [
    "top_genes = list(merged['source_gene_product'].unique()[0:3]) + list(merged['target_gene_product'].unique()[0:3])"
   ]
  },
  {
   "cell_type": "code",
   "execution_count": 58,
   "metadata": {
    "collapsed": false
   },
   "outputs": [],
   "source": [
    "has_top_genes = merged[(merged['source_gene_product'].isin(top_genes)) | (merged['target_gene_product'].isin(top_genes))]"
   ]
  },
  {
   "cell_type": "code",
   "execution_count": 59,
   "metadata": {
    "collapsed": false
   },
   "outputs": [
    {
     "data": {
      "text/plain": [
       "(1268, 11)"
      ]
     },
     "execution_count": 59,
     "metadata": {},
     "output_type": "execute_result"
    }
   ],
   "source": [
    "has_top_genes.shape"
   ]
  },
  {
   "cell_type": "code",
   "execution_count": 60,
   "metadata": {
    "collapsed": false
   },
   "outputs": [],
   "source": [
    "has_top_genes.to_csv(dirname + filename + '--some_top_genes--1268_rows' + '.tsv', sep='\\t')"
   ]
  }
 ],
 "metadata": {
  "anaconda-cloud": {},
  "kernelspec": {
   "display_name": "Python [conda env:neo4j]",
   "language": "python",
   "name": "conda-env-neo4j-py"
  },
  "language_info": {
   "codemirror_mode": {
    "name": "ipython",
    "version": 2
   },
   "file_extension": ".py",
   "mimetype": "text/x-python",
   "name": "python",
   "nbconvert_exporter": "python",
   "pygments_lexer": "ipython2",
   "version": "2.7.12"
  }
 },
 "nbformat": 4,
 "nbformat_minor": 1
}
