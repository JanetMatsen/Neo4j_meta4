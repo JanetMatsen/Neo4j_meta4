{
 "cells": [
  {
   "cell_type": "code",
   "execution_count": null,
   "metadata": {
    "collapsed": false
   },
   "outputs": [],
   "source": [
    "import os\n",
    "import pandas as pd\n",
    "import re\n",
    "import subprocess\n",
    "import sys\n",
    "import matplotlib as mpl\n",
    "mpl.use('Agg') \n",
    "import matplotlib.pyplot as plt\n",
    "import numpy as np\n",
    "import seaborn as sns\n",
    "\n",
    "%matplotlib inline"
   ]
  },
  {
   "cell_type": "code",
   "execution_count": null,
   "metadata": {
    "collapsed": false
   },
   "outputs": [],
   "source": [
    "sys.path.append('../code/')\n",
    "\n",
    "from database_comparisons import Database, DatabaseComparison\n",
    "from connected_component import ConnectedComponentsDB"
   ]
  },
  {
   "cell_type": "code",
   "execution_count": null,
   "metadata": {
    "collapsed": true
   },
   "outputs": [],
   "source": [
    "# for Waffle, until the default Java is set to 8:\n",
    "#java=\"/usr/lib/jvm/java-8-oracle/jre/bin/java\"\n",
    "# for badger, set java = 'java'\n",
    "java='java'"
   ]
  },
  {
   "cell_type": "code",
   "execution_count": null,
   "metadata": {
    "collapsed": false
   },
   "outputs": [],
   "source": [
    "! pwd"
   ]
  },
  {
   "cell_type": "code",
   "execution_count": null,
   "metadata": {
    "collapsed": false
   },
   "outputs": [],
   "source": [
    "! ls -l ../jars/*.jar"
   ]
  },
  {
   "cell_type": "raw",
   "metadata": {
    "collapsed": false
   },
   "source": [
    "! ls -l ../data_mining_Neo4j_v2_3_2/databases/"
   ]
  },
  {
   "cell_type": "code",
   "execution_count": null,
   "metadata": {
    "collapsed": false
   },
   "outputs": [],
   "source": [
    "files = os.listdir('../data_mining_Neo4j_v2_3_2/databases')\n",
    "files = [f for f in files if 'db_50M_' in f and '.tsv' in f]\n",
    "files"
   ]
  },
  {
   "cell_type": "code",
   "execution_count": null,
   "metadata": {
    "collapsed": false
   },
   "outputs": [],
   "source": [
    "import seaborn as sns; sns.set()\n",
    "flights_orig = sns.load_dataset(\"flights\")\n",
    "flights = flights_orig.pivot(\"month\", \"year\", \"passengers\")\n",
    "g = sns.clustermap(flights)"
   ]
  },
  {
   "cell_type": "code",
   "execution_count": null,
   "metadata": {
    "collapsed": false
   },
   "outputs": [],
   "source": [
    "flights_orig.head(3)"
   ]
  },
  {
   "cell_type": "code",
   "execution_count": null,
   "metadata": {
    "collapsed": false
   },
   "outputs": [],
   "source": [
    "flights_orig.pivot(\"month\", \"year\", \"passengers\").head(3)"
   ]
  },
  {
   "cell_type": "code",
   "execution_count": null,
   "metadata": {
    "collapsed": false
   },
   "outputs": [],
   "source": [
    "ccdb = ConnectedComponentsDB(cutoff=0.02, desc_string='50M')"
   ]
  },
  {
   "cell_type": "code",
   "execution_count": null,
   "metadata": {
    "collapsed": false
   },
   "outputs": [],
   "source": [
    "    def heatmap_of_organisms_appearance_in_components(self):\n",
    "        #print(self.node_df.columns)\n",
    "        g = self.node_df.groupby(['ConnectedComponents', 'organism']).organism #.count()\n",
    "        for t, d in g:\n",
    "            #print(t)\n",
    "            pass\n",
    "        g2 = pd.DataFrame(g.count())\n",
    "        print(g2.columns)\n",
    "        g2.rename(columns={'organism':'count(organism)'}, inplace=True)\n",
    "        g2.reset_index(['ConnectedComponents'], inplace=True)\n",
    "        g2.index= g2.index.str.replace('[ ]+\\(UID[0-9]+\\)', '')\n",
    "        return g2"
   ]
  },
  {
   "cell_type": "code",
   "execution_count": null,
   "metadata": {
    "collapsed": false
   },
   "outputs": [],
   "source": [
    "heatmap_of_organisms_appearance_in_components(ccdb) #.index.str.replace('[ ]+\\(UID[0-9]+\\)', '')"
   ]
  },
  {
   "cell_type": "code",
   "execution_count": null,
   "metadata": {
    "collapsed": false
   },
   "outputs": [],
   "source": [
    "sns.palplot(sns.cubehelix_palette(start=2.8, rot=.1, light=1, dark=0))"
   ]
  },
  {
   "cell_type": "code",
   "execution_count": null,
   "metadata": {
    "collapsed": false
   },
   "outputs": [],
   "source": [
    "sns.palplot(sns.cubehelix_palette(start=2.8, rot=.01, light=1, dark=0))"
   ]
  },
  {
   "cell_type": "code",
   "execution_count": null,
   "metadata": {
    "collapsed": false
   },
   "outputs": [],
   "source": [
    "d = pd.DataFrame(heatmap_of_organisms_appearance_in_components(ccdb))\n",
    "dp = d.pivot(columns='ConnectedComponents', values='count(organism)').fillna(0)\n",
    "#dp #.min()\n",
    "pal = sns.cubehelix_palette(start=2.8, rot=.1, light=1, dark=0, as_cmap=True) #sns.dark_palette(\"palegreen\", as_cmap=True)\n",
    "g = sns.clustermap(dp, cmap=pal) #.reset_index()\n",
    "plt.setp(g.ax_heatmap.get_yticklabels(), rotation=0)\n",
    "plt.setp(g.ax_heatmap.get_xticklabels(), rotation=90)\n",
    "g\n",
    "#plt.setp(dp.ax_heatmap.yaxis.get_majorticklabels(), rotation=0)"
   ]
  },
  {
   "cell_type": "code",
   "execution_count": null,
   "metadata": {
    "collapsed": false
   },
   "outputs": [],
   "source": [
    "p = ccdb.heatmap_of_organisms_appearance_in_components()"
   ]
  },
  {
   "cell_type": "code",
   "execution_count": null,
   "metadata": {
    "collapsed": true
   },
   "outputs": [],
   "source": [
    "fname = './161213_heatmap_cutof_0.02'\n",
    "p.savefig(fname + '.pdf')\n",
    "dpi=300\n",
    "#p.savefig(fname + '_{}_dpi.png'.format(dpi), dpi=dpi)"
   ]
  },
  {
   "cell_type": "code",
   "execution_count": null,
   "metadata": {
    "collapsed": false
   },
   "outputs": [],
   "source": [
    "hs = ccdb.histogram_of_species()"
   ]
  },
  {
   "cell_type": "code",
   "execution_count": null,
   "metadata": {
    "collapsed": true
   },
   "outputs": [],
   "source": []
  }
 ],
 "metadata": {
  "anaconda-cloud": {},
  "kernelspec": {
   "display_name": "Python 2",
   "language": "python",
   "name": "python2"
  },
  "language_info": {
   "codemirror_mode": {
    "name": "ipython",
    "version": 2
   },
   "file_extension": ".py",
   "mimetype": "text/x-python",
   "name": "python",
   "nbconvert_exporter": "python",
   "pygments_lexer": "ipython2",
   "version": "2.7.11"
  }
 },
 "nbformat": 4,
 "nbformat_minor": 1
}
