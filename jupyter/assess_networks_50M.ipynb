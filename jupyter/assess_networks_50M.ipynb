{
 "cells": [
  {
   "cell_type": "code",
   "execution_count": 1,
   "metadata": {
    "collapsed": false
   },
   "outputs": [],
   "source": [
    "from collections import Counter\n",
    "import glob\n",
    "import pandas as pd\n",
    "import re\n",
    "import subprocess\n",
    "import matplotlib as mpl\n",
    "mpl.use('Agg') \n",
    "import matplotlib.pyplot as plt\n",
    "import seaborn as sns\n",
    "\n",
    "%matplotlib inline"
   ]
  },
  {
   "cell_type": "markdown",
   "metadata": {
    "collapsed": true
   },
   "source": [
    "## Analyze one csv:"
   ]
  },
  {
   "cell_type": "code",
   "execution_count": 2,
   "metadata": {
    "collapsed": false
   },
   "outputs": [
    {
     "name": "stdout",
     "output_type": "stream",
     "text": [
      "../data_mining_Neo4j_v2_3_2/databases/db_binary_0.010000.tsv\n",
      "../data_mining_Neo4j_v2_3_2/databases/db_binary_0.020000.tsv\n",
      "../data_mining_Neo4j_v2_3_2/databases/db_binary_0.030000.tsv\n",
      "../data_mining_Neo4j_v2_3_2/databases/db_binary_0.040000.tsv\n",
      "../data_mining_Neo4j_v2_3_2/databases/db_binary_0.050000.tsv\n",
      "../data_mining_Neo4j_v2_3_2/databases/db_binary_0.060000.tsv\n",
      "../data_mining_Neo4j_v2_3_2/databases/db_binary_0.070000.tsv\n"
     ]
    }
   ],
   "source": [
    "tsv_files = []\n",
    "for filename in glob.iglob('../data_mining_Neo4j_v2_3_2/databases/*.tsv'):\n",
    "    print(filename)\n",
    "    tsv_files.append(filename)"
   ]
  },
  {
   "cell_type": "code",
   "execution_count": 3,
   "metadata": {
    "collapsed": false
   },
   "outputs": [],
   "source": [
    "cc = pd.read_csv(tsv_files[0], \n",
    "                 usecols=[1, 2, 3, 4], \n",
    "                 sep='\\t')"
   ]
  },
  {
   "cell_type": "code",
   "execution_count": 4,
   "metadata": {
    "collapsed": false
   },
   "outputs": [
    {
     "data": {
      "text/html": [
       "<div>\n",
       "<table border=\"1\" class=\"dataframe\">\n",
       "  <thead>\n",
       "    <tr style=\"text-align: right;\">\n",
       "      <th></th>\n",
       "      <th>organism</th>\n",
       "      <th>gene</th>\n",
       "      <th>gene_product</th>\n",
       "      <th>ConnectedComponents</th>\n",
       "    </tr>\n",
       "  </thead>\n",
       "  <tbody>\n",
       "    <tr>\n",
       "      <th>0</th>\n",
       "      <td>Methylobacter-123 (UID203)</td>\n",
       "      <td>113410</td>\n",
       "      <td>hypothetical protein</td>\n",
       "      <td>0</td>\n",
       "    </tr>\n",
       "    <tr>\n",
       "      <th>1</th>\n",
       "      <td>Methylobacter-123 (UID203)</td>\n",
       "      <td>10311</td>\n",
       "      <td>hypothetical protein</td>\n",
       "      <td>0</td>\n",
       "    </tr>\n",
       "    <tr>\n",
       "      <th>2</th>\n",
       "      <td>Methylotenera mobilis-49 (UID203)</td>\n",
       "      <td>11135</td>\n",
       "      <td>hypothetical protein</td>\n",
       "      <td>0</td>\n",
       "    </tr>\n",
       "    <tr>\n",
       "      <th>3</th>\n",
       "      <td>Methylotenera mobilis-49 (UID203)</td>\n",
       "      <td>10266</td>\n",
       "      <td>type IV pilus assembly protein PilA</td>\n",
       "      <td>0</td>\n",
       "    </tr>\n",
       "    <tr>\n",
       "      <th>4</th>\n",
       "      <td>Methylotenera mobilis-49 (UID203)</td>\n",
       "      <td>12085</td>\n",
       "      <td>hypothetical protein</td>\n",
       "      <td>0</td>\n",
       "    </tr>\n",
       "  </tbody>\n",
       "</table>\n",
       "</div>"
      ],
      "text/plain": [
       "                            organism    gene  \\\n",
       "0         Methylobacter-123 (UID203)  113410   \n",
       "1         Methylobacter-123 (UID203)   10311   \n",
       "2  Methylotenera mobilis-49 (UID203)   11135   \n",
       "3  Methylotenera mobilis-49 (UID203)   10266   \n",
       "4  Methylotenera mobilis-49 (UID203)   12085   \n",
       "\n",
       "                          gene_product  ConnectedComponents  \n",
       "0                 hypothetical protein                    0  \n",
       "1                 hypothetical protein                    0  \n",
       "2                 hypothetical protein                    0  \n",
       "3  type IV pilus assembly protein PilA                    0  \n",
       "4                 hypothetical protein                    0  "
      ]
     },
     "execution_count": 4,
     "metadata": {},
     "output_type": "execute_result"
    }
   ],
   "source": [
    "cc.head()"
   ]
  },
  {
   "cell_type": "code",
   "execution_count": 5,
   "metadata": {
    "collapsed": true
   },
   "outputs": [],
   "source": [
    "def assess_connected_components_tsv(tsv):\n",
    "    results = dict()\n",
    "    \n",
    "    # general characteristics:\n",
    "    results['# nodes in cc'] = tsv.shape[0]  # number of nodes in connected components\n",
    "    results['# organisms in cc'] = len(tsv['organism'].unique().tolist())\n",
    "    \n",
    "    num_components = len(tsv['ConnectedComponents'].unique().tolist())\n",
    "    print(\"num unique connected components: {}\".format(num_components))\n",
    "    results['# of components'] = num_components\n",
    "    \n",
    "    results['organism counts'] = dict(Counter(tsv['organism'])) #dict(Counter(tsv['organism']))\n",
    "    \n",
    "    return results\n"
   ]
  },
  {
   "cell_type": "code",
   "execution_count": 6,
   "metadata": {
    "collapsed": true
   },
   "outputs": [],
   "source": [
    "def assess_connected_components_tsvs(cc_files):\n",
    "    summary = pd.DataFrame()\n",
    "    for cc in cc_files:\n",
    "        tsv = pd.read_csv(cc, usecols=[1, 2, 3, 4], sep='\\t')\n",
    "        print(tsv.shape)\n",
    "        info_dict = assess_connected_components_tsv(tsv)\n",
    "        \n",
    "        # get file name\n",
    "        m = re.search('/(db_binary_[.0-9]+.tsv)', cc) #.groups(1)\n",
    "        info_dict['file'] = m.group(1)\n",
    "        \n",
    "        # get ready for Pandas\n",
    "        for k, v in info_dict.items():\n",
    "            info_dict[k] = [v]\n",
    "        print(info_dict)\n",
    "        info_df_row = pd.DataFrame(info_dict)\n",
    "        summary = pd.concat([summary, info_df_row], axis=0)\n",
    "        print('summary shape: {}'.format(summary.shape))\n",
    "    print(summary)\n",
    "    print(summary.shape[0])\n",
    "    return summary"
   ]
  },
  {
   "cell_type": "code",
   "execution_count": 7,
   "metadata": {
    "collapsed": false
   },
   "outputs": [
    {
     "name": "stdout",
     "output_type": "stream",
     "text": [
      "(228, 4)\n",
      "num unique connected components: 3\n",
      "{'# of components': [3], 'file': ['db_binary_0.010000.tsv'], 'organism counts': [{'Methylotenera mobilis-49 (UID203)': 24, 'Methylobacter-123 (UID203)': 204}], '# nodes in cc': [228], '# organisms in cc': [2]}\n",
      "summary shape: (1, 5)\n",
      "(215, 4)\n",
      "num unique connected components: 3\n",
      "{'# of components': [3], 'file': ['db_binary_0.020000.tsv'], 'organism counts': [{'Methylotenera mobilis-49 (UID203)': 24, 'Methylobacter-123 (UID203)': 191}], '# nodes in cc': [215], '# organisms in cc': [2]}\n",
      "summary shape: (2, 5)\n",
      "(79, 4)\n",
      "num unique connected components: 6\n",
      "{'# of components': [6], 'file': ['db_binary_0.030000.tsv'], 'organism counts': [{'Methylotenera mobilis-49 (UID203)': 23, 'Methylobacter-123 (UID203)': 56}], '# nodes in cc': [79], '# organisms in cc': [2]}\n",
      "summary shape: (3, 5)\n",
      "(36, 4)\n",
      "num unique connected components: 6\n",
      "{'# of components': [6], 'file': ['db_binary_0.040000.tsv'], 'organism counts': [{'Methylotenera mobilis-49 (UID203)': 18, 'Methylobacter-123 (UID203)': 18}], '# nodes in cc': [36], '# organisms in cc': [2]}\n",
      "summary shape: (4, 5)\n",
      "(12, 4)\n",
      "num unique connected components: 4\n",
      "{'# of components': [4], 'file': ['db_binary_0.050000.tsv'], 'organism counts': [{'Methylotenera mobilis-49 (UID203)': 7, 'Methylobacter-123 (UID203)': 5}], '# nodes in cc': [12], '# organisms in cc': [2]}\n",
      "summary shape: (5, 5)\n",
      "(10, 4)\n",
      "num unique connected components: 4\n",
      "{'# of components': [4], 'file': ['db_binary_0.060000.tsv'], 'organism counts': [{'Methylotenera mobilis-49 (UID203)': 6, 'Methylobacter-123 (UID203)': 4}], '# nodes in cc': [10], '# organisms in cc': [2]}\n",
      "summary shape: (6, 5)\n",
      "(4, 4)\n",
      "num unique connected components: 2\n",
      "{'# of components': [2], 'file': ['db_binary_0.070000.tsv'], 'organism counts': [{'Methylotenera mobilis-49 (UID203)': 2, 'Methylobacter-123 (UID203)': 2}], '# nodes in cc': [4], '# organisms in cc': [2]}\n",
      "summary shape: (7, 5)\n",
      "   # nodes in cc  # of components  # organisms in cc                    file  \\\n",
      "0            228                3                  2  db_binary_0.010000.tsv   \n",
      "0            215                3                  2  db_binary_0.020000.tsv   \n",
      "0             79                6                  2  db_binary_0.030000.tsv   \n",
      "0             36                6                  2  db_binary_0.040000.tsv   \n",
      "0             12                4                  2  db_binary_0.050000.tsv   \n",
      "0             10                4                  2  db_binary_0.060000.tsv   \n",
      "0              4                2                  2  db_binary_0.070000.tsv   \n",
      "\n",
      "                                     organism counts  \n",
      "0  {'Methylotenera mobilis-49 (UID203)': 24, 'Met...  \n",
      "0  {'Methylotenera mobilis-49 (UID203)': 24, 'Met...  \n",
      "0  {'Methylotenera mobilis-49 (UID203)': 23, 'Met...  \n",
      "0  {'Methylotenera mobilis-49 (UID203)': 18, 'Met...  \n",
      "0  {'Methylotenera mobilis-49 (UID203)': 7, 'Meth...  \n",
      "0  {'Methylotenera mobilis-49 (UID203)': 6, 'Meth...  \n",
      "0  {'Methylotenera mobilis-49 (UID203)': 2, 'Meth...  \n",
      "7\n"
     ]
    },
    {
     "data": {
      "text/html": [
       "<div>\n",
       "<table border=\"1\" class=\"dataframe\">\n",
       "  <thead>\n",
       "    <tr style=\"text-align: right;\">\n",
       "      <th></th>\n",
       "      <th># nodes in cc</th>\n",
       "      <th># of components</th>\n",
       "      <th># organisms in cc</th>\n",
       "      <th>file</th>\n",
       "      <th>organism counts</th>\n",
       "    </tr>\n",
       "  </thead>\n",
       "  <tbody>\n",
       "    <tr>\n",
       "      <th>0</th>\n",
       "      <td>228</td>\n",
       "      <td>3</td>\n",
       "      <td>2</td>\n",
       "      <td>db_binary_0.010000.tsv</td>\n",
       "      <td>{'Methylotenera mobilis-49 (UID203)': 24, 'Met...</td>\n",
       "    </tr>\n",
       "    <tr>\n",
       "      <th>0</th>\n",
       "      <td>215</td>\n",
       "      <td>3</td>\n",
       "      <td>2</td>\n",
       "      <td>db_binary_0.020000.tsv</td>\n",
       "      <td>{'Methylotenera mobilis-49 (UID203)': 24, 'Met...</td>\n",
       "    </tr>\n",
       "    <tr>\n",
       "      <th>0</th>\n",
       "      <td>79</td>\n",
       "      <td>6</td>\n",
       "      <td>2</td>\n",
       "      <td>db_binary_0.030000.tsv</td>\n",
       "      <td>{'Methylotenera mobilis-49 (UID203)': 23, 'Met...</td>\n",
       "    </tr>\n",
       "    <tr>\n",
       "      <th>0</th>\n",
       "      <td>36</td>\n",
       "      <td>6</td>\n",
       "      <td>2</td>\n",
       "      <td>db_binary_0.040000.tsv</td>\n",
       "      <td>{'Methylotenera mobilis-49 (UID203)': 18, 'Met...</td>\n",
       "    </tr>\n",
       "    <tr>\n",
       "      <th>0</th>\n",
       "      <td>12</td>\n",
       "      <td>4</td>\n",
       "      <td>2</td>\n",
       "      <td>db_binary_0.050000.tsv</td>\n",
       "      <td>{'Methylotenera mobilis-49 (UID203)': 7, 'Meth...</td>\n",
       "    </tr>\n",
       "    <tr>\n",
       "      <th>0</th>\n",
       "      <td>10</td>\n",
       "      <td>4</td>\n",
       "      <td>2</td>\n",
       "      <td>db_binary_0.060000.tsv</td>\n",
       "      <td>{'Methylotenera mobilis-49 (UID203)': 6, 'Meth...</td>\n",
       "    </tr>\n",
       "    <tr>\n",
       "      <th>0</th>\n",
       "      <td>4</td>\n",
       "      <td>2</td>\n",
       "      <td>2</td>\n",
       "      <td>db_binary_0.070000.tsv</td>\n",
       "      <td>{'Methylotenera mobilis-49 (UID203)': 2, 'Meth...</td>\n",
       "    </tr>\n",
       "  </tbody>\n",
       "</table>\n",
       "</div>"
      ],
      "text/plain": [
       "   # nodes in cc  # of components  # organisms in cc                    file  \\\n",
       "0            228                3                  2  db_binary_0.010000.tsv   \n",
       "0            215                3                  2  db_binary_0.020000.tsv   \n",
       "0             79                6                  2  db_binary_0.030000.tsv   \n",
       "0             36                6                  2  db_binary_0.040000.tsv   \n",
       "0             12                4                  2  db_binary_0.050000.tsv   \n",
       "0             10                4                  2  db_binary_0.060000.tsv   \n",
       "0              4                2                  2  db_binary_0.070000.tsv   \n",
       "\n",
       "                                     organism counts  \n",
       "0  {'Methylotenera mobilis-49 (UID203)': 24, 'Met...  \n",
       "0  {'Methylotenera mobilis-49 (UID203)': 24, 'Met...  \n",
       "0  {'Methylotenera mobilis-49 (UID203)': 23, 'Met...  \n",
       "0  {'Methylotenera mobilis-49 (UID203)': 18, 'Met...  \n",
       "0  {'Methylotenera mobilis-49 (UID203)': 7, 'Meth...  \n",
       "0  {'Methylotenera mobilis-49 (UID203)': 6, 'Meth...  \n",
       "0  {'Methylotenera mobilis-49 (UID203)': 2, 'Meth...  "
      ]
     },
     "execution_count": 7,
     "metadata": {},
     "output_type": "execute_result"
    }
   ],
   "source": [
    "assess_connected_components_tsvs(tsv_files)"
   ]
  },
  {
   "cell_type": "code",
   "execution_count": 8,
   "metadata": {
    "collapsed": true
   },
   "outputs": [],
   "source": [
    "def assess_sub_graphs(cc_files):\n",
    "    summary = pd.DataFrame()\n",
    "    for cc_file in cc_files: \n",
    "        \n",
    "        tsv = pd.read_csv(cc_file, usecols=[1, 2, 3, 4], sep='\\t')\n",
    "        components = dict(Counter(tsv['ConnectedComponents'])) \n",
    "        for c in components.keys():\n",
    "            print(c)\n",
    "            c_info = dict()\n",
    "            c_info['ConnectedComponent'] = c\n",
    "            c_info['Cutoff'] = None  # TODO: parse from file name. \n",
    "            \n",
    "            nodes = tsv[tsv['ConnectedComponents'] == c]\n",
    "            species_counts = dict(Counter(tsv['organism']))\n",
    "            c_info['nodes'] = nodes.shape[0]\n",
    "            c_info['species counts'] = species_counts\n",
    "            \n",
    "            c_info['cross-species'] = len(species_counts.keys()) > 1\n",
    "            \n",
    "            # get file name\n",
    "            m = re.search('/(db_binary_[.0-9]+.tsv)', cc_file) #.groups(1)\n",
    "            c_info['file'] = m.group(1)\n",
    "            \n",
    "            for k, v in c_info.items():\n",
    "                c_info[k] = [v]\n",
    "            print(c_info)\n",
    "        \n",
    "            c_info = pd.DataFrame(c_info)\n",
    "            summary = pd.concat([summary, c_info], axis=0)\n",
    "        print('summary shape: {}'.format(summary.shape))\n",
    "    print(summary)\n",
    "    print(summary.shape[0])\n",
    "    return summary"
   ]
  },
  {
   "cell_type": "code",
   "execution_count": 9,
   "metadata": {
    "collapsed": false
   },
   "outputs": [
    {
     "name": "stdout",
     "output_type": "stream",
     "text": [
      "0\n",
      "{'ConnectedComponent': [0], 'nodes': [224], 'file': ['db_binary_0.010000.tsv'], 'species counts': [{'Methylotenera mobilis-49 (UID203)': 24, 'Methylobacter-123 (UID203)': 204}], 'Cutoff': [None], 'cross-species': [True]}\n",
      "181\n",
      "{'ConnectedComponent': [181], 'nodes': [2], 'file': ['db_binary_0.010000.tsv'], 'species counts': [{'Methylotenera mobilis-49 (UID203)': 24, 'Methylobacter-123 (UID203)': 204}], 'Cutoff': [None], 'cross-species': [True]}\n",
      "174\n",
      "{'ConnectedComponent': [174], 'nodes': [2], 'file': ['db_binary_0.010000.tsv'], 'species counts': [{'Methylotenera mobilis-49 (UID203)': 24, 'Methylobacter-123 (UID203)': 204}], 'Cutoff': [None], 'cross-species': [True]}\n",
      "summary shape: (3, 6)\n",
      "0\n",
      "{'ConnectedComponent': [0], 'nodes': [211], 'file': ['db_binary_0.020000.tsv'], 'species counts': [{'Methylotenera mobilis-49 (UID203)': 24, 'Methylobacter-123 (UID203)': 191}], 'Cutoff': [None], 'cross-species': [True]}\n",
      "181\n",
      "{'ConnectedComponent': [181], 'nodes': [2], 'file': ['db_binary_0.020000.tsv'], 'species counts': [{'Methylotenera mobilis-49 (UID203)': 24, 'Methylobacter-123 (UID203)': 191}], 'Cutoff': [None], 'cross-species': [True]}\n",
      "174\n",
      "{'ConnectedComponent': [174], 'nodes': [2], 'file': ['db_binary_0.020000.tsv'], 'species counts': [{'Methylotenera mobilis-49 (UID203)': 24, 'Methylobacter-123 (UID203)': 191}], 'Cutoff': [None], 'cross-species': [True]}\n",
      "summary shape: (6, 6)\n",
      "0\n",
      "{'ConnectedComponent': [0], 'nodes': [64], 'file': ['db_binary_0.030000.tsv'], 'species counts': [{'Methylotenera mobilis-49 (UID203)': 23, 'Methylobacter-123 (UID203)': 56}], 'Cutoff': [None], 'cross-species': [True]}\n",
      "68\n",
      "{'ConnectedComponent': [68], 'nodes': [2], 'file': ['db_binary_0.030000.tsv'], 'species counts': [{'Methylotenera mobilis-49 (UID203)': 23, 'Methylobacter-123 (UID203)': 56}], 'Cutoff': [None], 'cross-species': [True]}\n",
      "7\n",
      "{'ConnectedComponent': [7], 'nodes': [3], 'file': ['db_binary_0.030000.tsv'], 'species counts': [{'Methylotenera mobilis-49 (UID203)': 23, 'Methylobacter-123 (UID203)': 56}], 'Cutoff': [None], 'cross-species': [True]}\n",
      "25\n",
      "{'ConnectedComponent': [25], 'nodes': [4], 'file': ['db_binary_0.030000.tsv'], 'species counts': [{'Methylotenera mobilis-49 (UID203)': 23, 'Methylobacter-123 (UID203)': 56}], 'Cutoff': [None], 'cross-species': [True]}\n",
      "74\n",
      "{'ConnectedComponent': [74], 'nodes': [2], 'file': ['db_binary_0.030000.tsv'], 'species counts': [{'Methylotenera mobilis-49 (UID203)': 23, 'Methylobacter-123 (UID203)': 56}], 'Cutoff': [None], 'cross-species': [True]}\n",
      "31\n",
      "{'ConnectedComponent': [31], 'nodes': [4], 'file': ['db_binary_0.030000.tsv'], 'species counts': [{'Methylotenera mobilis-49 (UID203)': 23, 'Methylobacter-123 (UID203)': 56}], 'Cutoff': [None], 'cross-species': [True]}\n",
      "summary shape: (12, 6)\n",
      "0\n",
      "{'ConnectedComponent': [0], 'nodes': [5], 'file': ['db_binary_0.040000.tsv'], 'species counts': [{'Methylotenera mobilis-49 (UID203)': 18, 'Methylobacter-123 (UID203)': 18}], 'Cutoff': [None], 'cross-species': [True]}\n",
      "17\n",
      "{'ConnectedComponent': [17], 'nodes': [2], 'file': ['db_binary_0.040000.tsv'], 'species counts': [{'Methylotenera mobilis-49 (UID203)': 18, 'Methylobacter-123 (UID203)': 18}], 'Cutoff': [None], 'cross-species': [True]}\n",
      "2\n",
      "{'ConnectedComponent': [2], 'nodes': [23], 'file': ['db_binary_0.040000.tsv'], 'species counts': [{'Methylotenera mobilis-49 (UID203)': 18, 'Methylobacter-123 (UID203)': 18}], 'Cutoff': [None], 'cross-species': [True]}\n",
      "7\n",
      "{'ConnectedComponent': [7], 'nodes': [2], 'file': ['db_binary_0.040000.tsv'], 'species counts': [{'Methylotenera mobilis-49 (UID203)': 18, 'Methylobacter-123 (UID203)': 18}], 'Cutoff': [None], 'cross-species': [True]}\n",
      "25\n",
      "{'ConnectedComponent': [25], 'nodes': [2], 'file': ['db_binary_0.040000.tsv'], 'species counts': [{'Methylotenera mobilis-49 (UID203)': 18, 'Methylobacter-123 (UID203)': 18}], 'Cutoff': [None], 'cross-species': [True]}\n",
      "31\n",
      "{'ConnectedComponent': [31], 'nodes': [2], 'file': ['db_binary_0.040000.tsv'], 'species counts': [{'Methylotenera mobilis-49 (UID203)': 18, 'Methylobacter-123 (UID203)': 18}], 'Cutoff': [None], 'cross-species': [True]}\n",
      "summary shape: (18, 6)\n",
      "17\n",
      "{'ConnectedComponent': [17], 'nodes': [4], 'file': ['db_binary_0.050000.tsv'], 'species counts': [{'Methylotenera mobilis-49 (UID203)': 7, 'Methylobacter-123 (UID203)': 5}], 'Cutoff': [None], 'cross-species': [True]}\n",
      "19\n",
      "{'ConnectedComponent': [19], 'nodes': [2], 'file': ['db_binary_0.050000.tsv'], 'species counts': [{'Methylotenera mobilis-49 (UID203)': 7, 'Methylobacter-123 (UID203)': 5}], 'Cutoff': [None], 'cross-species': [True]}\n",
      "12\n",
      "{'ConnectedComponent': [12], 'nodes': [2], 'file': ['db_binary_0.050000.tsv'], 'species counts': [{'Methylotenera mobilis-49 (UID203)': 7, 'Methylobacter-123 (UID203)': 5}], 'Cutoff': [None], 'cross-species': [True]}\n",
      "14\n",
      "{'ConnectedComponent': [14], 'nodes': [4], 'file': ['db_binary_0.050000.tsv'], 'species counts': [{'Methylotenera mobilis-49 (UID203)': 7, 'Methylobacter-123 (UID203)': 5}], 'Cutoff': [None], 'cross-species': [True]}\n",
      "summary shape: (22, 6)\n",
      "0\n",
      "{'ConnectedComponent': [0], 'nodes': [2], 'file': ['db_binary_0.060000.tsv'], 'species counts': [{'Methylotenera mobilis-49 (UID203)': 6, 'Methylobacter-123 (UID203)': 4}], 'Cutoff': [None], 'cross-species': [True]}\n",
      "2\n",
      "{'ConnectedComponent': [2], 'nodes': [3], 'file': ['db_binary_0.060000.tsv'], 'species counts': [{'Methylotenera mobilis-49 (UID203)': 6, 'Methylobacter-123 (UID203)': 4}], 'Cutoff': [None], 'cross-species': [True]}\n",
      "5\n",
      "{'ConnectedComponent': [5], 'nodes': [3], 'file': ['db_binary_0.060000.tsv'], 'species counts': [{'Methylotenera mobilis-49 (UID203)': 6, 'Methylobacter-123 (UID203)': 4}], 'Cutoff': [None], 'cross-species': [True]}\n",
      "7\n",
      "{'ConnectedComponent': [7], 'nodes': [2], 'file': ['db_binary_0.060000.tsv'], 'species counts': [{'Methylotenera mobilis-49 (UID203)': 6, 'Methylobacter-123 (UID203)': 4}], 'Cutoff': [None], 'cross-species': [True]}\n",
      "summary shape: (26, 6)\n",
      "0\n",
      "{'ConnectedComponent': [0], 'nodes': [2], 'file': ['db_binary_0.070000.tsv'], 'species counts': [{'Methylotenera mobilis-49 (UID203)': 2, 'Methylobacter-123 (UID203)': 2}], 'Cutoff': [None], 'cross-species': [True]}\n",
      "2\n",
      "{'ConnectedComponent': [2], 'nodes': [2], 'file': ['db_binary_0.070000.tsv'], 'species counts': [{'Methylotenera mobilis-49 (UID203)': 2, 'Methylobacter-123 (UID203)': 2}], 'Cutoff': [None], 'cross-species': [True]}\n",
      "summary shape: (28, 6)\n",
      "   ConnectedComponent Cutoff cross-species                    file  nodes  \\\n",
      "0                   0   None          True  db_binary_0.010000.tsv    224   \n",
      "0                 181   None          True  db_binary_0.010000.tsv      2   \n",
      "0                 174   None          True  db_binary_0.010000.tsv      2   \n",
      "0                   0   None          True  db_binary_0.020000.tsv    211   \n",
      "0                 181   None          True  db_binary_0.020000.tsv      2   \n",
      "0                 174   None          True  db_binary_0.020000.tsv      2   \n",
      "0                   0   None          True  db_binary_0.030000.tsv     64   \n",
      "0                  68   None          True  db_binary_0.030000.tsv      2   \n",
      "0                   7   None          True  db_binary_0.030000.tsv      3   \n",
      "0                  25   None          True  db_binary_0.030000.tsv      4   \n",
      "0                  74   None          True  db_binary_0.030000.tsv      2   \n",
      "0                  31   None          True  db_binary_0.030000.tsv      4   \n",
      "0                   0   None          True  db_binary_0.040000.tsv      5   \n",
      "0                  17   None          True  db_binary_0.040000.tsv      2   \n",
      "0                   2   None          True  db_binary_0.040000.tsv     23   \n",
      "0                   7   None          True  db_binary_0.040000.tsv      2   \n",
      "0                  25   None          True  db_binary_0.040000.tsv      2   \n",
      "0                  31   None          True  db_binary_0.040000.tsv      2   \n",
      "0                  17   None          True  db_binary_0.050000.tsv      4   \n",
      "0                  19   None          True  db_binary_0.050000.tsv      2   \n",
      "0                  12   None          True  db_binary_0.050000.tsv      2   \n",
      "0                  14   None          True  db_binary_0.050000.tsv      4   \n",
      "0                   0   None          True  db_binary_0.060000.tsv      2   \n",
      "0                   2   None          True  db_binary_0.060000.tsv      3   \n",
      "0                   5   None          True  db_binary_0.060000.tsv      3   \n",
      "0                   7   None          True  db_binary_0.060000.tsv      2   \n",
      "0                   0   None          True  db_binary_0.070000.tsv      2   \n",
      "0                   2   None          True  db_binary_0.070000.tsv      2   \n",
      "\n",
      "                                      species counts  \n",
      "0  {'Methylotenera mobilis-49 (UID203)': 24, 'Met...  \n",
      "0  {'Methylotenera mobilis-49 (UID203)': 24, 'Met...  \n",
      "0  {'Methylotenera mobilis-49 (UID203)': 24, 'Met...  \n",
      "0  {'Methylotenera mobilis-49 (UID203)': 24, 'Met...  \n",
      "0  {'Methylotenera mobilis-49 (UID203)': 24, 'Met...  \n",
      "0  {'Methylotenera mobilis-49 (UID203)': 24, 'Met...  \n",
      "0  {'Methylotenera mobilis-49 (UID203)': 23, 'Met...  \n",
      "0  {'Methylotenera mobilis-49 (UID203)': 23, 'Met...  \n",
      "0  {'Methylotenera mobilis-49 (UID203)': 23, 'Met...  \n",
      "0  {'Methylotenera mobilis-49 (UID203)': 23, 'Met...  \n",
      "0  {'Methylotenera mobilis-49 (UID203)': 23, 'Met...  \n",
      "0  {'Methylotenera mobilis-49 (UID203)': 23, 'Met...  \n",
      "0  {'Methylotenera mobilis-49 (UID203)': 18, 'Met...  \n",
      "0  {'Methylotenera mobilis-49 (UID203)': 18, 'Met...  \n",
      "0  {'Methylotenera mobilis-49 (UID203)': 18, 'Met...  \n",
      "0  {'Methylotenera mobilis-49 (UID203)': 18, 'Met...  \n",
      "0  {'Methylotenera mobilis-49 (UID203)': 18, 'Met...  \n",
      "0  {'Methylotenera mobilis-49 (UID203)': 18, 'Met...  \n",
      "0  {'Methylotenera mobilis-49 (UID203)': 7, 'Meth...  \n",
      "0  {'Methylotenera mobilis-49 (UID203)': 7, 'Meth...  \n",
      "0  {'Methylotenera mobilis-49 (UID203)': 7, 'Meth...  \n",
      "0  {'Methylotenera mobilis-49 (UID203)': 7, 'Meth...  \n",
      "0  {'Methylotenera mobilis-49 (UID203)': 6, 'Meth...  \n",
      "0  {'Methylotenera mobilis-49 (UID203)': 6, 'Meth...  \n",
      "0  {'Methylotenera mobilis-49 (UID203)': 6, 'Meth...  \n",
      "0  {'Methylotenera mobilis-49 (UID203)': 6, 'Meth...  \n",
      "0  {'Methylotenera mobilis-49 (UID203)': 2, 'Meth...  \n",
      "0  {'Methylotenera mobilis-49 (UID203)': 2, 'Meth...  \n",
      "28\n"
     ]
    }
   ],
   "source": [
    "connected_components = assess_sub_graphs(tsv_files)"
   ]
  },
  {
   "cell_type": "code",
   "execution_count": 10,
   "metadata": {
    "collapsed": false
   },
   "outputs": [
    {
     "data": {
      "text/html": [
       "<div>\n",
       "<table border=\"1\" class=\"dataframe\">\n",
       "  <thead>\n",
       "    <tr style=\"text-align: right;\">\n",
       "      <th></th>\n",
       "      <th>ConnectedComponent</th>\n",
       "      <th>Cutoff</th>\n",
       "      <th>cross-species</th>\n",
       "      <th>file</th>\n",
       "      <th>nodes</th>\n",
       "      <th>species counts</th>\n",
       "    </tr>\n",
       "  </thead>\n",
       "  <tbody>\n",
       "    <tr>\n",
       "      <th>0</th>\n",
       "      <td>0</td>\n",
       "      <td>None</td>\n",
       "      <td>True</td>\n",
       "      <td>db_binary_0.010000.tsv</td>\n",
       "      <td>224</td>\n",
       "      <td>{'Methylotenera mobilis-49 (UID203)': 24, 'Met...</td>\n",
       "    </tr>\n",
       "    <tr>\n",
       "      <th>0</th>\n",
       "      <td>181</td>\n",
       "      <td>None</td>\n",
       "      <td>True</td>\n",
       "      <td>db_binary_0.010000.tsv</td>\n",
       "      <td>2</td>\n",
       "      <td>{'Methylotenera mobilis-49 (UID203)': 24, 'Met...</td>\n",
       "    </tr>\n",
       "    <tr>\n",
       "      <th>0</th>\n",
       "      <td>174</td>\n",
       "      <td>None</td>\n",
       "      <td>True</td>\n",
       "      <td>db_binary_0.010000.tsv</td>\n",
       "      <td>2</td>\n",
       "      <td>{'Methylotenera mobilis-49 (UID203)': 24, 'Met...</td>\n",
       "    </tr>\n",
       "    <tr>\n",
       "      <th>0</th>\n",
       "      <td>0</td>\n",
       "      <td>None</td>\n",
       "      <td>True</td>\n",
       "      <td>db_binary_0.020000.tsv</td>\n",
       "      <td>211</td>\n",
       "      <td>{'Methylotenera mobilis-49 (UID203)': 24, 'Met...</td>\n",
       "    </tr>\n",
       "    <tr>\n",
       "      <th>0</th>\n",
       "      <td>181</td>\n",
       "      <td>None</td>\n",
       "      <td>True</td>\n",
       "      <td>db_binary_0.020000.tsv</td>\n",
       "      <td>2</td>\n",
       "      <td>{'Methylotenera mobilis-49 (UID203)': 24, 'Met...</td>\n",
       "    </tr>\n",
       "  </tbody>\n",
       "</table>\n",
       "</div>"
      ],
      "text/plain": [
       "   ConnectedComponent Cutoff cross-species                    file  nodes  \\\n",
       "0                   0   None          True  db_binary_0.010000.tsv    224   \n",
       "0                 181   None          True  db_binary_0.010000.tsv      2   \n",
       "0                 174   None          True  db_binary_0.010000.tsv      2   \n",
       "0                   0   None          True  db_binary_0.020000.tsv    211   \n",
       "0                 181   None          True  db_binary_0.020000.tsv      2   \n",
       "\n",
       "                                      species counts  \n",
       "0  {'Methylotenera mobilis-49 (UID203)': 24, 'Met...  \n",
       "0  {'Methylotenera mobilis-49 (UID203)': 24, 'Met...  \n",
       "0  {'Methylotenera mobilis-49 (UID203)': 24, 'Met...  \n",
       "0  {'Methylotenera mobilis-49 (UID203)': 24, 'Met...  \n",
       "0  {'Methylotenera mobilis-49 (UID203)': 24, 'Met...  "
      ]
     },
     "execution_count": 10,
     "metadata": {},
     "output_type": "execute_result"
    }
   ],
   "source": [
    "connected_components.head()"
   ]
  },
  {
   "cell_type": "code",
   "execution_count": 11,
   "metadata": {
    "collapsed": false
   },
   "outputs": [
    {
     "ename": "SyntaxError",
     "evalue": "invalid syntax (<ipython-input-11-c5ffa0ca1977>, line 1)",
     "output_type": "error",
     "traceback": [
      "\u001b[0;36m  File \u001b[0;32m\"<ipython-input-11-c5ffa0ca1977>\"\u001b[0;36m, line \u001b[0;32m1\u001b[0m\n\u001b[0;31m    connected_components.plot.scatter(x=)\u001b[0m\n\u001b[0m                                        ^\u001b[0m\n\u001b[0;31mSyntaxError\u001b[0m\u001b[0;31m:\u001b[0m invalid syntax\n"
     ]
    }
   ],
   "source": [
    "connected_components.plot.scatter(x=)"
   ]
  },
  {
   "cell_type": "code",
   "execution_count": null,
   "metadata": {
    "collapsed": false
   },
   "outputs": [],
   "source": [
    "assess_connected_components_tsv(cc)"
   ]
  },
  {
   "cell_type": "code",
   "execution_count": null,
   "metadata": {
    "collapsed": false
   },
   "outputs": [],
   "source": [
    "pd.DataFrame.from_dict(assess_connected_components_tsv(cc))"
   ]
  },
  {
   "cell_type": "code",
   "execution_count": null,
   "metadata": {
    "collapsed": true
   },
   "outputs": [],
   "source": [
    "def assess_component(cc):\n",
    "    # Metrics for a signle connected component.\n",
    "    # return counts of each organism,\n",
    "    # entropy (?)\n",
    "    pass"
   ]
  },
  {
   "cell_type": "code",
   "execution_count": null,
   "metadata": {
    "collapsed": true
   },
   "outputs": [],
   "source": []
  }
 ],
 "metadata": {
  "anaconda-cloud": {},
  "kernelspec": {
   "display_name": "Python [conda env:mlpy3]",
   "language": "python",
   "name": "conda-env-mlpy3-py"
  },
  "language_info": {
   "codemirror_mode": {
    "name": "ipython",
    "version": 3
   },
   "file_extension": ".py",
   "mimetype": "text/x-python",
   "name": "python",
   "nbconvert_exporter": "python",
   "pygments_lexer": "ipython3",
   "version": "3.5.2"
  }
 },
 "nbformat": 4,
 "nbformat_minor": 1
}
