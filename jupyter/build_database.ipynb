{
 "cells": [
  {
   "cell_type": "code",
   "execution_count": null,
   "metadata": {
    "collapsed": true
   },
   "outputs": [],
   "source": [
    "from neo4j.v1 import GraphDatabase, basic_auth"
   ]
  },
  {
   "cell_type": "code",
   "execution_count": null,
   "metadata": {
    "collapsed": false
   },
   "outputs": [],
   "source": [
    "driver = GraphDatabase.driver(\"bolt://localhost\", \n",
    "                              auth=basic_auth(\"neo4j\", \"theraturkey\"))\n",
    "session = driver.session()"
   ]
  },
  {
   "cell_type": "markdown",
   "metadata": {},
   "source": [
    "Useful Commands:\n"
   ]
  },
  {
   "cell_type": "code",
   "execution_count": null,
   "metadata": {
    "collapsed": false
   },
   "outputs": [],
   "source": [
    "# Fill in more attributes.  Add in edges with attributes from the line.\n",
    "\n",
    "# wipe everything first:\n",
    "session.run(\"\"\" MATCH (n) DETACH DELETE n \"\"\")\n",
    "\n",
    "# add the source nodes, if they don't already exist:\n",
    "command = \"\"\"\n",
    "    LOAD CSV WITH HEADERS FROM \n",
    "        'https://raw.githubusercontent.com/JanetMatsen/Neo4j_meta4/master/data/network_broken.csv'  \n",
    "    AS line\n",
    "    MERGE (g1:Gene {org_gene:line.source, \n",
    "                    organism:line.source_organism, \n",
    "                    gene:line.source_gene}) \n",
    "    MERGE (g2:Gene {org_gene:line.target,\n",
    "                    organism:line.target_organism,\n",
    "                    gene:line.target_gene}) \n",
    "    MERGE (g1) -[:X {weight:line.weight, association:line.association}]-> (g2); \n",
    "    \"\"\"\n",
    "result = session.run(command.rstrip())\n",
    "\n",
    "# There might be better ways to do this... \n",
    "# http://stackoverflow.com/questions/29922140/labels-on-nodes-and-relationships-from-a-csv-file\n",
    "command = \"\"\"\n",
    "    match (n {organism:'Ga0081607'})\n",
    "    set n :organism_A\n",
    "    return n\n",
    "\"\"\"\n",
    "result = session.run(command.rstrip())\n",
    "command = \"\"\"\n",
    "    match (n {organism:'Ga0081629'})\n",
    "    set n :organism_B\n",
    "    return n\n",
    "\"\"\"\n",
    "result = session.run(command.rstrip())\n",
    "\n",
    "# See how many nodes I got. \n",
    "result = session.run(\"\"\" match(n) return n \"\"\")\n",
    "num_results = 0\n",
    "for record in result:\n",
    "    num_results += 1\n",
    "    print(record)\n",
    "print('number of nodes added from source and dest column: {}'.format(num_results))\n",
    "\n",
    "# ------------------------------------------------------------------------"
   ]
  },
  {
   "cell_type": "markdown",
   "metadata": {},
   "source": [
    "http://stackoverflow.com/questions/22670369/neo4j-cypher-how-to-change-the-type-of-a-relationship\n",
    "\n",
    "`\n",
    "MATCH (n:User {name:\"foo\"})-[r:REL]->(m:User {name:\"bar\"})\n",
    "CREATE (n)-[r2:NEWREL]->(m)\n",
    "SET r2 = r\n",
    "WITH r\n",
    "DELETE r\n",
    "`"
   ]
  },
  {
   "cell_type": "code",
   "execution_count": null,
   "metadata": {
    "collapsed": true
   },
   "outputs": [],
   "source": [
    "# set edge labels: write over them and erase the old ones.\n",
    "command = \"\"\"\n",
    "    match (n)-[e1 {association:\"positive\"}]-(m)\n",
    "    CREATE (n)-[e2:pos]->(m)\n",
    "    SET e2 = e1\n",
    "    WITH e1\n",
    "    DELETE e1\n",
    "\"\"\"\n",
    "result = session.run(command.rstrip())\n",
    "for record in result:\n",
    "    print(record)"
   ]
  },
  {
   "cell_type": "raw",
   "metadata": {},
   "source": [
    "# set edge labels\n",
    "command = \"\"\"\n",
    "    match (n)-[e1 {association:\"negative\"}]-(m)\n",
    "    CREATE (n)-[e2:neg]->(m)\n",
    "    SET e2 = e1\n",
    "    WITH e1\n",
    "    DELETE e1\n",
    "\"\"\"\n",
    "result = session.run(command.rstrip())\n",
    "for record in result:\n",
    "    print(record)"
   ]
  },
  {
   "cell_type": "markdown",
   "metadata": {},
   "source": [
    "Note that I've edited the colors by hand so far.\n",
    "Open the `:style` sheet (in Neo4j browser), and see things like this: \n",
    "\n",
    "`\n",
    "node.organism_A {\n",
    "  color: #68BDF6;\n",
    "  border-color: #5CA8DB;\n",
    "  text-color-internal: #FFFFFF;\n",
    "  caption: '{gene}';\n",
    "}\n",
    "\n",
    "node.organism_B {\n",
    "  color: #DE9BF9;\n",
    "  border-color: #BF85D6;\n",
    "  text-color-internal: #FFFFFF;\n",
    "  caption: '{gene}';\n",
    "}\n",
    "\n",
    "relationship.neg {\n",
    "  shaft-width: 2px;\n",
    "  color: #FF756E;\n",
    "  border-color: #E06760;\n",
    "  text-color-internal: #FFFFFF;\n",
    "}\n",
    "\n",
    "relationship.pos {\n",
    "  shaft-width: 2px;\n",
    "  color: #6DCE9E;\n",
    "  border-color: #60B58B;\n",
    "  text-color-internal: #FFFFFF;\n",
    "}`\n",
    "\n",
    "I couldn't find this in a version-controlled repository.  Somewhere some GRASS file exists..."
   ]
  },
  {
   "cell_type": "markdown",
   "metadata": {},
   "source": [
    "Watch this screencast?\n",
    "\n",
    "https://neo4j.com/developer/guide-data-visualization/\n",
    "\n",
    "\"we demonstrate how to style nodes and relationships in the Neo4j’s Browser visualization, and how to set colors, sizes, and titles.\""
   ]
  },
  {
   "cell_type": "code",
   "execution_count": null,
   "metadata": {
    "collapsed": true
   },
   "outputs": [],
   "source": []
  }
 ],
 "metadata": {
  "anaconda-cloud": {},
  "kernelspec": {
   "display_name": "Python [conda env:neo4j]",
   "language": "python",
   "name": "conda-env-neo4j-py"
  },
  "language_info": {
   "codemirror_mode": {
    "name": "ipython",
    "version": 3
   },
   "file_extension": ".py",
   "mimetype": "text/x-python",
   "name": "python",
   "nbconvert_exporter": "python",
   "pygments_lexer": "ipython3",
   "version": "3.5.2"
  }
 },
 "nbformat": 4,
 "nbformat_minor": 1
}
