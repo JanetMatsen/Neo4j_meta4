{
 "cells": [
  {
   "cell_type": "code",
   "execution_count": 1,
   "metadata": {
    "collapsed": false
   },
   "outputs": [
    {
     "name": "stderr",
     "output_type": "stream",
     "text": [
      "/home/jmatsen/miniconda2/lib/python2.7/site-packages/matplotlib/font_manager.py:273: UserWarning: Matplotlib is building the font cache using fc-list. This may take a moment.\n",
      "  warnings.warn('Matplotlib is building the font cache using fc-list. This may take a moment.')\n"
     ]
    }
   ],
   "source": [
    "import numpy as np\n",
    "import os\n",
    "import re\n",
    "\n",
    "import pandas as pd\n",
    "import seaborn as sns"
   ]
  },
  {
   "cell_type": "code",
   "execution_count": 2,
   "metadata": {
    "collapsed": false
   },
   "outputs": [
    {
     "name": "stdout",
     "output_type": "stream",
     "text": [
      "2.7.11 |Continuum Analytics, Inc.| (default, Dec  6 2015, 18:08:32) \n",
      "[GCC 4.4.7 20120313 (Red Hat 4.4.7-1)]\n"
     ]
    }
   ],
   "source": [
    "import sys \n",
    "print(sys.version)"
   ]
  },
  {
   "cell_type": "code",
   "execution_count": 3,
   "metadata": {
    "collapsed": true
   },
   "outputs": [],
   "source": [
    "%matplotlib inline\n",
    "\n",
    "from pylab import rcParams\n",
    "rcParams['figure.figsize'] = 4, 2.5"
   ]
  },
  {
   "cell_type": "markdown",
   "metadata": {},
   "source": [
    "The network directory in this share (which is still uploading, btw) contains a pickle (data.pkl) and the code used to generate it (network.py). The lfdr_pcor object in the pickle has the partial correlations after pruning, but poor has all of them (the full network). network.txt has a text version of the network (after pruning) that can be sucked into cytoscape."
   ]
  },
  {
   "cell_type": "markdown",
   "metadata": {},
   "source": [
    "The network data was calculated from mapping to genome bins:"
   ]
  },
  {
   "cell_type": "raw",
   "metadata": {},
   "source": [
    "Two-organism sub-graph:\n",
    "\n",
    "jmatsen@waffle:/dacb/meta4_bins/analysis/network$ column -t network.txt | head -n 5\n",
    "source             target             pcor    association\n",
    "Ga0081607_11219    Ga0081607_115212   0.01928   positive\n",
    "Ga0081607_11219    Ga0081607_116221   0.01995   positive\n",
    "Ga0081607_11219    Ga0081607_107914   0.02173   positive\n",
    "Ga0081607_11219    Ga0081607_115213   0.02291   positive"
   ]
  },
  {
   "cell_type": "markdown",
   "metadata": {},
   "source": [
    "Full graph:"
   ]
  },
  {
   "cell_type": "code",
   "execution_count": 4,
   "metadata": {
    "collapsed": false
   },
   "outputs": [
    {
     "name": "stdout",
     "output_type": "stream",
     "text": [
      "-rw-rw---- 1 jmatsen users 504K Dec  9 06:52 ../waffle_network_dir/network.py.10000.tsv\r\n",
      "-rw-rw---- 1 dacb    users 2.4G Dec  5 11:43 ../waffle_network_dir/network.py.tsv\r\n",
      "-rwxrwx--- 1 jmatsen users 186M Dec  3 09:27 ../waffle_network_dir/normalized_counts.tsv\r\n"
     ]
    }
   ],
   "source": [
    "! ls -lh ../waffle_network_dir/*.tsv"
   ]
  },
  {
   "cell_type": "code",
   "execution_count": 5,
   "metadata": {
    "collapsed": false
   },
   "outputs": [
    {
     "name": "stdout",
     "output_type": "stream",
     "text": [
      "49995001 ../waffle_network_dir/network.py.tsv\r\n"
     ]
    }
   ],
   "source": [
    "! wc -l ../waffle_network_dir/network.py.tsv "
   ]
  },
  {
   "cell_type": "code",
   "execution_count": 6,
   "metadata": {
    "collapsed": false
   },
   "outputs": [
    {
     "name": "stdout",
     "output_type": "stream",
     "text": [
      "|-------------------+------------------+--------------------|\r\n",
      "|  geneA            | geneB            | pcor               |\r\n",
      "|-------------------+------------------+--------------------|\r\n",
      "|  Ga0081614_142199 | Ga0081614_142197 | -0.00395096462737  |\r\n",
      "|  Ga0081614_142199 | Ga0081614_142198 | -0.00391884521297  |\r\n",
      "|  Ga0081614_142199 | Ga0081614_18334  | -0.0011141895928   |\r\n",
      "|  Ga0081614_142199 | Ga0081614_17829  | -0.00156949879462  |\r\n",
      "|-------------------+------------------+--------------------|\r\n"
     ]
    }
   ],
   "source": [
    "! head -n 5 ../waffle_network_dir/network.py.tsv | csvlook -t"
   ]
  },
  {
   "cell_type": "raw",
   "metadata": {},
   "source": [
    "waffle:waffle_network_dir (master) jmatsen$ head -n 5 network.py.tsv | csvlook -t\n",
    "|-------------------+------------------+--------------------|\n",
    "|  geneA            | geneB            | pcor               |\n",
    "|-------------------+------------------+--------------------|\n",
    "|  Ga0081614_142199 | Ga0081614_142197 | -0.00395096462737  |\n",
    "|  Ga0081614_142199 | Ga0081614_142198 | -0.00391884521297  |\n",
    "|  Ga0081614_142199 | Ga0081614_18334  | -0.0011141895928   |\n",
    "|  Ga0081614_142199 | Ga0081614_17829  | -0.00156949879462  |\n",
    "|-------------------+------------------+--------------------|\n"
   ]
  },
  {
   "cell_type": "code",
   "execution_count": 7,
   "metadata": {
    "collapsed": false
   },
   "outputs": [
    {
     "name": "stdout",
     "output_type": "stream",
     "text": [
      "-rw-rw---- 1 dacb users 2.4G Dec  5 11:43 ../waffle_network_dir/network.py.tsv\r\n"
     ]
    }
   ],
   "source": [
    "! ls -lh ../waffle_network_dir/network.py.tsv"
   ]
  },
  {
   "cell_type": "markdown",
   "metadata": {},
   "source": [
    "Make a 10k row version of the file for development. "
   ]
  },
  {
   "cell_type": "raw",
   "metadata": {},
   "source": [
    "waffle:waffle_network_dir (master) jmatsen$ head -n 10000 network.py.tsv >  network.py.10000.tsv"
   ]
  },
  {
   "cell_type": "code",
   "execution_count": 8,
   "metadata": {
    "collapsed": false
   },
   "outputs": [],
   "source": [
    "network = pd.read_csv('../waffle_network_dir/network.py.tsv', skiprows=1,\n",
    "                      #skipfooter = 49995001 - 1*10**4,\n",
    "                      #skipfooter = 1000,  # can't have skipfooter with dtype. :(\n",
    "                      sep='\\t', names = ['source', 'target', 'pcor'],\n",
    "                      dtype = {'source':str, 'target':str, 'pcor':float})"
   ]
  },
  {
   "cell_type": "code",
   "execution_count": 9,
   "metadata": {
    "collapsed": false
   },
   "outputs": [
    {
     "data": {
      "text/plain": [
       "(49995000, 3)"
      ]
     },
     "execution_count": 9,
     "metadata": {},
     "output_type": "execute_result"
    }
   ],
   "source": [
    "network.shape"
   ]
  },
  {
   "cell_type": "code",
   "execution_count": 10,
   "metadata": {
    "collapsed": false
   },
   "outputs": [
    {
     "data": {
      "text/html": [
       "<div>\n",
       "<table border=\"1\" class=\"dataframe\">\n",
       "  <thead>\n",
       "    <tr style=\"text-align: right;\">\n",
       "      <th></th>\n",
       "      <th>source</th>\n",
       "      <th>target</th>\n",
       "      <th>pcor</th>\n",
       "    </tr>\n",
       "  </thead>\n",
       "  <tbody>\n",
       "    <tr>\n",
       "      <th>0</th>\n",
       "      <td>Ga0081614_142199</td>\n",
       "      <td>Ga0081614_142197</td>\n",
       "      <td>-0.003951</td>\n",
       "    </tr>\n",
       "    <tr>\n",
       "      <th>1</th>\n",
       "      <td>Ga0081614_142199</td>\n",
       "      <td>Ga0081614_142198</td>\n",
       "      <td>-0.003919</td>\n",
       "    </tr>\n",
       "    <tr>\n",
       "      <th>2</th>\n",
       "      <td>Ga0081614_142199</td>\n",
       "      <td>Ga0081614_18334</td>\n",
       "      <td>-0.001114</td>\n",
       "    </tr>\n",
       "    <tr>\n",
       "      <th>3</th>\n",
       "      <td>Ga0081614_142199</td>\n",
       "      <td>Ga0081614_17829</td>\n",
       "      <td>-0.001569</td>\n",
       "    </tr>\n",
       "    <tr>\n",
       "      <th>4</th>\n",
       "      <td>Ga0081614_142199</td>\n",
       "      <td>Ga0081607_11219</td>\n",
       "      <td>-0.001427</td>\n",
       "    </tr>\n",
       "  </tbody>\n",
       "</table>\n",
       "</div>"
      ],
      "text/plain": [
       "             source            target      pcor\n",
       "0  Ga0081614_142199  Ga0081614_142197 -0.003951\n",
       "1  Ga0081614_142199  Ga0081614_142198 -0.003919\n",
       "2  Ga0081614_142199   Ga0081614_18334 -0.001114\n",
       "3  Ga0081614_142199   Ga0081614_17829 -0.001569\n",
       "4  Ga0081614_142199   Ga0081607_11219 -0.001427"
      ]
     },
     "execution_count": 10,
     "metadata": {},
     "output_type": "execute_result"
    }
   ],
   "source": [
    "network.head()"
   ]
  },
  {
   "cell_type": "code",
   "execution_count": 11,
   "metadata": {
    "collapsed": true
   },
   "outputs": [],
   "source": [
    "def label_associations(row):\n",
    "    if row['pcor'] > 0:\n",
    "        val = 'positive'\n",
    "    elif row['pcor'] < 0:\n",
    "        val = 'negative'\n",
    "    elif row['pcor'] == 0:\n",
    "        val = 'drop me'\n",
    "    return val\n"
   ]
  },
  {
   "cell_type": "code",
   "execution_count": 12,
   "metadata": {
    "collapsed": false
   },
   "outputs": [],
   "source": [
    "network['association'] = network.apply(label_associations, axis=1)"
   ]
  },
  {
   "cell_type": "code",
   "execution_count": 13,
   "metadata": {
    "collapsed": false
   },
   "outputs": [
    {
     "data": {
      "text/plain": [
       "array(['negative', 'positive'], dtype=object)"
      ]
     },
     "execution_count": 13,
     "metadata": {},
     "output_type": "execute_result"
    }
   ],
   "source": [
    "network['association'].unique()"
   ]
  },
  {
   "cell_type": "code",
   "execution_count": 14,
   "metadata": {
    "collapsed": false
   },
   "outputs": [
    {
     "name": "stdout",
     "output_type": "stream",
     "text": [
      "shape before dropping rows with pcor == 0: (49995000, 4)\n",
      "shape after dropping rows with pcor == 0: (49995000, 4)\n"
     ]
    }
   ],
   "source": [
    "print(\"shape before dropping rows with pcor == 0: {}\".format(network.shape))\n",
    "network = network[network['association'] != 'drop me']\n",
    "      \n",
    "print(\"shape after dropping rows with pcor == 0: {}\".format(network.shape))"
   ]
  },
  {
   "cell_type": "code",
   "execution_count": 15,
   "metadata": {
    "collapsed": false
   },
   "outputs": [
    {
     "data": {
      "text/html": [
       "<div>\n",
       "<table border=\"1\" class=\"dataframe\">\n",
       "  <thead>\n",
       "    <tr style=\"text-align: right;\">\n",
       "      <th></th>\n",
       "      <th>source</th>\n",
       "      <th>target</th>\n",
       "      <th>pcor</th>\n",
       "      <th>association</th>\n",
       "    </tr>\n",
       "  </thead>\n",
       "  <tbody>\n",
       "    <tr>\n",
       "      <th>0</th>\n",
       "      <td>Ga0081614_142199</td>\n",
       "      <td>Ga0081614_142197</td>\n",
       "      <td>-0.003951</td>\n",
       "      <td>negative</td>\n",
       "    </tr>\n",
       "    <tr>\n",
       "      <th>1</th>\n",
       "      <td>Ga0081614_142199</td>\n",
       "      <td>Ga0081614_142198</td>\n",
       "      <td>-0.003919</td>\n",
       "      <td>negative</td>\n",
       "    </tr>\n",
       "    <tr>\n",
       "      <th>2</th>\n",
       "      <td>Ga0081614_142199</td>\n",
       "      <td>Ga0081614_18334</td>\n",
       "      <td>-0.001114</td>\n",
       "      <td>negative</td>\n",
       "    </tr>\n",
       "  </tbody>\n",
       "</table>\n",
       "</div>"
      ],
      "text/plain": [
       "             source            target      pcor association\n",
       "0  Ga0081614_142199  Ga0081614_142197 -0.003951    negative\n",
       "1  Ga0081614_142199  Ga0081614_142198 -0.003919    negative\n",
       "2  Ga0081614_142199   Ga0081614_18334 -0.001114    negative"
      ]
     },
     "execution_count": 15,
     "metadata": {},
     "output_type": "execute_result"
    }
   ],
   "source": [
    "network.head(3)"
   ]
  },
  {
   "cell_type": "markdown",
   "metadata": {},
   "source": [
    "I am only using 3.7% of Waffle's memory at the beginning  :) "
   ]
  },
  {
   "cell_type": "code",
   "execution_count": 16,
   "metadata": {
    "collapsed": false
   },
   "outputs": [
    {
     "name": "stdout",
     "output_type": "stream",
     "text": [
      "\u001b[?1h\u001b=\u001b[H\u001b[2J\u001b[mtop - 11:01:11 up 20:04,  4 users,  load average: 1.07, 1.00, 0.60\u001b[m\u001b[m\u001b[m\u001b[m\u001b[K\r\n",
      "Tasks:\u001b[m\u001b[m\u001b[1m 269 \u001b[m\u001b[mtotal,\u001b[m\u001b[m\u001b[1m   1 \u001b[m\u001b[mrunning,\u001b[m\u001b[m\u001b[1m 268 \u001b[m\u001b[msleeping,\u001b[m\u001b[m\u001b[1m   0 \u001b[m\u001b[mstopped,\u001b[m\u001b[m\u001b[1m   0 \u001b[m\u001b[mzombie\u001b[m\u001b[m\u001b[m\u001b[m\u001b[K\r\n",
      "%Cpu(s):\u001b[m\u001b[m\u001b[1m  0.2 \u001b[m\u001b[mus,\u001b[m\u001b[m\u001b[1m  0.1 \u001b[m\u001b[msy,\u001b[m\u001b[m\u001b[1m  0.0 \u001b[m\u001b[mni,\u001b[m\u001b[m\u001b[1m 99.7 \u001b[m\u001b[mid,\u001b[m\u001b[m\u001b[1m  0.0 \u001b[m\u001b[mwa,\u001b[m\u001b[m\u001b[1m  0.0 \u001b[m\u001b[mhi,\u001b[m\u001b[m\u001b[1m  0.0 \u001b[m\u001b[msi,\u001b[m\u001b[m\u001b[1m  0.0 \u001b[m\u001b[mst\u001b[m\u001b[m\u001b[m\u001b[m\u001b[K\r\n",
      "KiB Mem :\u001b[m\u001b[m\u001b[1m 65975012 \u001b[m\u001b[mtotal,\u001b[m\u001b[m\u001b[1m 34759504 \u001b[m\u001b[mfree,\u001b[m\u001b[m\u001b[1m  6323312 \u001b[m\u001b[mused,\u001b[m\u001b[m\u001b[1m 24892196 \u001b[m\u001b[mbuff/cache\u001b[m\u001b[m\u001b[m\u001b[m\u001b[K\r\n",
      "KiB Swap:\u001b[m\u001b[m\u001b[1m 50331644 \u001b[m\u001b[mtotal,\u001b[m\u001b[m\u001b[1m 50331644 \u001b[m\u001b[mfree,\u001b[m\u001b[m\u001b[1m        0 \u001b[m\u001b[mused.\u001b[m\u001b[m\u001b[1m 58405688 \u001b[m\u001b[mavail Mem \u001b[m\u001b[m\u001b[m\u001b[m\u001b[K\r\n",
      "\u001b[K\r\n",
      "\u001b[7m  PID USER      PR  NI    VIRT    RES    SHR S  %CPU %MEM     TIME+ COMMAND     \u001b[m\u001b[m\u001b[K\r\n",
      "\u001b[m15431 jmatsen   20   0 6898464 5.798g  39884 S   0.0  9.2  11:01.62 python      \u001b[m\u001b[m\u001b[K\r\n",
      "\u001b[m  327 root      20   0   96752  54212  53880 S   0.0  0.1   0:12.70 systemd-jo+ \u001b[m\u001b[m\u001b[K\r\n",
      "\u001b[m15238 jmatsen   20   0  333324  46344  10864 S   0.0  0.1   0:05.05 ipython     \u001b[m\u001b[m\u001b[K\r\n"
     ]
    }
   ],
   "source": [
    "! top -o %MEM | head "
   ]
  },
  {
   "cell_type": "raw",
   "metadata": {},
   "source": [
    " PID USER      PR  NI    VIRT    RES    SHR S  %CPU %MEM     TIME+ COMMAND\n",
    " 9687 jmatsen   20   0 3230324 2.299g  39844 S   0.0  3.7   1:02.16 python"
   ]
  },
  {
   "cell_type": "code",
   "execution_count": 17,
   "metadata": {
    "collapsed": false
   },
   "outputs": [],
   "source": [
    "network['target_organism'] = network['target'].str.extract('([A-z0-9]+)_[0-9]+')\n",
    "network['target_gene'] = network['target'].str.extract('[A-z0-9]+_([0-9]+)')\n",
    "network['source_organism'] = network['source'].str.extract('([A-z0-9]+)_[0-9]+')\n",
    "network['source_gene'] = network['source'].str.extract('[A-z0-9]+_([0-9]+)')"
   ]
  },
  {
   "cell_type": "code",
   "execution_count": 18,
   "metadata": {
    "collapsed": false
   },
   "outputs": [
    {
     "data": {
      "text/html": [
       "<div>\n",
       "<table border=\"1\" class=\"dataframe\">\n",
       "  <thead>\n",
       "    <tr style=\"text-align: right;\">\n",
       "      <th></th>\n",
       "      <th>source</th>\n",
       "      <th>target</th>\n",
       "      <th>pcor</th>\n",
       "      <th>association</th>\n",
       "      <th>target_organism</th>\n",
       "      <th>target_gene</th>\n",
       "      <th>source_organism</th>\n",
       "      <th>source_gene</th>\n",
       "    </tr>\n",
       "  </thead>\n",
       "  <tbody>\n",
       "    <tr>\n",
       "      <th>0</th>\n",
       "      <td>Ga0081614_142199</td>\n",
       "      <td>Ga0081614_142197</td>\n",
       "      <td>-0.003951</td>\n",
       "      <td>negative</td>\n",
       "      <td>Ga0081614</td>\n",
       "      <td>142197</td>\n",
       "      <td>Ga0081614</td>\n",
       "      <td>142199</td>\n",
       "    </tr>\n",
       "    <tr>\n",
       "      <th>1</th>\n",
       "      <td>Ga0081614_142199</td>\n",
       "      <td>Ga0081614_142198</td>\n",
       "      <td>-0.003919</td>\n",
       "      <td>negative</td>\n",
       "      <td>Ga0081614</td>\n",
       "      <td>142198</td>\n",
       "      <td>Ga0081614</td>\n",
       "      <td>142199</td>\n",
       "    </tr>\n",
       "    <tr>\n",
       "      <th>2</th>\n",
       "      <td>Ga0081614_142199</td>\n",
       "      <td>Ga0081614_18334</td>\n",
       "      <td>-0.001114</td>\n",
       "      <td>negative</td>\n",
       "      <td>Ga0081614</td>\n",
       "      <td>18334</td>\n",
       "      <td>Ga0081614</td>\n",
       "      <td>142199</td>\n",
       "    </tr>\n",
       "    <tr>\n",
       "      <th>3</th>\n",
       "      <td>Ga0081614_142199</td>\n",
       "      <td>Ga0081614_17829</td>\n",
       "      <td>-0.001569</td>\n",
       "      <td>negative</td>\n",
       "      <td>Ga0081614</td>\n",
       "      <td>17829</td>\n",
       "      <td>Ga0081614</td>\n",
       "      <td>142199</td>\n",
       "    </tr>\n",
       "    <tr>\n",
       "      <th>4</th>\n",
       "      <td>Ga0081614_142199</td>\n",
       "      <td>Ga0081607_11219</td>\n",
       "      <td>-0.001427</td>\n",
       "      <td>negative</td>\n",
       "      <td>Ga0081607</td>\n",
       "      <td>11219</td>\n",
       "      <td>Ga0081614</td>\n",
       "      <td>142199</td>\n",
       "    </tr>\n",
       "  </tbody>\n",
       "</table>\n",
       "</div>"
      ],
      "text/plain": [
       "             source            target      pcor association target_organism  \\\n",
       "0  Ga0081614_142199  Ga0081614_142197 -0.003951    negative       Ga0081614   \n",
       "1  Ga0081614_142199  Ga0081614_142198 -0.003919    negative       Ga0081614   \n",
       "2  Ga0081614_142199   Ga0081614_18334 -0.001114    negative       Ga0081614   \n",
       "3  Ga0081614_142199   Ga0081614_17829 -0.001569    negative       Ga0081614   \n",
       "4  Ga0081614_142199   Ga0081607_11219 -0.001427    negative       Ga0081607   \n",
       "\n",
       "  target_gene source_organism source_gene  \n",
       "0      142197       Ga0081614      142199  \n",
       "1      142198       Ga0081614      142199  \n",
       "2       18334       Ga0081614      142199  \n",
       "3       17829       Ga0081614      142199  \n",
       "4       11219       Ga0081614      142199  "
      ]
     },
     "execution_count": 18,
     "metadata": {},
     "output_type": "execute_result"
    }
   ],
   "source": [
    "network.head()"
   ]
  },
  {
   "cell_type": "code",
   "execution_count": 19,
   "metadata": {
    "collapsed": false
   },
   "outputs": [],
   "source": [
    "network = network.rename(columns=lambda x: re.sub('source$', 'source_locus_tag', x))\n",
    "network = network.rename(columns=lambda x: re.sub('target$', 'target_locus_tag', x))"
   ]
  },
  {
   "cell_type": "code",
   "execution_count": 20,
   "metadata": {
    "collapsed": false
   },
   "outputs": [
    {
     "data": {
      "text/html": [
       "<div>\n",
       "<table border=\"1\" class=\"dataframe\">\n",
       "  <thead>\n",
       "    <tr style=\"text-align: right;\">\n",
       "      <th></th>\n",
       "      <th>source_locus_tag</th>\n",
       "      <th>target_locus_tag</th>\n",
       "      <th>pcor</th>\n",
       "      <th>association</th>\n",
       "      <th>target_organism</th>\n",
       "      <th>target_gene</th>\n",
       "      <th>source_organism</th>\n",
       "      <th>source_gene</th>\n",
       "    </tr>\n",
       "  </thead>\n",
       "  <tbody>\n",
       "    <tr>\n",
       "      <th>0</th>\n",
       "      <td>Ga0081614_142199</td>\n",
       "      <td>Ga0081614_142197</td>\n",
       "      <td>-0.003951</td>\n",
       "      <td>negative</td>\n",
       "      <td>Ga0081614</td>\n",
       "      <td>142197</td>\n",
       "      <td>Ga0081614</td>\n",
       "      <td>142199</td>\n",
       "    </tr>\n",
       "    <tr>\n",
       "      <th>1</th>\n",
       "      <td>Ga0081614_142199</td>\n",
       "      <td>Ga0081614_142198</td>\n",
       "      <td>-0.003919</td>\n",
       "      <td>negative</td>\n",
       "      <td>Ga0081614</td>\n",
       "      <td>142198</td>\n",
       "      <td>Ga0081614</td>\n",
       "      <td>142199</td>\n",
       "    </tr>\n",
       "  </tbody>\n",
       "</table>\n",
       "</div>"
      ],
      "text/plain": [
       "   source_locus_tag  target_locus_tag      pcor association target_organism  \\\n",
       "0  Ga0081614_142199  Ga0081614_142197 -0.003951    negative       Ga0081614   \n",
       "1  Ga0081614_142199  Ga0081614_142198 -0.003919    negative       Ga0081614   \n",
       "\n",
       "  target_gene source_organism source_gene  \n",
       "0      142197       Ga0081614      142199  \n",
       "1      142198       Ga0081614      142199  "
      ]
     },
     "execution_count": 20,
     "metadata": {},
     "output_type": "execute_result"
    }
   ],
   "source": [
    "network.head(2)"
   ]
  },
  {
   "cell_type": "code",
   "execution_count": 21,
   "metadata": {
    "collapsed": false
   },
   "outputs": [
    {
     "data": {
      "text/plain": [
       "array(['Ga0081614', 'Ga0081607', 'Ga0081636', 'Ga0081643', 'Ga0081657',\n",
       "       'Ga0081632', 'Ga0081641', 'Ga0081627', 'Ga0081652', 'Ga0081629',\n",
       "       'Ga0081633', 'Ga0081608', 'Ga0081646', 'Ga0081624', 'Ga0081626',\n",
       "       'Ga0081623', 'Ga0081622', 'Ga0081647', 'Ga0081640', 'Ga0081637',\n",
       "       'Ga0081648', 'Ga0081645', 'Ga0081609', 'Ga0081649', 'Ga0081635',\n",
       "       'Ga0081611', 'Ga0081613', 'Ga0081628', 'Ga0081642', 'Ga0081616',\n",
       "       'Ga0081659', 'Ga0081656', 'Ga0081644', 'Ga0081631', 'Ga0081638',\n",
       "       'Ga0081653', 'Ga0081654', 'Ga0081621', 'Ga0081618', 'Ga0081620',\n",
       "       'Ga0081655', 'Ga0081610', 'Ga0081651', 'Ga0081634', 'Ga0081625',\n",
       "       'Ga0081612', 'Ga0081617', 'Ga0081615', 'Ga0081619', 'Ga0081650',\n",
       "       'Ga0081639'], dtype=object)"
      ]
     },
     "execution_count": 21,
     "metadata": {},
     "output_type": "execute_result"
    }
   ],
   "source": [
    "network['target_organism'].unique()"
   ]
  },
  {
   "cell_type": "code",
   "execution_count": 22,
   "metadata": {
    "collapsed": false
   },
   "outputs": [
    {
     "data": {
      "text/plain": [
       "51"
      ]
     },
     "execution_count": 22,
     "metadata": {},
     "output_type": "execute_result"
    }
   ],
   "source": [
    "len(network['target_organism'].unique())"
   ]
  },
  {
   "cell_type": "code",
   "execution_count": 23,
   "metadata": {
    "collapsed": false
   },
   "outputs": [],
   "source": [
    "network['cross_species'] = network['source_organism'] != network['target_organism']"
   ]
  },
  {
   "cell_type": "code",
   "execution_count": 24,
   "metadata": {
    "collapsed": false
   },
   "outputs": [
    {
     "data": {
      "text/plain": [
       "count    49995000\n",
       "mean     0.799668\n",
       "std      0.400249\n",
       "min         False\n",
       "25%             1\n",
       "50%             1\n",
       "75%             1\n",
       "max          True\n",
       "Name: cross_species, dtype: object"
      ]
     },
     "execution_count": 24,
     "metadata": {},
     "output_type": "execute_result"
    }
   ],
   "source": [
    "network.cross_species.describe()"
   ]
  },
  {
   "cell_type": "code",
   "execution_count": 25,
   "metadata": {
    "collapsed": false
   },
   "outputs": [
    {
     "data": {
      "text/plain": [
       "<matplotlib.axes._subplots.AxesSubplot at 0x7f3e11c4a710>"
      ]
     },
     "execution_count": 25,
     "metadata": {},
     "output_type": "execute_result"
    },
    {
     "data": {
      "image/png": "[encoded data removed]",
      "text/plain": [
       "<matplotlib.figure.Figure at 0x7f3e11c455d0>"
      ]
     },
     "metadata": {},
     "output_type": "display_data"
    }
   ],
   "source": [
    "network.cross_species.plot.hist()"
   ]
  },
  {
   "cell_type": "code",
   "execution_count": 26,
   "metadata": {
    "collapsed": false
   },
   "outputs": [
    {
     "data": {
      "text/plain": [
       "<matplotlib.axes._subplots.AxesSubplot at 0x7f39192cd7d0>"
      ]
     },
     "execution_count": 26,
     "metadata": {},
     "output_type": "execute_result"
    },
    {
     "data": {
      "image/png": "[encoded data removed]",
      "text/plain": [
       "<matplotlib.figure.Figure at 0x7f3c91e0b9d0>"
      ]
     },
     "metadata": {},
     "output_type": "display_data"
    }
   ],
   "source": [
    "network.pcor.plot.hist()"
   ]
  },
  {
   "cell_type": "raw",
   "metadata": {},
   "source": [
    "jmatsen@waffle:/dacb/meta4_bins/data$ head -n 4 genome_bins.locus_to_organism.tsv\n",
    "Ga0081607_1001  Methylobacter-123 (UID203)\n",
    "Ga0081607_1002  Methylobacter-123 (UID203)\n",
    "Ga0081607_1003  Methylobacter-123 (UID203)\n",
    "Ga0081607_1004  Methylobacter-123 (UID203)"
   ]
  },
  {
   "cell_type": "code",
   "execution_count": 27,
   "metadata": {
    "collapsed": false
   },
   "outputs": [],
   "source": [
    "locus_to_organism = pd.read_csv('/dacb/meta4_bins/data/genome_bins.locus_to_organism.tsv', sep='\\t',\n",
    "                               names=['locus', 'organism'])"
   ]
  },
  {
   "cell_type": "code",
   "execution_count": 28,
   "metadata": {
    "collapsed": false
   },
   "outputs": [
    {
     "data": {
      "text/html": [
       "<div>\n",
       "<table border=\"1\" class=\"dataframe\">\n",
       "  <thead>\n",
       "    <tr style=\"text-align: right;\">\n",
       "      <th></th>\n",
       "      <th>locus</th>\n",
       "      <th>organism</th>\n",
       "    </tr>\n",
       "  </thead>\n",
       "  <tbody>\n",
       "    <tr>\n",
       "      <th>0</th>\n",
       "      <td>Ga0081607_1001</td>\n",
       "      <td>Methylobacter-123 (UID203)</td>\n",
       "    </tr>\n",
       "    <tr>\n",
       "      <th>1</th>\n",
       "      <td>Ga0081607_1002</td>\n",
       "      <td>Methylobacter-123 (UID203)</td>\n",
       "    </tr>\n",
       "    <tr>\n",
       "      <th>2</th>\n",
       "      <td>Ga0081607_1003</td>\n",
       "      <td>Methylobacter-123 (UID203)</td>\n",
       "    </tr>\n",
       "    <tr>\n",
       "      <th>3</th>\n",
       "      <td>Ga0081607_1004</td>\n",
       "      <td>Methylobacter-123 (UID203)</td>\n",
       "    </tr>\n",
       "    <tr>\n",
       "      <th>4</th>\n",
       "      <td>Ga0081607_1005</td>\n",
       "      <td>Methylobacter-123 (UID203)</td>\n",
       "    </tr>\n",
       "  </tbody>\n",
       "</table>\n",
       "</div>"
      ],
      "text/plain": [
       "            locus                     organism\n",
       "0  Ga0081607_1001  Methylobacter-123 (UID203) \n",
       "1  Ga0081607_1002  Methylobacter-123 (UID203) \n",
       "2  Ga0081607_1003  Methylobacter-123 (UID203) \n",
       "3  Ga0081607_1004  Methylobacter-123 (UID203) \n",
       "4  Ga0081607_1005  Methylobacter-123 (UID203) "
      ]
     },
     "execution_count": 28,
     "metadata": {},
     "output_type": "execute_result"
    }
   ],
   "source": [
    "locus_to_organism.head()"
   ]
  },
  {
   "cell_type": "code",
   "execution_count": 29,
   "metadata": {
    "collapsed": false
   },
   "outputs": [],
   "source": [
    "# Found a problem: \n",
    "# Expected exactly 2 organsm names, but we have 3\n",
    "#   {'Methylobacter-123 (UID203) ', 'Methylobacter-123 (UID203)', 'Methylotenera mobilis-49 (UID203)'}\n",
    "# http://pandas.pydata.org/pandas-docs/stable/generated/pandas.Series.str.strip.html\n",
    "#   strips both left and right whitespace  :) \n",
    "locus_to_organism['organism'] = locus_to_organism['organism'].str.strip()"
   ]
  },
  {
   "cell_type": "code",
   "execution_count": 30,
   "metadata": {
    "collapsed": false
   },
   "outputs": [],
   "source": [
    "locus_to_organism['organism ID'] = locus_to_organism['locus'].str.extract('([A-z]+[0-9]+)_[0-9]+')"
   ]
  },
  {
   "cell_type": "code",
   "execution_count": 31,
   "metadata": {
    "collapsed": false
   },
   "outputs": [],
   "source": [
    "source_organism_names = locus_to_organism[['organism ID', 'organism']].drop_duplicates()\n",
    "target_organism_names = locus_to_organism[['organism ID', 'organism']].drop_duplicates()"
   ]
  },
  {
   "cell_type": "code",
   "execution_count": 32,
   "metadata": {
    "collapsed": false
   },
   "outputs": [],
   "source": [
    "source_organism_names = source_organism_names.rename(\n",
    "    columns={'organism ID':'source_organism', 'organism':'source_organism_name'})\n",
    "target_organism_names = target_organism_names.rename(\n",
    "    columns={'organism ID':'target_organism', 'organism':'target_organism_name'})"
   ]
  },
  {
   "cell_type": "code",
   "execution_count": 33,
   "metadata": {
    "collapsed": false
   },
   "outputs": [
    {
     "data": {
      "text/html": [
       "<div>\n",
       "<table border=\"1\" class=\"dataframe\">\n",
       "  <thead>\n",
       "    <tr style=\"text-align: right;\">\n",
       "      <th></th>\n",
       "      <th>source_organism</th>\n",
       "      <th>source_organism_name</th>\n",
       "    </tr>\n",
       "  </thead>\n",
       "  <tbody>\n",
       "    <tr>\n",
       "      <th>0</th>\n",
       "      <td>Ga0081607</td>\n",
       "      <td>Methylobacter-123 (UID203)</td>\n",
       "    </tr>\n",
       "    <tr>\n",
       "      <th>260</th>\n",
       "      <td>Ga0081608</td>\n",
       "      <td>Methylotenera mobilis-123 (UID3888)</td>\n",
       "    </tr>\n",
       "    <tr>\n",
       "      <th>560</th>\n",
       "      <td>Ga0081609</td>\n",
       "      <td>Acidovorax-123 (UID4000)</td>\n",
       "    </tr>\n",
       "    <tr>\n",
       "      <th>578</th>\n",
       "      <td>Ga0081610</td>\n",
       "      <td>Rhodocyclaceae-127 (UID3972)</td>\n",
       "    </tr>\n",
       "    <tr>\n",
       "      <th>938</th>\n",
       "      <td>Ga0081611</td>\n",
       "      <td>Methylophilus methylotrophus-127-1 (UID203)</td>\n",
       "    </tr>\n",
       "    <tr>\n",
       "      <th>1080</th>\n",
       "      <td>Ga0081612</td>\n",
       "      <td>Methylophilus methylotrophus-127-2 (UID203)</td>\n",
       "    </tr>\n",
       "    <tr>\n",
       "      <th>1307</th>\n",
       "      <td>Ga0081613</td>\n",
       "      <td>Acidovorax-127 (UID4105)</td>\n",
       "    </tr>\n",
       "    <tr>\n",
       "      <th>1367</th>\n",
       "      <td>Ga0081614</td>\n",
       "      <td>Methylobacter tundripaludum-129 (UID203)</td>\n",
       "    </tr>\n",
       "    <tr>\n",
       "      <th>1454</th>\n",
       "      <td>Ga0081615</td>\n",
       "      <td>Opitutae-129 (UID2982)</td>\n",
       "    </tr>\n",
       "    <tr>\n",
       "      <th>1647</th>\n",
       "      <td>Ga0081616</td>\n",
       "      <td>Burkholderiales-129 (UID4000)</td>\n",
       "    </tr>\n",
       "    <tr>\n",
       "      <th>2031</th>\n",
       "      <td>Ga0081617</td>\n",
       "      <td>Methylophilus methylotrophus-129-1 (UID203)</td>\n",
       "    </tr>\n",
       "    <tr>\n",
       "      <th>2146</th>\n",
       "      <td>Ga0081618</td>\n",
       "      <td>Methylophilus methylotrophus-129-2 (UID203)</td>\n",
       "    </tr>\n",
       "    <tr>\n",
       "      <th>2233</th>\n",
       "      <td>Ga0081619</td>\n",
       "      <td>Bacteriovorax-21 (UID3187)</td>\n",
       "    </tr>\n",
       "    <tr>\n",
       "      <th>2285</th>\n",
       "      <td>Ga0081620</td>\n",
       "      <td>Bacteria-21 (UID203)</td>\n",
       "    </tr>\n",
       "    <tr>\n",
       "      <th>2539</th>\n",
       "      <td>Ga0081621</td>\n",
       "      <td>Acidovorax-21 (UID4105)</td>\n",
       "    </tr>\n",
       "    <tr>\n",
       "      <th>2985</th>\n",
       "      <td>Ga0081622</td>\n",
       "      <td>Methylosarcina-21 (UID203)</td>\n",
       "    </tr>\n",
       "    <tr>\n",
       "      <th>3394</th>\n",
       "      <td>Ga0081623</td>\n",
       "      <td>Methylococcaceae-21 (UID203)</td>\n",
       "    </tr>\n",
       "    <tr>\n",
       "      <th>3948</th>\n",
       "      <td>Ga0081624</td>\n",
       "      <td>Methylophilaceae-40 (UID3888)</td>\n",
       "    </tr>\n",
       "    <tr>\n",
       "      <th>4188</th>\n",
       "      <td>Ga0081625</td>\n",
       "      <td>Opititae-40 (UID2982)</td>\n",
       "    </tr>\n",
       "    <tr>\n",
       "      <th>4212</th>\n",
       "      <td>Ga0081626</td>\n",
       "      <td>Methylophilaceae-49 (UID203)</td>\n",
       "    </tr>\n",
       "    <tr>\n",
       "      <th>4413</th>\n",
       "      <td>Ga0081627</td>\n",
       "      <td>Methylotenera mobilis-49 (UID3888)</td>\n",
       "    </tr>\n",
       "    <tr>\n",
       "      <th>4639</th>\n",
       "      <td>Ga0081628</td>\n",
       "      <td>Bacteroidetes-49 (UID2591)</td>\n",
       "    </tr>\n",
       "    <tr>\n",
       "      <th>4709</th>\n",
       "      <td>Ga0081629</td>\n",
       "      <td>Methylotenera mobilis-49 (UID203)</td>\n",
       "    </tr>\n",
       "    <tr>\n",
       "      <th>4931</th>\n",
       "      <td>Ga0081630</td>\n",
       "      <td>Bacteriovorax-49 (UID3187)</td>\n",
       "    </tr>\n",
       "    <tr>\n",
       "      <th>5308</th>\n",
       "      <td>Ga0081631</td>\n",
       "      <td>Rhodocyclaceae-49 (UID3972)</td>\n",
       "    </tr>\n",
       "    <tr>\n",
       "      <th>5498</th>\n",
       "      <td>Ga0081632</td>\n",
       "      <td>Flavobacteriaceae-49 (UID2817)</td>\n",
       "    </tr>\n",
       "    <tr>\n",
       "      <th>5721</th>\n",
       "      <td>Ga0081633</td>\n",
       "      <td>Methylophilus methylotrophus-55 (UID3888)</td>\n",
       "    </tr>\n",
       "    <tr>\n",
       "      <th>5738</th>\n",
       "      <td>Ga0081634</td>\n",
       "      <td>Methylosarcina lacus-55 (UID4274)</td>\n",
       "    </tr>\n",
       "    <tr>\n",
       "      <th>6181</th>\n",
       "      <td>Ga0081635</td>\n",
       "      <td>Burkholderiales-55 (UID4000)</td>\n",
       "    </tr>\n",
       "    <tr>\n",
       "      <th>6234</th>\n",
       "      <td>Ga0081636</td>\n",
       "      <td>Methylococcaceae-55 (UID203)</td>\n",
       "    </tr>\n",
       "    <tr>\n",
       "      <th>6288</th>\n",
       "      <td>Ga0081637</td>\n",
       "      <td>Methylophilaceae-55 (UID3888)</td>\n",
       "    </tr>\n",
       "    <tr>\n",
       "      <th>6312</th>\n",
       "      <td>Ga0081638</td>\n",
       "      <td>Methylovulum miyakonense-55 (UID4274)</td>\n",
       "    </tr>\n",
       "    <tr>\n",
       "      <th>6645</th>\n",
       "      <td>Ga0081639</td>\n",
       "      <td>Bacteriovorax-63 (UID3187)</td>\n",
       "    </tr>\n",
       "    <tr>\n",
       "      <th>6654</th>\n",
       "      <td>Ga0081640</td>\n",
       "      <td>Methylotenera mobilis-63 (UID3888)</td>\n",
       "    </tr>\n",
       "    <tr>\n",
       "      <th>6945</th>\n",
       "      <td>Ga0081641</td>\n",
       "      <td>Methylobacter-69 (UID4274)</td>\n",
       "    </tr>\n",
       "    <tr>\n",
       "      <th>7125</th>\n",
       "      <td>Ga0081642</td>\n",
       "      <td>Methylophilus methylotrophus-69 (UID3888)</td>\n",
       "    </tr>\n",
       "    <tr>\n",
       "      <th>7156</th>\n",
       "      <td>Ga0081643</td>\n",
       "      <td>Methylosarcina lacus-69 (UID4274)</td>\n",
       "    </tr>\n",
       "    <tr>\n",
       "      <th>7373</th>\n",
       "      <td>Ga0081644</td>\n",
       "      <td>Acidovora-69x (UID4105)</td>\n",
       "    </tr>\n",
       "    <tr>\n",
       "      <th>7818</th>\n",
       "      <td>Ga0081645</td>\n",
       "      <td>Acidovorax-75 (UID4105)</td>\n",
       "    </tr>\n",
       "    <tr>\n",
       "      <th>8086</th>\n",
       "      <td>Ga0081646</td>\n",
       "      <td>Bacteroidetes-76 (UID2591)</td>\n",
       "    </tr>\n",
       "    <tr>\n",
       "      <th>8337</th>\n",
       "      <td>Ga0081647</td>\n",
       "      <td>Methylotenera mobilis-76-1 (UID203)</td>\n",
       "    </tr>\n",
       "    <tr>\n",
       "      <th>8545</th>\n",
       "      <td>Ga0081648</td>\n",
       "      <td>Burkholderiales-76 (UID4002)</td>\n",
       "    </tr>\n",
       "    <tr>\n",
       "      <th>8652</th>\n",
       "      <td>Ga0081649</td>\n",
       "      <td>Methylotenera mobilis-76-2 (UID203)</td>\n",
       "    </tr>\n",
       "    <tr>\n",
       "      <th>9061</th>\n",
       "      <td>Ga0081650</td>\n",
       "      <td>Methylophilus methylotrophus-79 (UID3888)</td>\n",
       "    </tr>\n",
       "    <tr>\n",
       "      <th>9078</th>\n",
       "      <td>Ga0081651</td>\n",
       "      <td>Acidovorax-79 (UID4214)</td>\n",
       "    </tr>\n",
       "    <tr>\n",
       "      <th>9176</th>\n",
       "      <td>Ga0081652</td>\n",
       "      <td>Flavobacteriaceae-79-1 (UID2817)</td>\n",
       "    </tr>\n",
       "    <tr>\n",
       "      <th>9383</th>\n",
       "      <td>Ga0081653</td>\n",
       "      <td>Flavobacteriaceae-79-2 (UID2817)</td>\n",
       "    </tr>\n",
       "    <tr>\n",
       "      <th>9644</th>\n",
       "      <td>Ga0081654</td>\n",
       "      <td>Bacteroidetes-8 (UID2591)</td>\n",
       "    </tr>\n",
       "    <tr>\n",
       "      <th>9987</th>\n",
       "      <td>Ga0081656</td>\n",
       "      <td>Bacteriovora-8x (UID3187)</td>\n",
       "    </tr>\n",
       "    <tr>\n",
       "      <th>10277</th>\n",
       "      <td>Ga0081657</td>\n",
       "      <td>Methylobacte-98r (UID4274)</td>\n",
       "    </tr>\n",
       "    <tr>\n",
       "      <th>10403</th>\n",
       "      <td>Ga0081658</td>\n",
       "      <td>Methylophilus methylotrophus-98 (UID3888)</td>\n",
       "    </tr>\n",
       "    <tr>\n",
       "      <th>10434</th>\n",
       "      <td>Ga0081659</td>\n",
       "      <td>Acidovorax-98 (UID4105)</td>\n",
       "    </tr>\n",
       "    <tr>\n",
       "      <th>10793</th>\n",
       "      <td>Ga0081655</td>\n",
       "      <td>Methylophilaceae-8 (UID203)</td>\n",
       "    </tr>\n",
       "  </tbody>\n",
       "</table>\n",
       "</div>"
      ],
      "text/plain": [
       "      source_organism                         source_organism_name\n",
       "0           Ga0081607                   Methylobacter-123 (UID203)\n",
       "260         Ga0081608          Methylotenera mobilis-123 (UID3888)\n",
       "560         Ga0081609                     Acidovorax-123 (UID4000)\n",
       "578         Ga0081610                 Rhodocyclaceae-127 (UID3972)\n",
       "938         Ga0081611  Methylophilus methylotrophus-127-1 (UID203)\n",
       "1080        Ga0081612  Methylophilus methylotrophus-127-2 (UID203)\n",
       "1307        Ga0081613                     Acidovorax-127 (UID4105)\n",
       "1367        Ga0081614     Methylobacter tundripaludum-129 (UID203)\n",
       "1454        Ga0081615                       Opitutae-129 (UID2982)\n",
       "1647        Ga0081616                Burkholderiales-129 (UID4000)\n",
       "2031        Ga0081617  Methylophilus methylotrophus-129-1 (UID203)\n",
       "2146        Ga0081618  Methylophilus methylotrophus-129-2 (UID203)\n",
       "2233        Ga0081619                   Bacteriovorax-21 (UID3187)\n",
       "2285        Ga0081620                         Bacteria-21 (UID203)\n",
       "2539        Ga0081621                      Acidovorax-21 (UID4105)\n",
       "2985        Ga0081622                   Methylosarcina-21 (UID203)\n",
       "3394        Ga0081623                 Methylococcaceae-21 (UID203)\n",
       "3948        Ga0081624                Methylophilaceae-40 (UID3888)\n",
       "4188        Ga0081625                        Opititae-40 (UID2982)\n",
       "4212        Ga0081626                 Methylophilaceae-49 (UID203)\n",
       "4413        Ga0081627           Methylotenera mobilis-49 (UID3888)\n",
       "4639        Ga0081628                   Bacteroidetes-49 (UID2591)\n",
       "4709        Ga0081629            Methylotenera mobilis-49 (UID203)\n",
       "4931        Ga0081630                   Bacteriovorax-49 (UID3187)\n",
       "5308        Ga0081631                  Rhodocyclaceae-49 (UID3972)\n",
       "5498        Ga0081632               Flavobacteriaceae-49 (UID2817)\n",
       "5721        Ga0081633    Methylophilus methylotrophus-55 (UID3888)\n",
       "5738        Ga0081634            Methylosarcina lacus-55 (UID4274)\n",
       "6181        Ga0081635                 Burkholderiales-55 (UID4000)\n",
       "6234        Ga0081636                 Methylococcaceae-55 (UID203)\n",
       "6288        Ga0081637                Methylophilaceae-55 (UID3888)\n",
       "6312        Ga0081638        Methylovulum miyakonense-55 (UID4274)\n",
       "6645        Ga0081639                   Bacteriovorax-63 (UID3187)\n",
       "6654        Ga0081640           Methylotenera mobilis-63 (UID3888)\n",
       "6945        Ga0081641                   Methylobacter-69 (UID4274)\n",
       "7125        Ga0081642    Methylophilus methylotrophus-69 (UID3888)\n",
       "7156        Ga0081643            Methylosarcina lacus-69 (UID4274)\n",
       "7373        Ga0081644                      Acidovora-69x (UID4105)\n",
       "7818        Ga0081645                      Acidovorax-75 (UID4105)\n",
       "8086        Ga0081646                   Bacteroidetes-76 (UID2591)\n",
       "8337        Ga0081647          Methylotenera mobilis-76-1 (UID203)\n",
       "8545        Ga0081648                 Burkholderiales-76 (UID4002)\n",
       "8652        Ga0081649          Methylotenera mobilis-76-2 (UID203)\n",
       "9061        Ga0081650    Methylophilus methylotrophus-79 (UID3888)\n",
       "9078        Ga0081651                      Acidovorax-79 (UID4214)\n",
       "9176        Ga0081652             Flavobacteriaceae-79-1 (UID2817)\n",
       "9383        Ga0081653             Flavobacteriaceae-79-2 (UID2817)\n",
       "9644        Ga0081654                    Bacteroidetes-8 (UID2591)\n",
       "9987        Ga0081656                    Bacteriovora-8x (UID3187)\n",
       "10277       Ga0081657                   Methylobacte-98r (UID4274)\n",
       "10403       Ga0081658    Methylophilus methylotrophus-98 (UID3888)\n",
       "10434       Ga0081659                      Acidovorax-98 (UID4105)\n",
       "10793       Ga0081655                  Methylophilaceae-8 (UID203)"
      ]
     },
     "execution_count": 33,
     "metadata": {},
     "output_type": "execute_result"
    }
   ],
   "source": [
    "source_organism_names"
   ]
  },
  {
   "cell_type": "code",
   "execution_count": 34,
   "metadata": {
    "collapsed": false
   },
   "outputs": [],
   "source": [
    "merged = pd.merge(network, source_organism_names)"
   ]
  },
  {
   "cell_type": "code",
   "execution_count": 35,
   "metadata": {
    "collapsed": false
   },
   "outputs": [
    {
     "data": {
      "text/plain": [
       "51"
      ]
     },
     "execution_count": 35,
     "metadata": {},
     "output_type": "execute_result"
    }
   ],
   "source": [
    "len(merged.source_organism_name.unique())"
   ]
  },
  {
   "cell_type": "code",
   "execution_count": 36,
   "metadata": {
    "collapsed": false
   },
   "outputs": [
    {
     "data": {
      "text/html": [
       "<div>\n",
       "<table border=\"1\" class=\"dataframe\">\n",
       "  <thead>\n",
       "    <tr style=\"text-align: right;\">\n",
       "      <th></th>\n",
       "      <th>source_locus_tag</th>\n",
       "      <th>target_locus_tag</th>\n",
       "      <th>pcor</th>\n",
       "      <th>association</th>\n",
       "      <th>target_organism</th>\n",
       "      <th>target_gene</th>\n",
       "      <th>source_organism</th>\n",
       "      <th>source_gene</th>\n",
       "      <th>cross_species</th>\n",
       "      <th>source_organism_name</th>\n",
       "    </tr>\n",
       "  </thead>\n",
       "  <tbody>\n",
       "    <tr>\n",
       "      <th>0</th>\n",
       "      <td>Ga0081614_142199</td>\n",
       "      <td>Ga0081614_142197</td>\n",
       "      <td>-0.003951</td>\n",
       "      <td>negative</td>\n",
       "      <td>Ga0081614</td>\n",
       "      <td>142197</td>\n",
       "      <td>Ga0081614</td>\n",
       "      <td>142199</td>\n",
       "      <td>False</td>\n",
       "      <td>Methylobacter tundripaludum-129 (UID203)</td>\n",
       "    </tr>\n",
       "    <tr>\n",
       "      <th>1</th>\n",
       "      <td>Ga0081614_142199</td>\n",
       "      <td>Ga0081614_142198</td>\n",
       "      <td>-0.003919</td>\n",
       "      <td>negative</td>\n",
       "      <td>Ga0081614</td>\n",
       "      <td>142198</td>\n",
       "      <td>Ga0081614</td>\n",
       "      <td>142199</td>\n",
       "      <td>False</td>\n",
       "      <td>Methylobacter tundripaludum-129 (UID203)</td>\n",
       "    </tr>\n",
       "  </tbody>\n",
       "</table>\n",
       "</div>"
      ],
      "text/plain": [
       "   source_locus_tag  target_locus_tag      pcor association target_organism  \\\n",
       "0  Ga0081614_142199  Ga0081614_142197 -0.003951    negative       Ga0081614   \n",
       "1  Ga0081614_142199  Ga0081614_142198 -0.003919    negative       Ga0081614   \n",
       "\n",
       "  target_gene source_organism source_gene cross_species  \\\n",
       "0      142197       Ga0081614      142199         False   \n",
       "1      142198       Ga0081614      142199         False   \n",
       "\n",
       "                       source_organism_name  \n",
       "0  Methylobacter tundripaludum-129 (UID203)  \n",
       "1  Methylobacter tundripaludum-129 (UID203)  "
      ]
     },
     "execution_count": 36,
     "metadata": {},
     "output_type": "execute_result"
    }
   ],
   "source": [
    "merged.head(2)"
   ]
  },
  {
   "cell_type": "code",
   "execution_count": 37,
   "metadata": {
    "collapsed": false
   },
   "outputs": [
    {
     "name": "stdout",
     "output_type": "stream",
     "text": [
      "(49995000, 11)\n",
      "(49995000, 9)\n"
     ]
    }
   ],
   "source": [
    "merged = pd.merge(merged, target_organism_names)\n",
    "print(merged.shape)\n",
    "print(network.shape)"
   ]
  },
  {
   "cell_type": "code",
   "execution_count": 38,
   "metadata": {
    "collapsed": false
   },
   "outputs": [
    {
     "data": {
      "text/html": [
       "<div>\n",
       "<table border=\"1\" class=\"dataframe\">\n",
       "  <thead>\n",
       "    <tr style=\"text-align: right;\">\n",
       "      <th></th>\n",
       "      <th>source_locus_tag</th>\n",
       "      <th>target_locus_tag</th>\n",
       "      <th>pcor</th>\n",
       "      <th>association</th>\n",
       "      <th>target_organism</th>\n",
       "      <th>target_gene</th>\n",
       "      <th>source_organism</th>\n",
       "      <th>source_gene</th>\n",
       "      <th>cross_species</th>\n",
       "      <th>source_organism_name</th>\n",
       "      <th>target_organism_name</th>\n",
       "    </tr>\n",
       "  </thead>\n",
       "  <tbody>\n",
       "    <tr>\n",
       "      <th>0</th>\n",
       "      <td>Ga0081614_142199</td>\n",
       "      <td>Ga0081614_142197</td>\n",
       "      <td>-0.003951</td>\n",
       "      <td>negative</td>\n",
       "      <td>Ga0081614</td>\n",
       "      <td>142197</td>\n",
       "      <td>Ga0081614</td>\n",
       "      <td>142199</td>\n",
       "      <td>False</td>\n",
       "      <td>Methylobacter tundripaludum-129 (UID203)</td>\n",
       "      <td>Methylobacter tundripaludum-129 (UID203)</td>\n",
       "    </tr>\n",
       "    <tr>\n",
       "      <th>1</th>\n",
       "      <td>Ga0081614_142199</td>\n",
       "      <td>Ga0081614_142198</td>\n",
       "      <td>-0.003919</td>\n",
       "      <td>negative</td>\n",
       "      <td>Ga0081614</td>\n",
       "      <td>142198</td>\n",
       "      <td>Ga0081614</td>\n",
       "      <td>142199</td>\n",
       "      <td>False</td>\n",
       "      <td>Methylobacter tundripaludum-129 (UID203)</td>\n",
       "      <td>Methylobacter tundripaludum-129 (UID203)</td>\n",
       "    </tr>\n",
       "    <tr>\n",
       "      <th>2</th>\n",
       "      <td>Ga0081614_142199</td>\n",
       "      <td>Ga0081614_18334</td>\n",
       "      <td>-0.001114</td>\n",
       "      <td>negative</td>\n",
       "      <td>Ga0081614</td>\n",
       "      <td>18334</td>\n",
       "      <td>Ga0081614</td>\n",
       "      <td>142199</td>\n",
       "      <td>False</td>\n",
       "      <td>Methylobacter tundripaludum-129 (UID203)</td>\n",
       "      <td>Methylobacter tundripaludum-129 (UID203)</td>\n",
       "    </tr>\n",
       "    <tr>\n",
       "      <th>3</th>\n",
       "      <td>Ga0081614_142199</td>\n",
       "      <td>Ga0081614_17829</td>\n",
       "      <td>-0.001569</td>\n",
       "      <td>negative</td>\n",
       "      <td>Ga0081614</td>\n",
       "      <td>17829</td>\n",
       "      <td>Ga0081614</td>\n",
       "      <td>142199</td>\n",
       "      <td>False</td>\n",
       "      <td>Methylobacter tundripaludum-129 (UID203)</td>\n",
       "      <td>Methylobacter tundripaludum-129 (UID203)</td>\n",
       "    </tr>\n",
       "    <tr>\n",
       "      <th>4</th>\n",
       "      <td>Ga0081614_142199</td>\n",
       "      <td>Ga0081614_142153</td>\n",
       "      <td>-0.001388</td>\n",
       "      <td>negative</td>\n",
       "      <td>Ga0081614</td>\n",
       "      <td>142153</td>\n",
       "      <td>Ga0081614</td>\n",
       "      <td>142199</td>\n",
       "      <td>False</td>\n",
       "      <td>Methylobacter tundripaludum-129 (UID203)</td>\n",
       "      <td>Methylobacter tundripaludum-129 (UID203)</td>\n",
       "    </tr>\n",
       "  </tbody>\n",
       "</table>\n",
       "</div>"
      ],
      "text/plain": [
       "   source_locus_tag  target_locus_tag      pcor association target_organism  \\\n",
       "0  Ga0081614_142199  Ga0081614_142197 -0.003951    negative       Ga0081614   \n",
       "1  Ga0081614_142199  Ga0081614_142198 -0.003919    negative       Ga0081614   \n",
       "2  Ga0081614_142199   Ga0081614_18334 -0.001114    negative       Ga0081614   \n",
       "3  Ga0081614_142199   Ga0081614_17829 -0.001569    negative       Ga0081614   \n",
       "4  Ga0081614_142199  Ga0081614_142153 -0.001388    negative       Ga0081614   \n",
       "\n",
       "  target_gene source_organism source_gene cross_species  \\\n",
       "0      142197       Ga0081614      142199         False   \n",
       "1      142198       Ga0081614      142199         False   \n",
       "2       18334       Ga0081614      142199         False   \n",
       "3       17829       Ga0081614      142199         False   \n",
       "4      142153       Ga0081614      142199         False   \n",
       "\n",
       "                       source_organism_name  \\\n",
       "0  Methylobacter tundripaludum-129 (UID203)   \n",
       "1  Methylobacter tundripaludum-129 (UID203)   \n",
       "2  Methylobacter tundripaludum-129 (UID203)   \n",
       "3  Methylobacter tundripaludum-129 (UID203)   \n",
       "4  Methylobacter tundripaludum-129 (UID203)   \n",
       "\n",
       "                       target_organism_name  \n",
       "0  Methylobacter tundripaludum-129 (UID203)  \n",
       "1  Methylobacter tundripaludum-129 (UID203)  \n",
       "2  Methylobacter tundripaludum-129 (UID203)  \n",
       "3  Methylobacter tundripaludum-129 (UID203)  \n",
       "4  Methylobacter tundripaludum-129 (UID203)  "
      ]
     },
     "execution_count": 38,
     "metadata": {},
     "output_type": "execute_result"
    }
   ],
   "source": [
    "merged.head()"
   ]
  },
  {
   "cell_type": "code",
   "execution_count": 39,
   "metadata": {
    "collapsed": false
   },
   "outputs": [
    {
     "data": {
      "text/plain": [
       "51"
      ]
     },
     "execution_count": 39,
     "metadata": {},
     "output_type": "execute_result"
    }
   ],
   "source": [
    "len(merged.target_organism_name.unique())"
   ]
  },
  {
   "cell_type": "code",
   "execution_count": 40,
   "metadata": {
    "collapsed": false
   },
   "outputs": [
    {
     "name": "stdout",
     "output_type": "stream",
     "text": [
      "(49995000, 11)\n",
      "(49995000, 9)\n"
     ]
    },
    {
     "data": {
      "text/html": [
       "<div>\n",
       "<table border=\"1\" class=\"dataframe\">\n",
       "  <thead>\n",
       "    <tr style=\"text-align: right;\">\n",
       "      <th></th>\n",
       "      <th>source_locus_tag</th>\n",
       "      <th>target_locus_tag</th>\n",
       "      <th>pcor</th>\n",
       "      <th>association</th>\n",
       "      <th>target_organism</th>\n",
       "      <th>target_gene</th>\n",
       "      <th>source_organism</th>\n",
       "      <th>source_gene</th>\n",
       "      <th>cross_species</th>\n",
       "      <th>source_organism_name</th>\n",
       "      <th>target_organism_name</th>\n",
       "    </tr>\n",
       "  </thead>\n",
       "  <tbody>\n",
       "    <tr>\n",
       "      <th>49994997</th>\n",
       "      <td>Ga0081619_12132</td>\n",
       "      <td>Ga0081639_16605</td>\n",
       "      <td>0.005073</td>\n",
       "      <td>positive</td>\n",
       "      <td>Ga0081639</td>\n",
       "      <td>16605</td>\n",
       "      <td>Ga0081619</td>\n",
       "      <td>12132</td>\n",
       "      <td>True</td>\n",
       "      <td>Bacteriovorax-21 (UID3187)</td>\n",
       "      <td>Bacteriovorax-63 (UID3187)</td>\n",
       "    </tr>\n",
       "    <tr>\n",
       "      <th>49994998</th>\n",
       "      <td>Ga0081619_1266</td>\n",
       "      <td>Ga0081639_16605</td>\n",
       "      <td>0.001305</td>\n",
       "      <td>positive</td>\n",
       "      <td>Ga0081639</td>\n",
       "      <td>16605</td>\n",
       "      <td>Ga0081619</td>\n",
       "      <td>1266</td>\n",
       "      <td>True</td>\n",
       "      <td>Bacteriovorax-21 (UID3187)</td>\n",
       "      <td>Bacteriovorax-63 (UID3187)</td>\n",
       "    </tr>\n",
       "    <tr>\n",
       "      <th>49994999</th>\n",
       "      <td>Ga0081650_1031</td>\n",
       "      <td>Ga0081639_16605</td>\n",
       "      <td>-0.007078</td>\n",
       "      <td>negative</td>\n",
       "      <td>Ga0081639</td>\n",
       "      <td>16605</td>\n",
       "      <td>Ga0081650</td>\n",
       "      <td>1031</td>\n",
       "      <td>True</td>\n",
       "      <td>Methylophilus methylotrophus-79 (UID3888)</td>\n",
       "      <td>Bacteriovorax-63 (UID3187)</td>\n",
       "    </tr>\n",
       "  </tbody>\n",
       "</table>\n",
       "</div>"
      ],
      "text/plain": [
       "         source_locus_tag target_locus_tag      pcor association  \\\n",
       "49994997  Ga0081619_12132  Ga0081639_16605  0.005073    positive   \n",
       "49994998   Ga0081619_1266  Ga0081639_16605  0.001305    positive   \n",
       "49994999   Ga0081650_1031  Ga0081639_16605 -0.007078    negative   \n",
       "\n",
       "         target_organism target_gene source_organism source_gene  \\\n",
       "49994997       Ga0081639       16605       Ga0081619       12132   \n",
       "49994998       Ga0081639       16605       Ga0081619        1266   \n",
       "49994999       Ga0081639       16605       Ga0081650        1031   \n",
       "\n",
       "         cross_species                       source_organism_name  \\\n",
       "49994997          True                 Bacteriovorax-21 (UID3187)   \n",
       "49994998          True                 Bacteriovorax-21 (UID3187)   \n",
       "49994999          True  Methylophilus methylotrophus-79 (UID3888)   \n",
       "\n",
       "                target_organism_name  \n",
       "49994997  Bacteriovorax-63 (UID3187)  \n",
       "49994998  Bacteriovorax-63 (UID3187)  \n",
       "49994999  Bacteriovorax-63 (UID3187)  "
      ]
     },
     "execution_count": 40,
     "metadata": {},
     "output_type": "execute_result"
    }
   ],
   "source": [
    "print(merged.shape)\n",
    "print(network.shape)\n",
    "\n",
    "merged.tail(3)"
   ]
  },
  {
   "cell_type": "markdown",
   "metadata": {},
   "source": [
    "**Use summary_counts, not summary_rpkm for gene names.**\n",
    "\n",
    "`jmatsen@waffle:/dacb/meta4_bins/analysis/assemble_summaries$ ag Ga0081607_11219 summary_rpkm.xls | head -n 10\n",
    "jmatsen@waffle:/dacb/meta4_bins/analysis/assemble_summaries$ ag Ga0081607_11219 summary_counts.xls | head -n 10\n",
    "2015:Methylobacter-123 (UID203)         Ga0081607_11219 hypothetical protein    243652  6660    160     285587  448     89      94      4893    13\n",
    "        66994   47733   163     301     3       146     1851    26      53125   249288  21      14249   28      12      42296   23538   2778    1918      2061    217     173983  164307  398     450     1170    10410   30      344     2224    2164    1452    810     338     656     70      222       3475    1143    2672    1313    1246    930     54      23      9942    9603    2381    8196    29      49      23721   7808    33195   17291     5825    6609    36      83      40661   28629   17949   12227   15478   15054   125     1010    10214   66875   40225   944     11993   9572      56      9375`"
   ]
  },
  {
   "cell_type": "code",
   "execution_count": 41,
   "metadata": {
    "collapsed": false
   },
   "outputs": [],
   "source": [
    "genes = pd.read_csv('/dacb/meta4_bins/analysis/assemble_summaries/summary_counts.xls', \n",
    "                    sep = '\\t', usecols=[1, 2])"
   ]
  },
  {
   "cell_type": "code",
   "execution_count": 42,
   "metadata": {
    "collapsed": false
   },
   "outputs": [
    {
     "data": {
      "text/html": [
       "<div>\n",
       "<table border=\"1\" class=\"dataframe\">\n",
       "  <thead>\n",
       "    <tr style=\"text-align: right;\">\n",
       "      <th></th>\n",
       "      <th>locus_tag</th>\n",
       "      <th>product</th>\n",
       "    </tr>\n",
       "  </thead>\n",
       "  <tbody>\n",
       "    <tr>\n",
       "      <th>169834</th>\n",
       "      <td>Ga0081655_13359</td>\n",
       "      <td>sulfur compound chelating protein SoxZ</td>\n",
       "    </tr>\n",
       "    <tr>\n",
       "      <th>169835</th>\n",
       "      <td>Ga0081655_133510</td>\n",
       "      <td>thiosulfate-binding protein SoxY</td>\n",
       "    </tr>\n",
       "    <tr>\n",
       "      <th>169836</th>\n",
       "      <td>Ga0081655_133511</td>\n",
       "      <td>predicted Zn-dependent protease</td>\n",
       "    </tr>\n",
       "  </tbody>\n",
       "</table>\n",
       "</div>"
      ],
      "text/plain": [
       "               locus_tag                                 product\n",
       "169834   Ga0081655_13359  sulfur compound chelating protein SoxZ\n",
       "169835  Ga0081655_133510        thiosulfate-binding protein SoxY\n",
       "169836  Ga0081655_133511         predicted Zn-dependent protease"
      ]
     },
     "execution_count": 42,
     "metadata": {},
     "output_type": "execute_result"
    }
   ],
   "source": [
    "genes.tail(3)"
   ]
  },
  {
   "cell_type": "raw",
   "metadata": {},
   "source": [
    "genes['locus'] = genes['locus_tag'].str.extract('([A-z0-9]+)_[0-9]+')\n",
    "genes['target_gene'] = genes['locus_tag'].str.extract('[A-z0-9]+_([0-9]+)')"
   ]
  },
  {
   "cell_type": "code",
   "execution_count": 43,
   "metadata": {
    "collapsed": false
   },
   "outputs": [
    {
     "data": {
      "text/html": [
       "<div>\n",
       "<table border=\"1\" class=\"dataframe\">\n",
       "  <thead>\n",
       "    <tr style=\"text-align: right;\">\n",
       "      <th></th>\n",
       "      <th>locus_tag</th>\n",
       "      <th>product</th>\n",
       "    </tr>\n",
       "  </thead>\n",
       "  <tbody>\n",
       "    <tr>\n",
       "      <th>169832</th>\n",
       "      <td>Ga0081655_13357</td>\n",
       "      <td>alkyl hydroperoxide reductase subunit F</td>\n",
       "    </tr>\n",
       "    <tr>\n",
       "      <th>169833</th>\n",
       "      <td>Ga0081655_13358</td>\n",
       "      <td>peroxiredoxin (alkyl hydroperoxide reductase s...</td>\n",
       "    </tr>\n",
       "    <tr>\n",
       "      <th>169834</th>\n",
       "      <td>Ga0081655_13359</td>\n",
       "      <td>sulfur compound chelating protein SoxZ</td>\n",
       "    </tr>\n",
       "    <tr>\n",
       "      <th>169835</th>\n",
       "      <td>Ga0081655_133510</td>\n",
       "      <td>thiosulfate-binding protein SoxY</td>\n",
       "    </tr>\n",
       "    <tr>\n",
       "      <th>169836</th>\n",
       "      <td>Ga0081655_133511</td>\n",
       "      <td>predicted Zn-dependent protease</td>\n",
       "    </tr>\n",
       "  </tbody>\n",
       "</table>\n",
       "</div>"
      ],
      "text/plain": [
       "               locus_tag                                            product\n",
       "169832   Ga0081655_13357            alkyl hydroperoxide reductase subunit F\n",
       "169833   Ga0081655_13358  peroxiredoxin (alkyl hydroperoxide reductase s...\n",
       "169834   Ga0081655_13359             sulfur compound chelating protein SoxZ\n",
       "169835  Ga0081655_133510                   thiosulfate-binding protein SoxY\n",
       "169836  Ga0081655_133511                    predicted Zn-dependent protease"
      ]
     },
     "execution_count": 43,
     "metadata": {},
     "output_type": "execute_result"
    }
   ],
   "source": [
    "genes.tail()"
   ]
  },
  {
   "cell_type": "code",
   "execution_count": 44,
   "metadata": {
    "collapsed": false
   },
   "outputs": [
    {
     "data": {
      "text/html": [
       "<div>\n",
       "<table border=\"1\" class=\"dataframe\">\n",
       "  <thead>\n",
       "    <tr style=\"text-align: right;\">\n",
       "      <th></th>\n",
       "      <th>locus_tag</th>\n",
       "      <th>product</th>\n",
       "    </tr>\n",
       "  </thead>\n",
       "  <tbody>\n",
       "    <tr>\n",
       "      <th>2013</th>\n",
       "      <td>Ga0081607_11219</td>\n",
       "      <td>hypothetical protein</td>\n",
       "    </tr>\n",
       "  </tbody>\n",
       "</table>\n",
       "</div>"
      ],
      "text/plain": [
       "            locus_tag               product\n",
       "2013  Ga0081607_11219  hypothetical protein"
      ]
     },
     "execution_count": 44,
     "metadata": {},
     "output_type": "execute_result"
    }
   ],
   "source": [
    "genes[genes['locus_tag'] == 'Ga0081607_11219']"
   ]
  },
  {
   "cell_type": "code",
   "execution_count": 45,
   "metadata": {
    "collapsed": false
   },
   "outputs": [
    {
     "data": {
      "text/html": [
       "<div>\n",
       "<table border=\"1\" class=\"dataframe\">\n",
       "  <thead>\n",
       "    <tr style=\"text-align: right;\">\n",
       "      <th></th>\n",
       "      <th>source_locus_tag</th>\n",
       "      <th>target_locus_tag</th>\n",
       "      <th>pcor</th>\n",
       "      <th>association</th>\n",
       "      <th>target_organism</th>\n",
       "      <th>target_gene</th>\n",
       "      <th>source_organism</th>\n",
       "      <th>source_gene</th>\n",
       "      <th>cross_species</th>\n",
       "      <th>source_organism_name</th>\n",
       "      <th>target_organism_name</th>\n",
       "    </tr>\n",
       "  </thead>\n",
       "  <tbody>\n",
       "    <tr>\n",
       "      <th>0</th>\n",
       "      <td>Ga0081614_142199</td>\n",
       "      <td>Ga0081614_142197</td>\n",
       "      <td>-0.003951</td>\n",
       "      <td>negative</td>\n",
       "      <td>Ga0081614</td>\n",
       "      <td>142197</td>\n",
       "      <td>Ga0081614</td>\n",
       "      <td>142199</td>\n",
       "      <td>False</td>\n",
       "      <td>Methylobacter tundripaludum-129 (UID203)</td>\n",
       "      <td>Methylobacter tundripaludum-129 (UID203)</td>\n",
       "    </tr>\n",
       "    <tr>\n",
       "      <th>1</th>\n",
       "      <td>Ga0081614_142199</td>\n",
       "      <td>Ga0081614_142198</td>\n",
       "      <td>-0.003919</td>\n",
       "      <td>negative</td>\n",
       "      <td>Ga0081614</td>\n",
       "      <td>142198</td>\n",
       "      <td>Ga0081614</td>\n",
       "      <td>142199</td>\n",
       "      <td>False</td>\n",
       "      <td>Methylobacter tundripaludum-129 (UID203)</td>\n",
       "      <td>Methylobacter tundripaludum-129 (UID203)</td>\n",
       "    </tr>\n",
       "  </tbody>\n",
       "</table>\n",
       "</div>"
      ],
      "text/plain": [
       "   source_locus_tag  target_locus_tag      pcor association target_organism  \\\n",
       "0  Ga0081614_142199  Ga0081614_142197 -0.003951    negative       Ga0081614   \n",
       "1  Ga0081614_142199  Ga0081614_142198 -0.003919    negative       Ga0081614   \n",
       "\n",
       "  target_gene source_organism source_gene cross_species  \\\n",
       "0      142197       Ga0081614      142199         False   \n",
       "1      142198       Ga0081614      142199         False   \n",
       "\n",
       "                       source_organism_name  \\\n",
       "0  Methylobacter tundripaludum-129 (UID203)   \n",
       "1  Methylobacter tundripaludum-129 (UID203)   \n",
       "\n",
       "                       target_organism_name  \n",
       "0  Methylobacter tundripaludum-129 (UID203)  \n",
       "1  Methylobacter tundripaludum-129 (UID203)  "
      ]
     },
     "execution_count": 45,
     "metadata": {},
     "output_type": "execute_result"
    }
   ],
   "source": [
    "merged.head(2)"
   ]
  },
  {
   "cell_type": "code",
   "execution_count": 46,
   "metadata": {
    "collapsed": false
   },
   "outputs": [],
   "source": [
    "source_genes = genes[['locus_tag', 'product']].rename(\n",
    "    columns={'locus_tag':'source_locus_tag', 'product':'source_gene_product'})\n",
    "target_genes = genes[['locus_tag', 'product']].rename(\n",
    "    columns={'locus_tag':'target_locus_tag', 'product':'target_gene_product'})"
   ]
  },
  {
   "cell_type": "code",
   "execution_count": 47,
   "metadata": {
    "collapsed": false
   },
   "outputs": [
    {
     "data": {
      "text/html": [
       "<div>\n",
       "<table border=\"1\" class=\"dataframe\">\n",
       "  <thead>\n",
       "    <tr style=\"text-align: right;\">\n",
       "      <th></th>\n",
       "      <th>source_locus_tag</th>\n",
       "      <th>source_gene_product</th>\n",
       "    </tr>\n",
       "  </thead>\n",
       "  <tbody>\n",
       "    <tr>\n",
       "      <th>0</th>\n",
       "      <td>Ga0081607_10011</td>\n",
       "      <td>DNA gyrase B subunit, carboxyl terminus</td>\n",
       "    </tr>\n",
       "    <tr>\n",
       "      <th>1</th>\n",
       "      <td>Ga0081607_10012</td>\n",
       "      <td>Putative addiction module component</td>\n",
       "    </tr>\n",
       "  </tbody>\n",
       "</table>\n",
       "</div>"
      ],
      "text/plain": [
       "  source_locus_tag                      source_gene_product\n",
       "0  Ga0081607_10011  DNA gyrase B subunit, carboxyl terminus\n",
       "1  Ga0081607_10012      Putative addiction module component"
      ]
     },
     "execution_count": 47,
     "metadata": {},
     "output_type": "execute_result"
    }
   ],
   "source": [
    "source_genes.head(2)"
   ]
  },
  {
   "cell_type": "code",
   "execution_count": 48,
   "metadata": {
    "collapsed": false
   },
   "outputs": [
    {
     "data": {
      "text/plain": [
       "(49995000, 9)"
      ]
     },
     "execution_count": 48,
     "metadata": {},
     "output_type": "execute_result"
    }
   ],
   "source": [
    "network.shape"
   ]
  },
  {
   "cell_type": "code",
   "execution_count": 49,
   "metadata": {
    "collapsed": false
   },
   "outputs": [
    {
     "data": {
      "text/plain": [
       "(49995000, 11)"
      ]
     },
     "execution_count": 49,
     "metadata": {},
     "output_type": "execute_result"
    }
   ],
   "source": [
    "merged.shape"
   ]
  },
  {
   "cell_type": "code",
   "execution_count": 50,
   "metadata": {
    "collapsed": false
   },
   "outputs": [],
   "source": [
    "merged = pd.merge(merged, source_genes)"
   ]
  },
  {
   "cell_type": "code",
   "execution_count": 51,
   "metadata": {
    "collapsed": false
   },
   "outputs": [
    {
     "data": {
      "text/plain": [
       "(49995000, 12)"
      ]
     },
     "execution_count": 51,
     "metadata": {},
     "output_type": "execute_result"
    }
   ],
   "source": [
    "merged.shape"
   ]
  },
  {
   "cell_type": "code",
   "execution_count": 52,
   "metadata": {
    "collapsed": true
   },
   "outputs": [],
   "source": [
    "merged = pd.merge(merged, target_genes)"
   ]
  },
  {
   "cell_type": "code",
   "execution_count": 53,
   "metadata": {
    "collapsed": false
   },
   "outputs": [
    {
     "data": {
      "text/plain": [
       "(49995000, 13)"
      ]
     },
     "execution_count": 53,
     "metadata": {},
     "output_type": "execute_result"
    }
   ],
   "source": [
    "merged.shape"
   ]
  },
  {
   "cell_type": "code",
   "execution_count": 54,
   "metadata": {
    "collapsed": false
   },
   "outputs": [
    {
     "data": {
      "text/html": [
       "<div>\n",
       "<table border=\"1\" class=\"dataframe\">\n",
       "  <thead>\n",
       "    <tr style=\"text-align: right;\">\n",
       "      <th></th>\n",
       "      <th>source_locus_tag</th>\n",
       "      <th>target_locus_tag</th>\n",
       "      <th>pcor</th>\n",
       "      <th>association</th>\n",
       "      <th>target_organism</th>\n",
       "      <th>target_gene</th>\n",
       "      <th>source_organism</th>\n",
       "      <th>source_gene</th>\n",
       "      <th>cross_species</th>\n",
       "      <th>source_organism_name</th>\n",
       "      <th>target_organism_name</th>\n",
       "      <th>source_gene_product</th>\n",
       "      <th>target_gene_product</th>\n",
       "    </tr>\n",
       "  </thead>\n",
       "  <tbody>\n",
       "    <tr>\n",
       "      <th>0</th>\n",
       "      <td>Ga0081614_142199</td>\n",
       "      <td>Ga0081614_142197</td>\n",
       "      <td>-0.003951</td>\n",
       "      <td>negative</td>\n",
       "      <td>Ga0081614</td>\n",
       "      <td>142197</td>\n",
       "      <td>Ga0081614</td>\n",
       "      <td>142199</td>\n",
       "      <td>False</td>\n",
       "      <td>Methylobacter tundripaludum-129 (UID203)</td>\n",
       "      <td>Methylobacter tundripaludum-129 (UID203)</td>\n",
       "      <td>methane/ammonia monooxygenase subunit C</td>\n",
       "      <td>methane/ammonia monooxygenase subunit B</td>\n",
       "    </tr>\n",
       "    <tr>\n",
       "      <th>1</th>\n",
       "      <td>Ga0081614_142199</td>\n",
       "      <td>Ga0081614_142198</td>\n",
       "      <td>-0.003919</td>\n",
       "      <td>negative</td>\n",
       "      <td>Ga0081614</td>\n",
       "      <td>142198</td>\n",
       "      <td>Ga0081614</td>\n",
       "      <td>142199</td>\n",
       "      <td>False</td>\n",
       "      <td>Methylobacter tundripaludum-129 (UID203)</td>\n",
       "      <td>Methylobacter tundripaludum-129 (UID203)</td>\n",
       "      <td>methane/ammonia monooxygenase subunit C</td>\n",
       "      <td>methane/ammonia monooxygenase subunit A</td>\n",
       "    </tr>\n",
       "  </tbody>\n",
       "</table>\n",
       "</div>"
      ],
      "text/plain": [
       "   source_locus_tag  target_locus_tag      pcor association target_organism  \\\n",
       "0  Ga0081614_142199  Ga0081614_142197 -0.003951    negative       Ga0081614   \n",
       "1  Ga0081614_142199  Ga0081614_142198 -0.003919    negative       Ga0081614   \n",
       "\n",
       "  target_gene source_organism source_gene cross_species  \\\n",
       "0      142197       Ga0081614      142199         False   \n",
       "1      142198       Ga0081614      142199         False   \n",
       "\n",
       "                       source_organism_name  \\\n",
       "0  Methylobacter tundripaludum-129 (UID203)   \n",
       "1  Methylobacter tundripaludum-129 (UID203)   \n",
       "\n",
       "                       target_organism_name  \\\n",
       "0  Methylobacter tundripaludum-129 (UID203)   \n",
       "1  Methylobacter tundripaludum-129 (UID203)   \n",
       "\n",
       "                       source_gene_product  \\\n",
       "0  methane/ammonia monooxygenase subunit C   \n",
       "1  methane/ammonia monooxygenase subunit C   \n",
       "\n",
       "                       target_gene_product  \n",
       "0  methane/ammonia monooxygenase subunit B  \n",
       "1  methane/ammonia monooxygenase subunit A  "
      ]
     },
     "execution_count": 54,
     "metadata": {},
     "output_type": "execute_result"
    }
   ],
   "source": [
    "merged.head(2)"
   ]
  },
  {
   "cell_type": "code",
   "execution_count": 55,
   "metadata": {
    "collapsed": false
   },
   "outputs": [
    {
     "data": {
      "text/html": [
       "<div>\n",
       "<table border=\"1\" class=\"dataframe\">\n",
       "  <thead>\n",
       "    <tr style=\"text-align: right;\">\n",
       "      <th></th>\n",
       "      <th>source_locus_tag</th>\n",
       "      <th>target_locus_tag</th>\n",
       "      <th>pcor</th>\n",
       "      <th>association</th>\n",
       "      <th>target_organism</th>\n",
       "      <th>target_gene</th>\n",
       "      <th>source_organism</th>\n",
       "      <th>source_gene</th>\n",
       "      <th>cross_species</th>\n",
       "      <th>source_organism_name</th>\n",
       "      <th>target_organism_name</th>\n",
       "      <th>source_gene_product</th>\n",
       "      <th>target_gene_product</th>\n",
       "    </tr>\n",
       "  </thead>\n",
       "  <tbody>\n",
       "    <tr>\n",
       "      <th>0</th>\n",
       "      <td>Ga0081614_142199</td>\n",
       "      <td>Ga0081614_142197</td>\n",
       "      <td>-0.003951</td>\n",
       "      <td>negative</td>\n",
       "      <td>Ga0081614</td>\n",
       "      <td>142197</td>\n",
       "      <td>Ga0081614</td>\n",
       "      <td>142199</td>\n",
       "      <td>False</td>\n",
       "      <td>Methylobacter tundripaludum-129 (UID203)</td>\n",
       "      <td>Methylobacter tundripaludum-129 (UID203)</td>\n",
       "      <td>methane/ammonia monooxygenase subunit C</td>\n",
       "      <td>methane/ammonia monooxygenase subunit B</td>\n",
       "    </tr>\n",
       "    <tr>\n",
       "      <th>1</th>\n",
       "      <td>Ga0081614_142199</td>\n",
       "      <td>Ga0081614_142198</td>\n",
       "      <td>-0.003919</td>\n",
       "      <td>negative</td>\n",
       "      <td>Ga0081614</td>\n",
       "      <td>142198</td>\n",
       "      <td>Ga0081614</td>\n",
       "      <td>142199</td>\n",
       "      <td>False</td>\n",
       "      <td>Methylobacter tundripaludum-129 (UID203)</td>\n",
       "      <td>Methylobacter tundripaludum-129 (UID203)</td>\n",
       "      <td>methane/ammonia monooxygenase subunit C</td>\n",
       "      <td>methane/ammonia monooxygenase subunit A</td>\n",
       "    </tr>\n",
       "    <tr>\n",
       "      <th>2</th>\n",
       "      <td>Ga0081614_142197</td>\n",
       "      <td>Ga0081614_142198</td>\n",
       "      <td>-0.004303</td>\n",
       "      <td>negative</td>\n",
       "      <td>Ga0081614</td>\n",
       "      <td>142198</td>\n",
       "      <td>Ga0081614</td>\n",
       "      <td>142197</td>\n",
       "      <td>False</td>\n",
       "      <td>Methylobacter tundripaludum-129 (UID203)</td>\n",
       "      <td>Methylobacter tundripaludum-129 (UID203)</td>\n",
       "      <td>methane/ammonia monooxygenase subunit B</td>\n",
       "      <td>methane/ammonia monooxygenase subunit A</td>\n",
       "    </tr>\n",
       "  </tbody>\n",
       "</table>\n",
       "</div>"
      ],
      "text/plain": [
       "   source_locus_tag  target_locus_tag      pcor association target_organism  \\\n",
       "0  Ga0081614_142199  Ga0081614_142197 -0.003951    negative       Ga0081614   \n",
       "1  Ga0081614_142199  Ga0081614_142198 -0.003919    negative       Ga0081614   \n",
       "2  Ga0081614_142197  Ga0081614_142198 -0.004303    negative       Ga0081614   \n",
       "\n",
       "  target_gene source_organism source_gene cross_species  \\\n",
       "0      142197       Ga0081614      142199         False   \n",
       "1      142198       Ga0081614      142199         False   \n",
       "2      142198       Ga0081614      142197         False   \n",
       "\n",
       "                       source_organism_name  \\\n",
       "0  Methylobacter tundripaludum-129 (UID203)   \n",
       "1  Methylobacter tundripaludum-129 (UID203)   \n",
       "2  Methylobacter tundripaludum-129 (UID203)   \n",
       "\n",
       "                       target_organism_name  \\\n",
       "0  Methylobacter tundripaludum-129 (UID203)   \n",
       "1  Methylobacter tundripaludum-129 (UID203)   \n",
       "2  Methylobacter tundripaludum-129 (UID203)   \n",
       "\n",
       "                       source_gene_product  \\\n",
       "0  methane/ammonia monooxygenase subunit C   \n",
       "1  methane/ammonia monooxygenase subunit C   \n",
       "2  methane/ammonia monooxygenase subunit B   \n",
       "\n",
       "                       target_gene_product  \n",
       "0  methane/ammonia monooxygenase subunit B  \n",
       "1  methane/ammonia monooxygenase subunit A  \n",
       "2  methane/ammonia monooxygenase subunit A  "
      ]
     },
     "execution_count": 55,
     "metadata": {},
     "output_type": "execute_result"
    }
   ],
   "source": [
    "merged.head(3)"
   ]
  },
  {
   "cell_type": "code",
   "execution_count": 56,
   "metadata": {
    "collapsed": false
   },
   "outputs": [
    {
     "name": "stderr",
     "output_type": "stream",
     "text": [
      "/home/jmatsen/miniconda2/lib/python2.7/site-packages/ipykernel/__main__.py:2: FutureWarning: sort(columns=....) is deprecated, use sort_values(by=.....)\n",
      "  from ipykernel import kernelapp as app\n"
     ]
    }
   ],
   "source": [
    "merged['sort'] = merged.pcor.abs()\n",
    "merged = merged.sort(columns='sort', ascending=False).drop('sort', axis=1)"
   ]
  },
  {
   "cell_type": "code",
   "execution_count": 57,
   "metadata": {
    "collapsed": false
   },
   "outputs": [
    {
     "data": {
      "text/plain": [
       "count    49995000.000000\n",
       "mean           -0.000126\n",
       "std             0.001239\n",
       "min            -0.068416\n",
       "25%            -0.000743\n",
       "50%            -0.000087\n",
       "75%             0.000535\n",
       "max             0.022518\n",
       "Name: pcor, dtype: float64"
      ]
     },
     "execution_count": 57,
     "metadata": {},
     "output_type": "execute_result"
    }
   ],
   "source": [
    "merged['pcor'].describe()"
   ]
  },
  {
   "cell_type": "code",
   "execution_count": 58,
   "metadata": {
    "collapsed": false
   },
   "outputs": [
    {
     "data": {
      "text/html": [
       "<div>\n",
       "<table border=\"1\" class=\"dataframe\">\n",
       "  <thead>\n",
       "    <tr style=\"text-align: right;\">\n",
       "      <th></th>\n",
       "      <th>source_locus_tag</th>\n",
       "      <th>target_locus_tag</th>\n",
       "      <th>pcor</th>\n",
       "      <th>association</th>\n",
       "      <th>target_organism</th>\n",
       "      <th>target_gene</th>\n",
       "      <th>source_organism</th>\n",
       "      <th>source_gene</th>\n",
       "      <th>cross_species</th>\n",
       "      <th>source_organism_name</th>\n",
       "      <th>target_organism_name</th>\n",
       "      <th>source_gene_product</th>\n",
       "      <th>target_gene_product</th>\n",
       "    </tr>\n",
       "  </thead>\n",
       "  <tbody>\n",
       "    <tr>\n",
       "      <th>41680115</th>\n",
       "      <td>Ga0081622_103612</td>\n",
       "      <td>Ga0081637_12071</td>\n",
       "      <td>-0.068416</td>\n",
       "      <td>negative</td>\n",
       "      <td>Ga0081637</td>\n",
       "      <td>12071</td>\n",
       "      <td>Ga0081622</td>\n",
       "      <td>103612</td>\n",
       "      <td>True</td>\n",
       "      <td>Methylosarcina-21 (UID203)</td>\n",
       "      <td>Methylophilaceae-55 (UID3888)</td>\n",
       "      <td>amino acid adenylation enzyme/thioester reduct...</td>\n",
       "      <td>acyl-CoA synthetase/AMP-acid ligase</td>\n",
       "    </tr>\n",
       "    <tr>\n",
       "      <th>39909105</th>\n",
       "      <td>Ga0081646_101747</td>\n",
       "      <td>Ga0081622_103612</td>\n",
       "      <td>-0.066745</td>\n",
       "      <td>negative</td>\n",
       "      <td>Ga0081622</td>\n",
       "      <td>103612</td>\n",
       "      <td>Ga0081646</td>\n",
       "      <td>101747</td>\n",
       "      <td>True</td>\n",
       "      <td>Bacteroidetes-76 (UID2591)</td>\n",
       "      <td>Methylosarcina-21 (UID203)</td>\n",
       "      <td>phosphoribosylaminoimidazolecarboxamide formyl...</td>\n",
       "      <td>amino acid adenylation enzyme/thioester reduct...</td>\n",
       "    </tr>\n",
       "  </tbody>\n",
       "</table>\n",
       "</div>"
      ],
      "text/plain": [
       "          source_locus_tag  target_locus_tag      pcor association  \\\n",
       "41680115  Ga0081622_103612   Ga0081637_12071 -0.068416    negative   \n",
       "39909105  Ga0081646_101747  Ga0081622_103612 -0.066745    negative   \n",
       "\n",
       "         target_organism target_gene source_organism source_gene  \\\n",
       "41680115       Ga0081637       12071       Ga0081622      103612   \n",
       "39909105       Ga0081622      103612       Ga0081646      101747   \n",
       "\n",
       "         cross_species        source_organism_name  \\\n",
       "41680115          True  Methylosarcina-21 (UID203)   \n",
       "39909105          True  Bacteroidetes-76 (UID2591)   \n",
       "\n",
       "                   target_organism_name  \\\n",
       "41680115  Methylophilaceae-55 (UID3888)   \n",
       "39909105     Methylosarcina-21 (UID203)   \n",
       "\n",
       "                                        source_gene_product  \\\n",
       "41680115  amino acid adenylation enzyme/thioester reduct...   \n",
       "39909105  phosphoribosylaminoimidazolecarboxamide formyl...   \n",
       "\n",
       "                                        target_gene_product  \n",
       "41680115                acyl-CoA synthetase/AMP-acid ligase  \n",
       "39909105  amino acid adenylation enzyme/thioester reduct...  "
      ]
     },
     "execution_count": 58,
     "metadata": {},
     "output_type": "execute_result"
    }
   ],
   "source": [
    "merged.head(2)"
   ]
  },
  {
   "cell_type": "code",
   "execution_count": 59,
   "metadata": {
    "collapsed": true
   },
   "outputs": [],
   "source": [
    "filename = '50M_network'"
   ]
  },
  {
   "cell_type": "code",
   "execution_count": 60,
   "metadata": {
    "collapsed": false
   },
   "outputs": [
    {
     "name": "stdout",
     "output_type": "stream",
     "text": [
      "50M_network\t\t      network_broken_20.csv  network.txt\r\n",
      "gene_names.tsv\t\t      network_broken.csv     network_with_info.txt\r\n",
      "Methylobacter--Methylotenera  network_broken.tsv\r\n"
     ]
    }
   ],
   "source": [
    "! ls ../data"
   ]
  },
  {
   "cell_type": "code",
   "execution_count": 61,
   "metadata": {
    "collapsed": true
   },
   "outputs": [],
   "source": [
    "dirname = '../data/50M_network/' "
   ]
  },
  {
   "cell_type": "code",
   "execution_count": 62,
   "metadata": {
    "collapsed": false
   },
   "outputs": [
    {
     "name": "stdout",
     "output_type": "stream",
     "text": [
      "dir ../data/50M_network/ already exists.\n"
     ]
    }
   ],
   "source": [
    "if not os.path.exists(dirname):\n",
    "    print\"make dir {}\".format(dirname)\n",
    "    os.mkdir(dirname)\n",
    "else:\n",
    "    print(\"dir {} already exists.\".format(dirname))"
   ]
  },
  {
   "cell_type": "code",
   "execution_count": 63,
   "metadata": {
    "collapsed": false
   },
   "outputs": [
    {
     "name": "stdout",
     "output_type": "stream",
     "text": [
      "save to : ../data/50M_network/50M_network.tsv\n"
     ]
    }
   ],
   "source": [
    "path = dirname + filename + '.tsv'\n",
    "print('save to : {}'.format(path))\n",
    "merged.to_csv(path, sep='\\t', index=False)"
   ]
  },
  {
   "cell_type": "code",
   "execution_count": 64,
   "metadata": {
    "collapsed": true
   },
   "outputs": [],
   "source": [
    "# The CSV isn't a good idea because of the gene names. \n",
    "#merged.to_csv(dirname + filename + '.csv')"
   ]
  },
  {
   "cell_type": "code",
   "execution_count": 65,
   "metadata": {
    "collapsed": false
   },
   "outputs": [],
   "source": [
    "merged.head(100).to_csv(dirname + filename + '--100' + '.tsv', sep='\\t', index=False)"
   ]
  },
  {
   "cell_type": "code",
   "execution_count": 66,
   "metadata": {
    "collapsed": false
   },
   "outputs": [
    {
     "data": {
      "text/plain": [
       "['50M_network.tsv', '50M_network--100.tsv']"
      ]
     },
     "execution_count": 66,
     "metadata": {},
     "output_type": "execute_result"
    }
   ],
   "source": [
    "os.listdir(dirname)"
   ]
  },
  {
   "cell_type": "code",
   "execution_count": 67,
   "metadata": {
    "collapsed": false
   },
   "outputs": [
    {
     "data": {
      "text/plain": [
       "(49995000, 13)"
      ]
     },
     "execution_count": 67,
     "metadata": {},
     "output_type": "execute_result"
    }
   ],
   "source": [
    "merged.shape"
   ]
  }
 ],
 "metadata": {
  "anaconda-cloud": {},
  "kernelspec": {
   "display_name": "Python 2",
   "language": "python",
   "name": "python2"
  },
  "language_info": {
   "codemirror_mode": {
    "name": "ipython",
    "version": 2
   },
   "file_extension": ".py",
   "mimetype": "text/x-python",
   "name": "python",
   "nbconvert_exporter": "python",
   "pygments_lexer": "ipython2",
   "version": "2.7.11"
  }
 },
 "nbformat": 4,
 "nbformat_minor": 1
}
