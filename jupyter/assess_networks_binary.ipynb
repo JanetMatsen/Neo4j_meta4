{
 "cells": [
  {
   "cell_type": "code",
   "execution_count": null,
   "metadata": {
    "collapsed": false
   },
   "outputs": [],
   "source": [
    "from collections import Counter\n",
    "import glob\n",
    "import pandas as pd\n",
    "import re\n",
    "import subprocess\n",
    "import matplotlib as mpl\n",
    "mpl.use('Agg') \n",
    "import matplotlib.pyplot as plt\n",
    "import seaborn as sns\n",
    "\n",
    "%matplotlib inline"
   ]
  },
  {
   "cell_type": "markdown",
   "metadata": {
    "collapsed": true
   },
   "source": [
    "## Analyze one csv:"
   ]
  },
  {
   "cell_type": "code",
   "execution_count": null,
   "metadata": {
    "collapsed": false
   },
   "outputs": [],
   "source": [
    "tsv_files = []\n",
    "for filename in glob.iglob('../data_mining_Neo4j_v2_3_2/databases/*.tsv'):\n",
    "    print(filename)\n",
    "    tsv_files.append(filename)"
   ]
  },
  {
   "cell_type": "code",
   "execution_count": null,
   "metadata": {
    "collapsed": false
   },
   "outputs": [],
   "source": [
    "cc = pd.read_csv(tsv_files[0], \n",
    "                 usecols=[1, 2, 3, 4], \n",
    "                 sep='\\t')"
   ]
  },
  {
   "cell_type": "code",
   "execution_count": null,
   "metadata": {
    "collapsed": false
   },
   "outputs": [],
   "source": [
    "cc.head()"
   ]
  },
  {
   "cell_type": "code",
   "execution_count": null,
   "metadata": {
    "collapsed": true
   },
   "outputs": [],
   "source": [
    "def assess_connected_components_tsv(tsv):\n",
    "    results = dict()\n",
    "    \n",
    "    # general characteristics:\n",
    "    results['# nodes in cc'] = tsv.shape[0]  # number of nodes in connected components\n",
    "    results['# organisms in cc'] = len(tsv['organism'].unique().tolist())\n",
    "    \n",
    "    num_components = len(tsv['ConnectedComponents'].unique().tolist())\n",
    "    print(\"num unique connected components: {}\".format(num_components))\n",
    "    results['# of components'] = num_components\n",
    "    \n",
    "    results['organism counts'] = dict(Counter(tsv['organism'])) #dict(Counter(tsv['organism']))\n",
    "    \n",
    "    return results\n"
   ]
  },
  {
   "cell_type": "code",
   "execution_count": null,
   "metadata": {
    "collapsed": true
   },
   "outputs": [],
   "source": [
    "def assess_connected_components_tsvs(cc_files):\n",
    "    summary = pd.DataFrame()\n",
    "    for cc in cc_files:\n",
    "        tsv = pd.read_csv(cc, usecols=[1, 2, 3, 4], sep='\\t')\n",
    "        print(tsv.shape)\n",
    "        info_dict = assess_connected_components_tsv(tsv)\n",
    "        \n",
    "        # get file name\n",
    "        m = re.search('/(db_binary_[.0-9]+.tsv)', cc) #.groups(1)\n",
    "        info_dict['file'] = m.group(1)\n",
    "        \n",
    "        # get ready for Pandas\n",
    "        for k, v in info_dict.items():\n",
    "            info_dict[k] = [v]\n",
    "        print(info_dict)\n",
    "        info_df_row = pd.DataFrame(info_dict)\n",
    "        summary = pd.concat([summary, info_df_row], axis=0)\n",
    "        print('summary shape: {}'.format(summary.shape))\n",
    "    print(summary)\n",
    "    print(summary.shape[0])\n",
    "    return summary"
   ]
  },
  {
   "cell_type": "code",
   "execution_count": null,
   "metadata": {
    "collapsed": false
   },
   "outputs": [],
   "source": [
    "assess_connected_components_tsvs(tsv_files)"
   ]
  },
  {
   "cell_type": "code",
   "execution_count": null,
   "metadata": {
    "collapsed": true
   },
   "outputs": [],
   "source": [
    "def assess_sub_graphs(cc_files):\n",
    "    summary = pd.DataFrame()\n",
    "    for cc_file in cc_files: \n",
    "        \n",
    "        tsv = pd.read_csv(cc_file, usecols=[1, 2, 3, 4], sep='\\t')\n",
    "        components = dict(Counter(tsv['ConnectedComponents'])) \n",
    "        for c in components.keys():\n",
    "            print(c)\n",
    "            c_info = dict()\n",
    "            c_info['ConnectedComponent'] = c\n",
    "            c_info['Cutoff'] = None  # TODO: parse from file name. \n",
    "            \n",
    "            nodes = tsv[tsv['ConnectedComponents'] == c]\n",
    "            species_counts = dict(Counter(tsv['organism']))\n",
    "            c_info['nodes'] = nodes.shape[0]\n",
    "            c_info['species counts'] = species_counts\n",
    "            \n",
    "            c_info['cross-species'] = len(species_counts.keys()) > 1\n",
    "            \n",
    "            # get file name\n",
    "            m = re.search('/(db_binary_[.0-9]+.tsv)', cc_file) #.groups(1)\n",
    "            c_info['file'] = m.group(1)\n",
    "            \n",
    "            for k, v in c_info.items():\n",
    "                c_info[k] = [v]\n",
    "            print(c_info)\n",
    "        \n",
    "            c_info = pd.DataFrame(c_info)\n",
    "            summary = pd.concat([summary, c_info], axis=0)\n",
    "        print('summary shape: {}'.format(summary.shape))\n",
    "    print(summary)\n",
    "    print(summary.shape[0])\n",
    "    return summary"
   ]
  },
  {
   "cell_type": "code",
   "execution_count": null,
   "metadata": {
    "collapsed": false
   },
   "outputs": [],
   "source": [
    "connected_components = assess_sub_graphs(tsv_files)"
   ]
  },
  {
   "cell_type": "code",
   "execution_count": null,
   "metadata": {
    "collapsed": false
   },
   "outputs": [],
   "source": [
    "connected_components.head()"
   ]
  },
  {
   "cell_type": "code",
   "execution_count": null,
   "metadata": {
    "collapsed": true
   },
   "outputs": [],
   "source": [
    "connected_components.plot.scatter(x=)"
   ]
  },
  {
   "cell_type": "code",
   "execution_count": null,
   "metadata": {
    "collapsed": false
   },
   "outputs": [],
   "source": [
    "assess_connected_components_tsv(cc)"
   ]
  },
  {
   "cell_type": "code",
   "execution_count": null,
   "metadata": {
    "collapsed": false
   },
   "outputs": [],
   "source": [
    "pd.DataFrame.from_dict(assess_connected_components_tsv(cc))"
   ]
  },
  {
   "cell_type": "code",
   "execution_count": null,
   "metadata": {
    "collapsed": true
   },
   "outputs": [],
   "source": [
    "def assess_component(cc):\n",
    "    # Metrics for a signle connected component.\n",
    "    # return counts of each organism,\n",
    "    # entropy (?)\n",
    "    pass"
   ]
  },
  {
   "cell_type": "code",
   "execution_count": null,
   "metadata": {
    "collapsed": true
   },
   "outputs": [],
   "source": []
  }
 ],
 "metadata": {
  "anaconda-cloud": {},
  "kernelspec": {
   "display_name": "Python [conda env:mlpy3]",
   "language": "python",
   "name": "conda-env-mlpy3-py"
  },
  "language_info": {
   "codemirror_mode": {
    "name": "ipython",
    "version": 3
   },
   "file_extension": ".py",
   "mimetype": "text/x-python",
   "name": "python",
   "nbconvert_exporter": "python",
   "pygments_lexer": "ipython3",
   "version": "3.5.2"
  }
 },
 "nbformat": 4,
 "nbformat_minor": 1
}
