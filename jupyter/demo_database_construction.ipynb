{
 "cells": [
  {
   "cell_type": "code",
   "execution_count": 1,
   "metadata": {
    "collapsed": true
   },
   "outputs": [],
   "source": [
    "from neo4j.v1 import GraphDatabase, basic_auth\n",
    "import pandas as pd"
   ]
  },
  {
   "cell_type": "code",
   "execution_count": 2,
   "metadata": {
    "collapsed": false
   },
   "outputs": [],
   "source": [
    "driver = GraphDatabase.driver(\"bolt://localhost\", \n",
    "                              auth=basic_auth(\"neo4j\", \"theraturkey\"))\n",
    "session = driver.session()"
   ]
  },
  {
   "cell_type": "markdown",
   "metadata": {},
   "source": [
    "Useful Commands:\n"
   ]
  },
  {
   "cell_type": "code",
   "execution_count": 3,
   "metadata": {
    "collapsed": true
   },
   "outputs": [],
   "source": [
    "filename = '../data/Methylobacter--Methylotenera/Methylobacter-123--Methylotenera_mobilis-49_network--some_top_genes--1268_rows.tsv'"
   ]
  },
  {
   "cell_type": "code",
   "execution_count": 4,
   "metadata": {
    "collapsed": false
   },
   "outputs": [
    {
     "data": {
      "text/plain": [
       "'../data/Methylobacter--Methylotenera/Methylobacter-123--Methylotenera_mobilis-49_network--some_top_genes--1268_rows.tsv'"
      ]
     },
     "execution_count": 4,
     "metadata": {},
     "output_type": "execute_result"
    }
   ],
   "source": [
    "filename"
   ]
  },
  {
   "cell_type": "code",
   "execution_count": 5,
   "metadata": {
    "collapsed": false
   },
   "outputs": [
    {
     "name": "stdout",
     "output_type": "stream",
     "text": [
      "Methylobacter-123--Methylotenera_mobilis-49_network--100.tsv\r\n",
      "Methylobacter-123--Methylotenera_mobilis-49_network--some_top_genes--1268_rows.tsv\r\n",
      "Methylobacter-123--Methylotenera_mobilis-49_network.tsv\r\n"
     ]
    }
   ],
   "source": [
    "! ls ../data/Methylobacter--Methylotenera"
   ]
  },
  {
   "cell_type": "code",
   "execution_count": 6,
   "metadata": {
    "collapsed": false
   },
   "outputs": [],
   "source": [
    "df = pd.read_csv(filename, sep='\\t')"
   ]
  },
  {
   "cell_type": "code",
   "execution_count": 7,
   "metadata": {
    "collapsed": false
   },
   "outputs": [
    {
     "data": {
      "text/html": [
       "<div>\n",
       "<table border=\"1\" class=\"dataframe\">\n",
       "  <thead>\n",
       "    <tr style=\"text-align: right;\">\n",
       "      <th></th>\n",
       "      <th>Unnamed: 0</th>\n",
       "      <th>source</th>\n",
       "      <th>target</th>\n",
       "      <th>weight</th>\n",
       "      <th>association</th>\n",
       "      <th>target_organism</th>\n",
       "      <th>target_gene</th>\n",
       "      <th>source_organism</th>\n",
       "      <th>source_gene</th>\n",
       "      <th>source_organism_name</th>\n",
       "      <th>target_organism_name</th>\n",
       "      <th>source_gene_product</th>\n",
       "      <th>target_gene_product</th>\n",
       "    </tr>\n",
       "  </thead>\n",
       "  <tbody>\n",
       "    <tr>\n",
       "      <th>0</th>\n",
       "      <td>417</td>\n",
       "      <td>Ga0081607_113410</td>\n",
       "      <td>Ga0081607_10311</td>\n",
       "      <td>0.07474</td>\n",
       "      <td>positive</td>\n",
       "      <td>Ga0081607</td>\n",
       "      <td>10311</td>\n",
       "      <td>Ga0081607</td>\n",
       "      <td>113410</td>\n",
       "      <td>Methylobacter-123 (UID203)</td>\n",
       "      <td>Methylobacter-123 (UID203)</td>\n",
       "      <td>hypothetical protein</td>\n",
       "      <td>hypothetical protein</td>\n",
       "    </tr>\n",
       "    <tr>\n",
       "      <th>1</th>\n",
       "      <td>1808</td>\n",
       "      <td>Ga0081607_10311</td>\n",
       "      <td>Ga0081607_113410</td>\n",
       "      <td>0.07474</td>\n",
       "      <td>positive</td>\n",
       "      <td>Ga0081607</td>\n",
       "      <td>113410</td>\n",
       "      <td>Ga0081607</td>\n",
       "      <td>10311</td>\n",
       "      <td>Methylobacter-123 (UID203)</td>\n",
       "      <td>Methylobacter-123 (UID203)</td>\n",
       "      <td>hypothetical protein</td>\n",
       "      <td>hypothetical protein</td>\n",
       "    </tr>\n",
       "    <tr>\n",
       "      <th>2</th>\n",
       "      <td>1641</td>\n",
       "      <td>Ga0081629_11135</td>\n",
       "      <td>Ga0081629_10266</td>\n",
       "      <td>0.07207</td>\n",
       "      <td>positive</td>\n",
       "      <td>Ga0081629</td>\n",
       "      <td>10266</td>\n",
       "      <td>Ga0081629</td>\n",
       "      <td>11135</td>\n",
       "      <td>Methylotenera mobilis-49 (UID203)</td>\n",
       "      <td>Methylotenera mobilis-49 (UID203)</td>\n",
       "      <td>hypothetical protein</td>\n",
       "      <td>type IV pilus assembly protein PilA</td>\n",
       "    </tr>\n",
       "    <tr>\n",
       "      <th>3</th>\n",
       "      <td>1360</td>\n",
       "      <td>Ga0081629_10266</td>\n",
       "      <td>Ga0081629_11135</td>\n",
       "      <td>0.07207</td>\n",
       "      <td>positive</td>\n",
       "      <td>Ga0081629</td>\n",
       "      <td>11135</td>\n",
       "      <td>Ga0081629</td>\n",
       "      <td>10266</td>\n",
       "      <td>Methylotenera mobilis-49 (UID203)</td>\n",
       "      <td>Methylotenera mobilis-49 (UID203)</td>\n",
       "      <td>type IV pilus assembly protein PilA</td>\n",
       "      <td>hypothetical protein</td>\n",
       "    </tr>\n",
       "  </tbody>\n",
       "</table>\n",
       "</div>"
      ],
      "text/plain": [
       "   Unnamed: 0            source            target   weight association  \\\n",
       "0         417  Ga0081607_113410   Ga0081607_10311  0.07474    positive   \n",
       "1        1808   Ga0081607_10311  Ga0081607_113410  0.07474    positive   \n",
       "2        1641   Ga0081629_11135   Ga0081629_10266  0.07207    positive   \n",
       "3        1360   Ga0081629_10266   Ga0081629_11135  0.07207    positive   \n",
       "\n",
       "  target_organism  target_gene source_organism  source_gene  \\\n",
       "0       Ga0081607        10311       Ga0081607       113410   \n",
       "1       Ga0081607       113410       Ga0081607        10311   \n",
       "2       Ga0081629        10266       Ga0081629        11135   \n",
       "3       Ga0081629        11135       Ga0081629        10266   \n",
       "\n",
       "                source_organism_name               target_organism_name  \\\n",
       "0         Methylobacter-123 (UID203)         Methylobacter-123 (UID203)   \n",
       "1         Methylobacter-123 (UID203)         Methylobacter-123 (UID203)   \n",
       "2  Methylotenera mobilis-49 (UID203)  Methylotenera mobilis-49 (UID203)   \n",
       "3  Methylotenera mobilis-49 (UID203)  Methylotenera mobilis-49 (UID203)   \n",
       "\n",
       "                   source_gene_product                  target_gene_product  \n",
       "0                 hypothetical protein                 hypothetical protein  \n",
       "1                 hypothetical protein                 hypothetical protein  \n",
       "2                 hypothetical protein  type IV pilus assembly protein PilA  \n",
       "3  type IV pilus assembly protein PilA                 hypothetical protein  "
      ]
     },
     "execution_count": 7,
     "metadata": {},
     "output_type": "execute_result"
    }
   ],
   "source": [
    "df.head(4)"
   ]
  },
  {
   "cell_type": "code",
   "execution_count": 8,
   "metadata": {
    "collapsed": false
   },
   "outputs": [
    {
     "data": {
      "text/plain": [
       "(1268, 13)"
      ]
     },
     "execution_count": 8,
     "metadata": {},
     "output_type": "execute_result"
    }
   ],
   "source": [
    "df.shape"
   ]
  },
  {
   "cell_type": "code",
   "execution_count": 9,
   "metadata": {
    "collapsed": false
   },
   "outputs": [
    {
     "name": "stdout",
     "output_type": "stream",
     "text": [
      "228 nodes are expected\n"
     ]
    }
   ],
   "source": [
    "# Calculate expected number of nodes:\n",
    "nodes = len(set(df['source'].drop_duplicates().tolist() + df['target'].drop_duplicates().tolist()))\n",
    "print(\"{} nodes are expected\".format(nodes))"
   ]
  },
  {
   "cell_type": "code",
   "execution_count": 10,
   "metadata": {
    "collapsed": false
   },
   "outputs": [],
   "source": [
    "org_names = set(df['source_organism_name'].drop_duplicates().tolist() + \n",
    "                df['target_organism_name'].drop_duplicates().tolist())\n",
    "count = len(org_names)\n",
    "if count != 2:\n",
    "    print(\"Expected exactly 2 organsm names, but we have {}\".format(count))\n",
    "    print(org_names)"
   ]
  },
  {
   "cell_type": "code",
   "execution_count": 24,
   "metadata": {
    "collapsed": false
   },
   "outputs": [
    {
     "data": {
      "text/plain": [
       "{'Methylobacter-123 (UID203)', 'Methylotenera mobilis-49 (UID203)'}"
      ]
     },
     "execution_count": 24,
     "metadata": {},
     "output_type": "execute_result"
    }
   ],
   "source": [
    "org_names"
   ]
  },
  {
   "cell_type": "code",
   "execution_count": 21,
   "metadata": {
    "collapsed": false
   },
   "outputs": [
    {
     "name": "stdout",
     "output_type": "stream",
     "text": [
      "number of nodes before starting: 0\n",
      "number of nodes after loading: 228\n"
     ]
    }
   ],
   "source": [
    "# wipe everything first:\n",
    "session.run(\"\"\" MATCH (n) DETACH DELETE n \"\"\")\n",
    "\n",
    "result = session.run(\"\"\" MATCH (n) RETURN n \"\"\")\n",
    "num_results = 0\n",
    "for record in result:\n",
    "    num_results += 1\n",
    "    print(record)\n",
    "print('number of nodes before starting: {}'.format(num_results))\n",
    "\n",
    "command = \"\"\"\n",
    "    LOAD CSV WITH HEADERS FROM \n",
    "        'https://raw.githubusercontent.com/JanetMatsen/Neo4j_meta4/master/data/Methylobacter--Methylotenera/Methylobacter-123--Methylotenera_mobilis-49_network--some_top_genes--1268_rows.tsv'  \n",
    "    AS line FIELDTERMINATOR '\\t'\n",
    "    MERGE (g1:Gene {org_gene:line.source, \n",
    "                    organism:line.source_organism_name, \n",
    "                    gene:line.source_gene,\n",
    "                    gene_product:line.source_gene_product}) \n",
    "    MERGE (g2:Gene {org_gene:line.target,\n",
    "                    organism:line.target_organism_name,\n",
    "                    gene:line.target_gene,\n",
    "                    gene_product:line.target_gene_product}) \n",
    "    MERGE (g1) -[:X {weight:line.weight, association:line.association}]-> (g2); \n",
    "    \"\"\"\n",
    "result = session.run(command.rstrip())\n",
    "\n",
    "result = session.run(\"\"\" match(n) return n \"\"\")\n",
    "num_results = 0\n",
    "for record in result:\n",
    "    num_results += 1\n",
    "    #print(record)\n",
    "print('number of nodes after loading: {}'.format(num_results))"
   ]
  },
  {
   "cell_type": "code",
   "execution_count": 22,
   "metadata": {
    "collapsed": false
   },
   "outputs": [
    {
     "name": "stdout",
     "output_type": "stream",
     "text": [
      "<Record count(*)=228>\n"
     ]
    }
   ],
   "source": [
    "command = \"\"\"\n",
    "MATCH (n)\n",
    "RETURN count(*)\n",
    "\"\"\"\n",
    "result = session.run(command.rstrip())\n",
    "\n",
    "for record in result:\n",
    "    print(record)"
   ]
  },
  {
   "cell_type": "code",
   "execution_count": 23,
   "metadata": {
    "collapsed": true
   },
   "outputs": [],
   "source": [
    "# set edge labels: write over them and erase the old ones.\n",
    "command = \"\"\"\n",
    "    match (n)-[e1 {association:\"positive\"}]->(m)\n",
    "    CREATE (n)-[e2:pos]->(m)\n",
    "    SET e2 = e1\n",
    "    WITH e1\n",
    "    DELETE e1\n",
    "\"\"\"\n",
    "result = session.run(command.rstrip())\n",
    "\n",
    "command = \"\"\"\n",
    "    match (n)-[e1 {association:\"negative\"}]->(m)\n",
    "    CREATE (n)-[e2:neg]->(m)\n",
    "    SET e2 = e1\n",
    "    WITH e1\n",
    "    DELETE e1\n",
    "\"\"\"\n",
    "result = session.run(command.rstrip())\n"
   ]
  },
  {
   "cell_type": "code",
   "execution_count": 14,
   "metadata": {
    "collapsed": false
   },
   "outputs": [
    {
     "name": "stdout",
     "output_type": "stream",
     "text": [
      "<Record count(*)=228>\n"
     ]
    }
   ],
   "source": [
    "command = \"\"\"\n",
    "MATCH (n)\n",
    "RETURN count(*)\n",
    "\"\"\"\n",
    "result = session.run(command.rstrip())\n",
    "\n",
    "for record in result:\n",
    "    print(record)"
   ]
  },
  {
   "cell_type": "code",
   "execution_count": 15,
   "metadata": {
    "collapsed": true
   },
   "outputs": [],
   "source": [
    "# Get a sub-graph with some negative interactions for my progress report figure. "
   ]
  },
  {
   "cell_type": "code",
   "execution_count": 16,
   "metadata": {
    "collapsed": false
   },
   "outputs": [
    {
     "name": "stdout",
     "output_type": "stream",
     "text": [
      "<Record count(*)=2536>\n"
     ]
    }
   ],
   "source": [
    "# Start by just finding some edges that are negative. \n",
    "# If you don't specify a direction, each edge gets counted twice!\n",
    "command = \"\"\"\n",
    "MATCH () -[r]- ()\n",
    "RETURN count(*)\n",
    "\"\"\"\n",
    "result = session.run(command.rstrip())\n",
    "for record in result:\n",
    "    print(record)"
   ]
  },
  {
   "cell_type": "code",
   "execution_count": 17,
   "metadata": {
    "collapsed": false
   },
   "outputs": [
    {
     "name": "stdout",
     "output_type": "stream",
     "text": [
      "<Record count(*)=1268>\n"
     ]
    }
   ],
   "source": [
    "command = \"\"\"\n",
    "MATCH () --> ()\n",
    "RETURN count(*)\n",
    "\"\"\"\n",
    "result = session.run(command.rstrip())\n",
    "for record in result:\n",
    "    print(record)"
   ]
  },
  {
   "cell_type": "code",
   "execution_count": 18,
   "metadata": {
    "collapsed": false
   },
   "outputs": [
    {
     "name": "stdout",
     "output_type": "stream",
     "text": [
      "<Record count(*)=1092>\n"
     ]
    }
   ],
   "source": [
    "command = \"\"\"\n",
    "MATCH () -[r:pos]-> ()\n",
    "RETURN count(*)\n",
    "\"\"\"\n",
    "result = session.run(command.rstrip())\n",
    "for record in result:\n",
    "    print(record)"
   ]
  },
  {
   "cell_type": "code",
   "execution_count": 20,
   "metadata": {
    "collapsed": false
   },
   "outputs": [
    {
     "name": "stdout",
     "output_type": "stream",
     "text": [
      "<Record count(*)=176>\n"
     ]
    }
   ],
   "source": [
    "command = \"\"\"\n",
    "MATCH () -[r:neg]-> ()\n",
    "RETURN count(*)\n",
    "\"\"\"\n",
    "result = session.run(command.rstrip())\n",
    "for record in result:\n",
    "    print(record)"
   ]
  },
  {
   "cell_type": "code",
   "execution_count": null,
   "metadata": {
    "collapsed": true
   },
   "outputs": [],
   "source": [
    "command = \"\"\"\n",
    "MATCH (a) --> (b)\n",
    "RETURN count(*)\n",
    "\"\"\"\n",
    "result = session.run(command.rstrip())\n",
    "for record in result:\n",
    "    print(record)"
   ]
  },
  {
   "cell_type": "code",
   "execution_count": 28,
   "metadata": {
    "collapsed": true
   },
   "outputs": [],
   "source": [
    "# There might be better ways to do this... \n",
    "# http://stackoverflow.com/questions/29922140/labels-on-nodes-and-relationships-from-a-csv-file\n",
    "# 'Methylobacter-123 (UID203)', 'Methylotenera mobilis-49 (UID203)'\n",
    "command = \"\"\"\n",
    "    match (n {organism:'Methylotenera mobilis-49 (UID203)'})\n",
    "    set n :'Methylotenera_mobilis-49'\n",
    "    return n\n",
    "\"\"\"\n",
    "result = session.run(command.rstrip())\n",
    "command = \"\"\"\n",
    "    match (n {organism:'Methylobacter-123 (UID203)'})\n",
    "    set n :'Methylobacter-123'\n",
    "    return n\n",
    "\"\"\"\n",
    "result = session.run(command.rstrip())"
   ]
  },
  {
   "cell_type": "code",
   "execution_count": 29,
   "metadata": {
    "collapsed": true
   },
   "outputs": [],
   "source": [
    "## To label the node according to the variable, I think I need to make my nodes before adding the edges. "
   ]
  },
  {
   "cell_type": "code",
   "execution_count": null,
   "metadata": {
    "collapsed": true
   },
   "outputs": [],
   "source": [
    "command = \"\"\"\n",
    "    match (n {organism:'Methylotenera mobilis-49 (UID203)'})\n",
    "    set n :'Methylotenera_mobilis-49'\n",
    "    return n\n",
    "\"\"\"\n",
    "result = session.run(command.rstrip())"
   ]
  },
  {
   "cell_type": "code",
   "execution_count": null,
   "metadata": {
    "collapsed": true
   },
   "outputs": [],
   "source": [
    "MATCH (n1)-[old:BRANCH]->(n2) \n",
    "CREATE (n1)-[new:CONTAINS]->(n2) \n",
    "DELETE old"
   ]
  },
  {
   "cell_type": "code",
   "execution_count": null,
   "metadata": {
    "collapsed": false
   },
   "outputs": [],
   "source": [
    "assert False\n",
    "# old stuff below."
   ]
  },
  {
   "cell_type": "markdown",
   "metadata": {},
   "source": [
    "# OLD BELOW"
   ]
  },
  {
   "cell_type": "code",
   "execution_count": null,
   "metadata": {
    "collapsed": false
   },
   "outputs": [],
   "source": [
    "# Fill in more attributes.  Add in edges with attributes from the line.\n",
    "\n",
    "# wipe everything first:\n",
    "session.run(\"\"\" MATCH (n) DETACH DELETE n \"\"\")\n",
    "\n",
    "# add the source nodes, if they don't already exist:\n",
    "command = \"\"\"\n",
    "    LOAD CSV WITH HEADERS FROM \n",
    "        'https://raw.githubusercontent.com/JanetMatsen/Neo4j_meta4/master/data/network_broken.csv'  \n",
    "    AS line\n",
    "    MERGE (g1:Gene {org_gene:line.source, \n",
    "                    organism:line.source_organism, \n",
    "                    gene:line.source_gene}) \n",
    "    MERGE (g2:Gene {org_gene:line.target,\n",
    "                    organism:line.target_organism,\n",
    "                    gene:line.target_gene}) \n",
    "    MERGE (g1) -[:X {weight:line.weight, association:line.association}]-> (g2); \n",
    "    \"\"\"\n",
    "result = session.run(command.rstrip())\n",
    "\n",
    "# There might be better ways to do this... \n",
    "# http://stackoverflow.com/questions/29922140/labels-on-nodes-and-relationships-from-a-csv-file\n",
    "command = \"\"\"\n",
    "    match (n {organism:'Ga0081607'})\n",
    "    set n :organism_A\n",
    "    return n\n",
    "\"\"\"\n",
    "result = session.run(command.rstrip())\n",
    "command = \"\"\"\n",
    "    match (n {organism:'Ga0081629'})\n",
    "    set n :organism_B\n",
    "    return n\n",
    "\"\"\"\n",
    "result = session.run(command.rstrip())\n",
    "\n",
    "# See how many nodes I got. \n",
    "result = session.run(\"\"\" match(n) return n \"\"\")\n",
    "num_results = 0\n",
    "for record in result:\n",
    "    num_results += 1\n",
    "    print(record)\n",
    "print('number of nodes added from source and dest column: {}'.format(num_results))\n",
    "\n",
    "# ------------------------------------------------------------------------"
   ]
  },
  {
   "cell_type": "markdown",
   "metadata": {},
   "source": [
    "http://stackoverflow.com/questions/22670369/neo4j-cypher-how-to-change-the-type-of-a-relationship\n",
    "\n",
    "`\n",
    "MATCH (n:User {name:\"foo\"})-[r:REL]->(m:User {name:\"bar\"})\n",
    "CREATE (n)-[r2:NEWREL]->(m)\n",
    "SET r2 = r\n",
    "WITH r\n",
    "DELETE r\n",
    "`"
   ]
  },
  {
   "cell_type": "code",
   "execution_count": null,
   "metadata": {
    "collapsed": true
   },
   "outputs": [],
   "source": [
    "# set edge labels: write over them and erase the old ones.\n",
    "command = \"\"\"\n",
    "    match (n)-[e1 {association:\"positive\"}]-(m)\n",
    "    CREATE (n)-[e2:pos]->(m)\n",
    "    SET e2 = e1\n",
    "    WITH e1\n",
    "    DELETE e1\n",
    "\"\"\"\n",
    "result = session.run(command.rstrip())\n",
    "for record in result:\n",
    "    print(record)"
   ]
  },
  {
   "cell_type": "raw",
   "metadata": {},
   "source": [
    "# set edge labels\n",
    "command = \"\"\"\n",
    "    match (n)-[e1 {association:\"negative\"}]-(m)\n",
    "    CREATE (n)-[e2:neg]->(m)\n",
    "    SET e2 = e1\n",
    "    WITH e1\n",
    "    DELETE e1\n",
    "\"\"\"\n",
    "result = session.run(command.rstrip())\n",
    "for record in result:\n",
    "    print(record)"
   ]
  },
  {
   "cell_type": "markdown",
   "metadata": {},
   "source": [
    "Note that I've edited the colors by hand so far.\n",
    "Open the `:style` sheet (in Neo4j browser), and see things like this: \n",
    "\n",
    "`\n",
    "node.organism_A {\n",
    "  color: #68BDF6;\n",
    "  border-color: #5CA8DB;\n",
    "  text-color-internal: #FFFFFF;\n",
    "  caption: '{gene}';\n",
    "}\n",
    "\n",
    "node.organism_B {\n",
    "  color: #DE9BF9;\n",
    "  border-color: #BF85D6;\n",
    "  text-color-internal: #FFFFFF;\n",
    "  caption: '{gene}';\n",
    "}\n",
    "\n",
    "relationship.neg {\n",
    "  shaft-width: 2px;\n",
    "  color: #FF756E;\n",
    "  border-color: #E06760;\n",
    "  text-color-internal: #FFFFFF;\n",
    "}\n",
    "\n",
    "relationship.pos {\n",
    "  shaft-width: 2px;\n",
    "  color: #6DCE9E;\n",
    "  border-color: #60B58B;\n",
    "  text-color-internal: #FFFFFF;\n",
    "}`\n",
    "\n",
    "I couldn't find this in a version-controlled repository.  Somewhere some GRASS file exists..."
   ]
  },
  {
   "cell_type": "markdown",
   "metadata": {},
   "source": [
    "Watch this screencast?\n",
    "\n",
    "https://neo4j.com/developer/guide-data-visualization/\n",
    "\n",
    "\"we demonstrate how to style nodes and relationships in the Neo4j’s Browser visualization, and how to set colors, sizes, and titles.\""
   ]
  },
  {
   "cell_type": "code",
   "execution_count": null,
   "metadata": {
    "collapsed": true
   },
   "outputs": [],
   "source": []
  },
  {
   "cell_type": "code",
   "execution_count": null,
   "metadata": {
    "collapsed": true
   },
   "outputs": [],
   "source": []
  }
 ],
 "metadata": {
  "anaconda-cloud": {},
  "kernelspec": {
   "display_name": "Python [conda env:neo4j]",
   "language": "python",
   "name": "conda-env-neo4j-py"
  },
  "language_info": {
   "codemirror_mode": {
    "name": "ipython",
    "version": 3
   },
   "file_extension": ".py",
   "mimetype": "text/x-python",
   "name": "python",
   "nbconvert_exporter": "python",
   "pygments_lexer": "ipython3",
   "version": "3.5.2"
  }
 },
 "nbformat": 4,
 "nbformat_minor": 1
}
