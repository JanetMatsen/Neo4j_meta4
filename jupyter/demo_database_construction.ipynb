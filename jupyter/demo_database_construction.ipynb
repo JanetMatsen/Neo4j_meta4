{
 "cells": [
  {
   "cell_type": "code",
   "execution_count": null,
   "metadata": {
    "collapsed": true
   },
   "outputs": [],
   "source": [
    "from neo4j.v1 import GraphDatabase, basic_auth\n",
    "import pandas as pd"
   ]
  },
  {
   "cell_type": "code",
   "execution_count": null,
   "metadata": {
    "collapsed": false
   },
   "outputs": [],
   "source": [
    "driver = GraphDatabase.driver(\"bolt://localhost/\", \n",
    "                              auth=basic_auth(\"neo4j\", \"theraturkey\"))\n",
    "session = driver.session()"
   ]
  },
  {
   "cell_type": "markdown",
   "metadata": {},
   "source": [
    "Useful Commands:\n"
   ]
  },
  {
   "cell_type": "code",
   "execution_count": null,
   "metadata": {
    "collapsed": true
   },
   "outputs": [],
   "source": [
    "filename = '../data/Methylobacter--Methylotenera/Methylobacter-123--Methylotenera_mobilis-49_network--some_top_genes--1268_rows.tsv'"
   ]
  },
  {
   "cell_type": "code",
   "execution_count": null,
   "metadata": {
    "collapsed": false
   },
   "outputs": [],
   "source": [
    "filename"
   ]
  },
  {
   "cell_type": "code",
   "execution_count": null,
   "metadata": {
    "collapsed": false
   },
   "outputs": [],
   "source": [
    "! ls ../data/Methylobacter--Methylotenera"
   ]
  },
  {
   "cell_type": "code",
   "execution_count": null,
   "metadata": {
    "collapsed": false
   },
   "outputs": [],
   "source": [
    "df = pd.read_csv(filename, sep='\\t')"
   ]
  },
  {
   "cell_type": "code",
   "execution_count": null,
   "metadata": {
    "collapsed": false
   },
   "outputs": [],
   "source": [
    "df.head(4)"
   ]
  },
  {
   "cell_type": "code",
   "execution_count": null,
   "metadata": {
    "collapsed": false
   },
   "outputs": [],
   "source": [
    "df.shape"
   ]
  },
  {
   "cell_type": "code",
   "execution_count": null,
   "metadata": {
    "collapsed": false
   },
   "outputs": [],
   "source": [
    "# Calculate expected number of nodes:\n",
    "nodes = len(set(df['source_locus_tag'].drop_duplicates().tolist() + df['target_locus_tag'].drop_duplicates().tolist()))\n",
    "print(\"{} nodes are expected\".format(nodes))"
   ]
  },
  {
   "cell_type": "code",
   "execution_count": null,
   "metadata": {
    "collapsed": false
   },
   "outputs": [],
   "source": [
    "org_names = set(df['source_organism_name'].drop_duplicates().tolist() + \n",
    "                df['target_organism_name'].drop_duplicates().tolist())\n",
    "count = len(org_names)\n",
    "if count != 2:\n",
    "    print(\"Expected exactly 2 organsm names, but we have {}\".format(count))\n",
    "    print(org_names)"
   ]
  },
  {
   "cell_type": "code",
   "execution_count": null,
   "metadata": {
    "collapsed": false
   },
   "outputs": [],
   "source": [
    "org_names"
   ]
  },
  {
   "cell_type": "code",
   "execution_count": null,
   "metadata": {
    "collapsed": false
   },
   "outputs": [],
   "source": [
    "df.head(2)"
   ]
  },
  {
   "cell_type": "code",
   "execution_count": null,
   "metadata": {
    "collapsed": false
   },
   "outputs": [],
   "source": [
    "%matplotlib inline\n",
    "df.weight.hist()"
   ]
  },
  {
   "cell_type": "code",
   "execution_count": null,
   "metadata": {
    "collapsed": false
   },
   "outputs": [],
   "source": [
    "# wipe everything first:\n",
    "session.run(\"\"\" MATCH (n) DETACH DELETE n \"\"\")\n",
    "\n",
    "result = session.run(\"\"\" MATCH (n) RETURN n \"\"\")\n",
    "num_results = 0\n",
    "for record in result:\n",
    "    num_results += 1\n",
    "    print(record)\n",
    "print('number of nodes before starting: {}'.format(num_results))\n",
    "\n",
    "command = \"\"\"\n",
    "    LOAD CSV WITH HEADERS FROM \n",
    "        'https://raw.githubusercontent.com/JanetMatsen/Neo4j_meta4/master/data/Methylobacter--Methylotenera/Methylobacter-123--Methylotenera_mobilis-49_network--some_top_genes--1268_rows.tsv'  \n",
    "    AS line FIELDTERMINATOR '\\t'\n",
    "    MERGE (g1:Gene {locus_tag:line.source_locus_tag, \n",
    "                    organism:line.source_organism_name, \n",
    "                    gene:line.source_gene,\n",
    "                    gene_product:line.source_gene_product}) \n",
    "    MERGE (g2:Gene {locus_tag:line.target_locus_tag,\n",
    "                    organism:line.target_organism_name,\n",
    "                    gene:line.target_gene,\n",
    "                    gene_product:line.target_gene_product}) \n",
    "    MERGE (g1) -[:X {weight:line.weight, association:line.association}]-> (g2); \n",
    "    \"\"\"\n",
    "result = session.run(command.rstrip())\n",
    "\n",
    "result = session.run(\"\"\" match(n) return n \"\"\")\n",
    "num_results = 0\n",
    "for record in result:\n",
    "    num_results += 1\n",
    "    #print(record)\n",
    "print('number of nodes after loading: {}'.format(num_results))"
   ]
  },
  {
   "cell_type": "code",
   "execution_count": null,
   "metadata": {
    "collapsed": false
   },
   "outputs": [],
   "source": [
    "command = \"\"\"\n",
    "MATCH (n)\n",
    "RETURN count(*)\n",
    "\"\"\"\n",
    "result = session.run(command.rstrip())\n",
    "\n",
    "for record in result:\n",
    "    print(record)"
   ]
  },
  {
   "cell_type": "code",
   "execution_count": null,
   "metadata": {
    "collapsed": true
   },
   "outputs": [],
   "source": [
    "# set edge labels: write over them and erase the old ones.\n",
    "command = \"\"\"\n",
    "    match (n) -[e1 {association:\"positive\"}]-> (m)\n",
    "    CREATE (n) -[e2:pos]-> (m)\n",
    "    SET e2 = e1\n",
    "    WITH e1\n",
    "    DELETE e1\n",
    "\"\"\"\n",
    "result = session.run(command.rstrip())\n",
    "\n",
    "command = \"\"\"\n",
    "    match (n) -[e1 {association:\"negative\"}]-> (m)\n",
    "    CREATE (n) -[e2:neg]-> (m)\n",
    "    SET e2 = e1\n",
    "    WITH e1\n",
    "    DELETE e1\n",
    "\"\"\"\n",
    "result = session.run(command.rstrip())\n"
   ]
  },
  {
   "cell_type": "code",
   "execution_count": null,
   "metadata": {
    "collapsed": false
   },
   "outputs": [],
   "source": [
    "command = \"\"\"\n",
    "MATCH (n)\n",
    "RETURN count(*)\n",
    "\"\"\"\n",
    "result = session.run(command.rstrip())\n",
    "\n",
    "for record in result:\n",
    "    print(record)"
   ]
  },
  {
   "cell_type": "code",
   "execution_count": null,
   "metadata": {
    "collapsed": true
   },
   "outputs": [],
   "source": [
    "# There might be better ways to do this... \n",
    "# http://stackoverflow.com/questions/29922140/labels-on-nodes-and-relationships-from-a-csv-file\n",
    "# 'Methylobacter-123 (UID203)', 'Methylotenera mobilis-49 (UID203)'\n",
    "command = \"\"\"\n",
    "    match (n {organism:'Methylotenera mobilis-49 (UID203)'})\n",
    "    set n :Methylotenera_mobilis_49\n",
    "    return n\n",
    "\"\"\"\n",
    "result = session.run(command.rstrip())\n",
    "command = \"\"\"\n",
    "    match (n {organism:'Methylobacter-123 (UID203)'})\n",
    "    set n :Methylobacter_123\n",
    "    return n\n",
    "\"\"\"\n",
    "result = session.run(command.rstrip())"
   ]
  },
  {
   "cell_type": "code",
   "execution_count": null,
   "metadata": {
    "collapsed": true
   },
   "outputs": [],
   "source": [
    "# Get a sub-graph with some negative interactions for my progress report figure. "
   ]
  },
  {
   "cell_type": "code",
   "execution_count": null,
   "metadata": {
    "collapsed": false
   },
   "outputs": [],
   "source": [
    "# Start by just finding some edges that are negative. \n",
    "# If you don't specify a direction, each edge gets counted twice!\n",
    "command = \"\"\"\n",
    "MATCH () -- ()\n",
    "RETURN count(*)\n",
    "\"\"\"\n",
    "result = session.run(command.rstrip())\n",
    "for record in result:\n",
    "    print(record)"
   ]
  },
  {
   "cell_type": "code",
   "execution_count": null,
   "metadata": {
    "collapsed": false
   },
   "outputs": [],
   "source": [
    "command = \"\"\"\n",
    "MATCH () --> ()\n",
    "RETURN count(*)\n",
    "\"\"\"\n",
    "result = session.run(command.rstrip())\n",
    "for record in result:\n",
    "    print(record)"
   ]
  },
  {
   "cell_type": "code",
   "execution_count": null,
   "metadata": {
    "collapsed": false
   },
   "outputs": [],
   "source": [
    "command = \"\"\"\n",
    "MATCH () -[r:pos]-> ()\n",
    "RETURN count(*)\n",
    "\"\"\"\n",
    "result = session.run(command.rstrip())\n",
    "for record in result:\n",
    "    print(record)"
   ]
  },
  {
   "cell_type": "code",
   "execution_count": null,
   "metadata": {
    "collapsed": false
   },
   "outputs": [],
   "source": [
    "command = \"\"\"\n",
    "MATCH () -[r:neg]-> ()\n",
    "RETURN count(*)\n",
    "\"\"\"\n",
    "result = session.run(command.rstrip())\n",
    "for record in result:\n",
    "    print(record)"
   ]
  },
  {
   "cell_type": "code",
   "execution_count": null,
   "metadata": {
    "collapsed": false
   },
   "outputs": [],
   "source": [
    "command = \"\"\"\n",
    "MATCH (a) --> (b)\n",
    "RETURN count(*)\n",
    "\"\"\"\n",
    "result = session.run(command.rstrip())\n",
    "for record in result:\n",
    "    print(record)"
   ]
  }
 ],
 "metadata": {
  "anaconda-cloud": {},
  "kernelspec": {
   "display_name": "Python [conda env:neo4j]",
   "language": "python",
   "name": "conda-env-neo4j-py"
  },
  "language_info": {
   "codemirror_mode": {
    "name": "ipython",
    "version": 3
   },
   "file_extension": ".py",
   "mimetype": "text/x-python",
   "name": "python",
   "nbconvert_exporter": "python",
   "pygments_lexer": "ipython3",
   "version": "3.5.2"
  }
 },
 "nbformat": 4,
 "nbformat_minor": 1
}
