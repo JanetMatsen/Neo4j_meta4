{
 "cells": [
  {
   "cell_type": "code",
   "execution_count": 1,
   "metadata": {
    "collapsed": false
   },
   "outputs": [],
   "source": [
    "from neo4j.v1 import GraphDatabase, basic_auth"
   ]
  },
  {
   "cell_type": "code",
   "execution_count": 2,
   "metadata": {
    "collapsed": false
   },
   "outputs": [],
   "source": [
    "driver = GraphDatabase.driver(\"bolt://localhost\", \n",
    "                              auth=basic_auth(\"neo4j\", \"theraturkey\"))\n",
    "session = driver.session()"
   ]
  },
  {
   "cell_type": "code",
   "execution_count": 3,
   "metadata": {
    "collapsed": false
   },
   "outputs": [
    {
     "name": "stdout",
     "output_type": "stream",
     "text": [
      "King Arthur\n"
     ]
    }
   ],
   "source": [
    "session.run(\"CREATE (a:Person {name:'Arthur', title:'King'})\")\n",
    "\n",
    "result = session.run(\"MATCH (a:Person) WHERE a.name = 'Arthur' RETURN a.name AS name, a.title AS title\")\n",
    "for record in result:\n",
    "    print(\"%s %s\" % (record[\"title\"], record[\"name\"]))\n",
    "\n",
    "session.close()"
   ]
  },
  {
   "cell_type": "code",
   "execution_count": null,
   "metadata": {
    "collapsed": true
   },
   "outputs": [],
   "source": [
    "session = driver.session()"
   ]
  },
  {
   "cell_type": "code",
   "execution_count": null,
   "metadata": {
    "collapsed": false
   },
   "outputs": [],
   "source": [
    "command = \"\"\"\n",
    "    LOAD CSV WITH HEADERS FROM 'file:///Users/janet/Neo4j_meta4/data/network_broken.tsv' \n",
    "    AS row FIELDTERMINATOR '\\t'\n",
    "    \"\"\"\n",
    "result = session.run(command)"
   ]
  },
  {
   "cell_type": "code",
   "execution_count": null,
   "metadata": {
    "collapsed": false
   },
   "outputs": [],
   "source": [
    "command = \"\"\"\n",
    "    LOAD CSV FROM \"https://gist.githubusercontent.com/jexp/d788e117129c3730a042/raw/a147631215456d86a77edc7ec08c128b9ef05e3b/people_leading_empty.csv\"\n",
    "      AS line\n",
    "    WITH line LIMIT 4\n",
    "    RETURN line\n",
    "    \"\"\"\n",
    "result = session.run(command.rstrip())"
   ]
  },
  {
   "cell_type": "code",
   "execution_count": null,
   "metadata": {
    "collapsed": false
   },
   "outputs": [],
   "source": [
    "for record in result:\n",
    "    print(record)"
   ]
  },
  {
   "cell_type": "markdown",
   "metadata": {},
   "source": [
    "http://neo4j.com/docs/developer-manual/current/cypher/#query-load-csv\n",
    "\n",
    "Note that the csv URL they give is not longer valid.\n",
    "\n",
    "`LOAD CSV FROM 'http://neo4j.com/docs/3.0.7/csv/artists-fieldterminator.csv' AS line FIELDTERMINATOR\n",
    "  ';'\n",
    "CREATE (:Artist { name: line[1], year: toInt(line[2])})`"
   ]
  },
  {
   "cell_type": "markdown",
   "metadata": {},
   "source": [
    "Data we are loading:\n",
    "\n",
    "`PersonName\t\"Company Name\"\tyear\n",
    "Kenny Bastani\t\"Neo Technology\"\t2013\n",
    "Michael Hunger\t\"Neo Technology\"\t2010\n",
    "James Ward\t\"Heroku\"\t2011\n",
    "Someone\t\t\n",
    "John\t\"Doe.com\"\t\"ninetynine\"`"
   ]
  },
  {
   "cell_type": "code",
   "execution_count": null,
   "metadata": {
    "collapsed": false
   },
   "outputs": [],
   "source": [
    "# http://neo4j.com/docs/developer-manual/current/cypher/#query-load-csv\n",
    "command = \"\"\"\n",
    "    LOAD CSV WITH HEADERS FROM \"https://gist.githubusercontent.com/jexp/d788e117129c3730a042/raw/1bd8c19bf8b49d9eb7149918cc11a34faf996dd8/people.tsv\"\n",
    "    AS line \n",
    "    FIELDTERMINATOR '\\t'\n",
    "    CREATE (:Artist)\n",
    "    \"\"\"\n",
    "#CREATE (:Artist {company:line[1], year: toInt(line[2])})\n",
    "result = session.run(command.rstrip())\n",
    "\n",
    "for record in result:\n",
    "    print(record)"
   ]
  },
  {
   "cell_type": "code",
   "execution_count": null,
   "metadata": {
    "collapsed": true
   },
   "outputs": [],
   "source": [
    "# http://neo4j.com/docs/developer-manual/current/cypher/#query-load-csv\n",
    "command = \"\"\"\n",
    "    LOAD CSV WITH HEADERS FROM \"https://gist.githubusercontent.com/jexp/d788e117129c3730a042/raw/1bd8c19bf8b49d9eb7149918cc11a34faf996dd8/people.tsv\"\n",
    "    AS line \n",
    "    FIELDTERMINATOR '\\t'\n",
    "    CREATE (:Artist {company:line['Company Name'], year:line.year})\n",
    "    \"\"\"\n",
    "#CREATE (:Artist {company:line[1], year: toInt(line[2])})\n",
    "result = session.run(command.rstrip())\n",
    "\n",
    "for record in result:\n",
    "    print(record)"
   ]
  },
  {
   "cell_type": "code",
   "execution_count": null,
   "metadata": {
    "collapsed": false
   },
   "outputs": [],
   "source": [
    "result = session.run(\"\"\" match(n) return n \"\"\")\n",
    "\n",
    "for record in result:\n",
    "    print(record)"
   ]
  },
  {
   "cell_type": "code",
   "execution_count": null,
   "metadata": {
    "collapsed": false
   },
   "outputs": [],
   "source": [
    "# http://neo4j.com/docs/developer-manual/current/cypher/#query-load-csv\n",
    "\n",
    "# wipe everything first:\n",
    "session.run(\"\"\" MATCH (n) DETACH DELETE n \"\"\")\n",
    "\n",
    "# make new stuff:\n",
    "command = \"\"\"\n",
    "    LOAD CSV WITH HEADERS FROM \"https://gist.githubusercontent.com/jexp/d788e117129c3730a042/raw/1bd8c19bf8b49d9eb7149918cc11a34faf996dd8/people.tsv\"\n",
    "    AS line \n",
    "    FIELDTERMINATOR '\\t'\n",
    "    CREATE (:Artist {company:line['Company Name'], year:line.year})\n",
    "    \"\"\"\n",
    "session.run(command.rstrip())\n",
    "\n",
    "result = session.run(\"\"\" match(n) return n \"\"\")\n",
    "\n",
    "for record in result:\n",
    "    print(record)\n",
    "\n",
    "for record in result:\n",
    "    print(record)"
   ]
  },
  {
   "cell_type": "code",
   "execution_count": null,
   "metadata": {
    "collapsed": false
   },
   "outputs": [],
   "source": [
    "! head /Users/janet/Neo4j_meta4/data/network_broken.tsv"
   ]
  },
  {
   "cell_type": "code",
   "execution_count": null,
   "metadata": {
    "collapsed": false
   },
   "outputs": [],
   "source": [
    "session.run('dbms.security.allow_csv_import_from_file_urls=true')"
   ]
  },
  {
   "cell_type": "code",
   "execution_count": null,
   "metadata": {
    "collapsed": false
   },
   "outputs": [],
   "source": [
    "#  TRY ON OUR DATA \n",
    "\n",
    "# wipe everything first:\n",
    "session.run(\"\"\" MATCH (n) DETACH DELETE n \"\"\")\n",
    "\n",
    "# make new stuff:\n",
    "command = \"\"\"\n",
    "    LOAD CSV WITH HEADERS FROM 'https://raw.githubusercontent.com/JanetMatsen/Neo4j_meta4/master/data/network_broken.tsv' \n",
    "    AS line \n",
    "    FIELDTERMINATOR '\\t'\n",
    "    WITH line LIMIT 4\n",
    "    RETURN line\n",
    "    \"\"\"\n",
    "result = session.run(command.rstrip())\n",
    "for record in result:\n",
    "    print(record)\n",
    "    \n",
    "print('----------------------')\n",
    "\n",
    "result = session.run(\"\"\" match(n) return n \"\"\")\n",
    "for record in result:\n",
    "    print(record)\n",
    "\n",
    "    "
   ]
  },
  {
   "cell_type": "markdown",
   "metadata": {},
   "source": [
    "###  TRY ON OUR DATA \n",
    "\n",
    "Start with the simplest: a csv with only 20 rows.\n",
    "* https://raw.githubusercontent.com/JanetMatsen/Neo4j_meta4/master/data/network_broken_20.csv\n",
    "\n",
    "Next progress to the csv with all the rows:\n",
    "* https://github.com/JanetMatsen/Neo4j_meta4/blob/master/data/network_broken.csv\n",
    "\n",
    "Finally, try the .tsv with all the rows.  We will want tsv because\n",
    "* https://raw.githubusercontent.com/JanetMatsen/Neo4j_meta4/master/data/network_broken.tsv\n",
    "\n",
    "Last, see if I can do it from local file, not GitHub file. \n"
   ]
  },
  {
   "cell_type": "code",
   "execution_count": null,
   "metadata": {
    "collapsed": false
   },
   "outputs": [],
   "source": [
    "# Show that I can load the 20-line CSV. \n",
    "\n",
    "# wipe everything first:\n",
    "session.run(\"\"\" MATCH (n) DETACH DELETE n \"\"\")\n",
    "\n",
    "# make new stuff:\n",
    "command = \"\"\"\n",
    "    LOAD CSV WITH HEADERS FROM \n",
    "        'https://raw.githubusercontent.com/JanetMatsen/Neo4j_meta4/master/data/network_broken_20.csv'  \n",
    "    AS line\n",
    "    RETURN line\n",
    "    \"\"\"\n",
    "result = session.run(command.rstrip())\n",
    "for record in result:\n",
    "    print(record)\n",
    "    \n",
    "print('----------------------')\n",
    "\n",
    "result = session.run(\"\"\" match(n) return n \"\"\")\n",
    "for record in result:\n",
    "    print(record)\n",
    "\n",
    "    "
   ]
  },
  {
   "cell_type": "markdown",
   "metadata": {},
   "source": [
    "http://stackoverflow.com/questions/25090255/how-to-create-unique-nodes-and-relationships-by-csv-file-imported-in-neo4j \n",
    "\n",
    "`LOAD CSV FROM 'file:///home/nate/Downloads/file.csv' AS line\n",
    "MERGE (n:A {number : line[0]})\n",
    "WITH line, n\n",
    "MERGE (m:B {ID : line[1]})\n",
    "WITH m,n\n",
    "MERGE (n)-[:LIKES]->(m);\n",
    "`"
   ]
  },
  {
   "cell_type": "code",
   "execution_count": null,
   "metadata": {
    "collapsed": false,
    "scrolled": true
   },
   "outputs": [],
   "source": [
    "# wipe everything first:\n",
    "session.run(\"\"\" MATCH (n) DETACH DELETE n \"\"\")\n",
    "\n",
    "# make new stuff:\n",
    "command = \"\"\"\n",
    "    LOAD CSV FROM //WITH HEADERS FROM \n",
    "        'https://raw.githubusercontent.com/JanetMatsen/Neo4j_meta4/master/data/network_broken_20.csv'  \n",
    "    AS line\n",
    "    MERGE (n:A {col1 : line[0], col2: line[1], col3: line[2]})\n",
    "    WITH line, n\n",
    "    MERGE (m:B {ID : line[1]})\n",
    "    WITH m,n\n",
    "    MERGE (n)-[:LIKES]->(m);\n",
    "    \"\"\"\n",
    "result = session.run(command.rstrip())\n",
    "\n",
    "num_results = 0\n",
    "for record in result:\n",
    "    num_results += 1\n",
    "    print(record)\n",
    "print('number of results from building: {}'.format(num_results))\n",
    "    \n",
    "#print('----------------------')\n",
    "\n",
    "result = session.run(\"\"\" match(n) return n \"\"\")\n",
    "num_results = 0\n",
    "for record in result:\n",
    "    num_results += 1\n",
    "    print(record)\n",
    "print('number of results from querying: {}'.format(num_results))\n",
    "\n"
   ]
  },
  {
   "cell_type": "markdown",
   "metadata": {},
   "source": [
    "Go through and define all the nodes first, then add edges by iterating over each line?"
   ]
  },
  {
   "cell_type": "code",
   "execution_count": 6,
   "metadata": {
    "collapsed": false
   },
   "outputs": [
    {
     "name": "stdout",
     "output_type": "stream",
     "text": [
      "<Record n=<Node id=36 labels={'Gene'} properties={'source': 'Ga0081607_11219'}>>\n",
      "<Record n=<Node id=37 labels={'Gene'} properties={'source': 'Ga0081607_11219'}>>\n",
      "<Record n=<Node id=38 labels={'Gene'} properties={'source': 'Ga0081607_11219'}>>\n",
      "<Record n=<Node id=39 labels={'Gene'} properties={'source': 'Ga0081607_11219'}>>\n",
      "<Record n=<Node id=40 labels={'Gene'} properties={'source': 'Ga0081607_108214'}>>\n",
      "<Record n=<Node id=41 labels={'Gene'} properties={'source': 'Ga0081607_108214'}>>\n",
      "<Record n=<Node id=42 labels={'Gene'} properties={'source': 'Ga0081607_108214'}>>\n",
      "<Record n=<Node id=43 labels={'Gene'} properties={'source': 'Ga0081607_108214'}>>\n",
      "<Record n=<Node id=44 labels={'Gene'} properties={'source': 'Ga0081607_115213'}>>\n",
      "<Record n=<Node id=45 labels={'Gene'} properties={'source': 'Ga0081607_115213'}>>\n",
      "<Record n=<Node id=46 labels={'Gene'} properties={'source': 'Ga0081607_115213'}>>\n",
      "<Record n=<Node id=47 labels={'Gene'} properties={'source': 'Ga0081607_115213'}>>\n",
      "<Record n=<Node id=48 labels={'Gene'} properties={'source': 'Ga0081607_115213'}>>\n",
      "<Record n=<Node id=49 labels={'Gene'} properties={'source': 'Ga0081607_115213'}>>\n",
      "<Record n=<Node id=50 labels={'Gene'} properties={'source': 'Ga0081607_115213'}>>\n",
      "<Record n=<Node id=51 labels={'Gene'} properties={'source': 'Ga0081607_115213'}>>\n",
      "<Record n=<Node id=52 labels={'Gene'} properties={'source': 'Ga0081607_115213'}>>\n",
      "<Record n=<Node id=53 labels={'Gene'} properties={'source': 'Ga0081607_115213'}>>\n",
      "<Record n=<Node id=54 labels={'Gene'} properties={'source': 'Ga0081607_115213'}>>\n",
      "<Record n=<Node id=55 labels={'Gene'} properties={'source': 'Ga0081629_12073'}>>\n",
      "number of nodes added: 20\n"
     ]
    }
   ],
   "source": [
    "# Makes duplicate nodes:\n",
    "\n",
    "# wipe everything first:\n",
    "session.run(\"\"\" MATCH (n) DETACH DELETE n \"\"\")\n",
    "\n",
    "# make new stuff:\n",
    "command = \"\"\"\n",
    "    LOAD CSV WITH HEADERS FROM \n",
    "        'https://raw.githubusercontent.com/JanetMatsen/Neo4j_meta4/master/data/network_broken_20.csv'  \n",
    "    AS line\n",
    "    CREATE (:Gene {source:line.source})\n",
    "    \"\"\"\n",
    "result = session.run(command.rstrip())\n",
    "\n",
    "# See how many nodes I got. \n",
    "result = session.run(\"\"\" match(n) return n \"\"\")\n",
    "num_results = 0\n",
    "for record in result:\n",
    "    num_results += 1\n",
    "    print(record)\n",
    "print('number of nodes added: {}'.format(num_results))\n",
    "\n",
    "# ------------------------------------------------------------------------\n"
   ]
  },
  {
   "cell_type": "code",
   "execution_count": 8,
   "metadata": {
    "collapsed": false
   },
   "outputs": [
    {
     "name": "stdout",
     "output_type": "stream",
     "text": [
      "<Record n=<Node id=56 labels={'Gene'} properties={'source': 'Ga0081607_11219'}>>\n",
      "<Record n=<Node id=57 labels={'Gene'} properties={'source': 'Ga0081607_11219'}>>\n",
      "<Record n=<Node id=58 labels={'Gene'} properties={'source': 'Ga0081607_11219'}>>\n",
      "<Record n=<Node id=59 labels={'Gene'} properties={'source': 'Ga0081607_11219'}>>\n",
      "<Record n=<Node id=60 labels={'Gene'} properties={'source': 'Ga0081607_108214'}>>\n",
      "<Record n=<Node id=61 labels={'Gene'} properties={'source': 'Ga0081607_108214'}>>\n",
      "<Record n=<Node id=62 labels={'Gene'} properties={'source': 'Ga0081607_108214'}>>\n",
      "<Record n=<Node id=63 labels={'Gene'} properties={'source': 'Ga0081607_108214'}>>\n",
      "<Record n=<Node id=64 labels={'Gene'} properties={'source': 'Ga0081607_115213'}>>\n",
      "<Record n=<Node id=65 labels={'Gene'} properties={'source': 'Ga0081607_115213'}>>\n",
      "<Record n=<Node id=66 labels={'Gene'} properties={'source': 'Ga0081607_115213'}>>\n",
      "<Record n=<Node id=67 labels={'Gene'} properties={'source': 'Ga0081607_115213'}>>\n",
      "<Record n=<Node id=68 labels={'Gene'} properties={'source': 'Ga0081607_115213'}>>\n",
      "<Record n=<Node id=69 labels={'Gene'} properties={'source': 'Ga0081607_115213'}>>\n",
      "<Record n=<Node id=70 labels={'Gene'} properties={'source': 'Ga0081607_115213'}>>\n",
      "<Record n=<Node id=71 labels={'Gene'} properties={'source': 'Ga0081607_115213'}>>\n",
      "<Record n=<Node id=72 labels={'Gene'} properties={'source': 'Ga0081607_115213'}>>\n",
      "<Record n=<Node id=73 labels={'Gene'} properties={'source': 'Ga0081607_115213'}>>\n",
      "<Record n=<Node id=74 labels={'Gene'} properties={'source': 'Ga0081607_115213'}>>\n",
      "<Record n=<Node id=75 labels={'Gene'} properties={'source': 'Ga0081629_12073'}>>\n",
      "number of nodes added: 20\n"
     ]
    }
   ],
   "source": [
    "# Makes duplicate nodes:\n",
    "\n",
    "# wipe everything first:\n",
    "session.run(\"\"\" MATCH (n) DETACH DELETE n \"\"\")\n",
    "\n",
    "# make new stuff:\n",
    "command = \"\"\"\n",
    "    LOAD CSV WITH HEADERS FROM \n",
    "        'https://raw.githubusercontent.com/JanetMatsen/Neo4j_meta4/master/data/network_broken_20.csv'  \n",
    "    AS line\n",
    "    CREATE (:Gene {source:line.source})\n",
    "    \"\"\"\n",
    "result = session.run(command.rstrip())\n",
    "\n",
    "# See how many nodes I got. \n",
    "result = session.run(\"\"\" match(n) return n \"\"\")\n",
    "num_results = 0\n",
    "for record in result:\n",
    "    num_results += 1\n",
    "    print(record)\n",
    "print('number of nodes added: {}'.format(num_results))\n",
    "\n",
    "# ------------------------------------------------------------------------"
   ]
  },
  {
   "cell_type": "markdown",
   "metadata": {},
   "source": [
    "http://blog.comperiosearch.com/blog/2015/02/04/csv-import-tricks-neo4j/ \n",
    "\n",
    "`USING PERIODIC COMMIT 1000\n",
    "LOAD CSV WITH HEADERS FROM “file://blabla.csv” AS csvLine\n",
    "MATCH (uf :USER { twitter_name: toInt(csvLine.follower_name) })\n",
    "MATCH (u :USER { twitter_name: toInt(csvLine.twitter_name) })\n",
    "MERGE uf -[:FOLLOWS]-> u`"
   ]
  },
  {
   "cell_type": "code",
   "execution_count": 10,
   "metadata": {
    "collapsed": false
   },
   "outputs": [
    {
     "name": "stdout",
     "output_type": "stream",
     "text": [
      "number of nodes added: 0\n"
     ]
    }
   ],
   "source": [
    "# Makes 0 nodes:\n",
    "\n",
    "# wipe everything first:\n",
    "session.run(\"\"\" MATCH (n) DETACH DELETE n \"\"\")\n",
    "\n",
    "# make new stuff:\n",
    "command = \"\"\"\n",
    "    LOAD CSV WITH HEADERS FROM \n",
    "        'https://raw.githubusercontent.com/JanetMatsen/Neo4j_meta4/master/data/network_broken_20.csv'  \n",
    "    AS line\n",
    "    MATCH (g:Gene {source:line.source})\n",
    "    MATCH (g2:Gene {target:line.target})\n",
    "    MERGE (g) -[:x]-> (g2) // Parentheses are required to identify nodes in patterns, i.e. (g) \n",
    "    \"\"\"\n",
    "result = session.run(command.rstrip())\n",
    "\n",
    "# See how many nodes I got. \n",
    "result = session.run(\"\"\" match(n) return n \"\"\")\n",
    "num_results = 0\n",
    "for record in result:\n",
    "    num_results += 1\n",
    "    print(record)\n",
    "print('number of nodes added: {}'.format(num_results))\n",
    "\n",
    "# ------------------------------------------------------------------------"
   ]
  },
  {
   "cell_type": "markdown",
   "metadata": {},
   "source": [
    "http://blog.comperiosearch.com/blog/2015/02/04/csv-import-tricks-neo4j/ \n",
    "\n",
    "`USING PERIODIC COMMIT 1000\n",
    "LOAD CSV WITH HEADERS FROM “file://blabla.csv” AS csvLine\n",
    "WITH toInt(csvLine.twitterid) as twitterid, csvLine\n",
    "WHERE twitterid IS NOT NULL\n",
    "MERGE (u :USER { twitterid: twitterid }) ON CREATE SET\n",
    "u.seat=toInt(csvLine.seat), u.firstname=csvLine.first name, u.lastname=csvLine.lastname, u.party=csvLine.party, u.region=csvLine.region, u.type = csvLine.type`"
   ]
  },
  {
   "cell_type": "code",
   "execution_count": 14,
   "metadata": {
    "collapsed": false
   },
   "outputs": [
    {
     "name": "stdout",
     "output_type": "stream",
     "text": [
      "<Record n=<Node id=84 labels={'Gene'} properties={'gene': 'Ga0081607_11219', 'organism': 'Ga0081607'}>>\n",
      "<Record n=<Node id=85 labels={'Gene'} properties={'gene': 'Ga0081607_108214', 'organism': 'Ga0081607'}>>\n",
      "<Record n=<Node id=86 labels={'Gene'} properties={'gene': 'Ga0081607_115213', 'organism': 'Ga0081607'}>>\n",
      "<Record n=<Node id=87 labels={'Gene'} properties={'gene': 'Ga0081629_12073', 'organism': 'Ga0081629'}>>\n",
      "number of nodes added: 4\n"
     ]
    }
   ],
   "source": [
    "# Makes 4 nodes.  This is a good start!!\n",
    "\n",
    "# wipe everything first:\n",
    "session.run(\"\"\" MATCH (n) DETACH DELETE n \"\"\")\n",
    "\n",
    "# make new stuff:\n",
    "command = \"\"\"\n",
    "    LOAD CSV WITH HEADERS FROM \n",
    "        'https://raw.githubusercontent.com/JanetMatsen/Neo4j_meta4/master/data/network_broken_20.csv'  \n",
    "    AS line\n",
    "    MERGE (g:Gene {gene:line.source}) ON CREATE SET\n",
    "    g.organism=line.source_organism \n",
    "    \"\"\"\n",
    "result = session.run(command.rstrip())\n",
    "\n",
    "# See how many nodes I got. \n",
    "result = session.run(\"\"\" match(n) return n \"\"\")\n",
    "num_results = 0\n",
    "for record in result:\n",
    "    num_results += 1\n",
    "    print(record)\n",
    "print('number of nodes added: {}'.format(num_results))\n",
    "\n",
    "# ------------------------------------------------------------------------"
   ]
  },
  {
   "cell_type": "code",
   "execution_count": null,
   "metadata": {
    "collapsed": true
   },
   "outputs": [],
   "source": [
    "# Makes nodes for source and target. \n",
    "\n",
    "# wipe everything first:\n",
    "session.run(\"\"\" MATCH (n) DETACH DELETE n \"\"\")\n",
    "\n",
    "# make new stuff:\n",
    "command = \"\"\"\n",
    "    LOAD CSV WITH HEADERS FROM \n",
    "        'https://raw.githubusercontent.com/JanetMatsen/Neo4j_meta4/master/data/network_broken_20.csv'  \n",
    "    AS line\n",
    "    MERGE (g:Gene {gene:line.source}) ON CREATE SET\n",
    "    g.organism=line.source_organism \n",
    "    \"\"\"\n",
    "result = session.run(command.rstrip())\n",
    "\n",
    "# See how many nodes I got. \n",
    "result = session.run(\"\"\" match(n) return n \"\"\")\n",
    "num_results = 0\n",
    "for record in result:\n",
    "    num_results += 1\n",
    "    print(record)\n",
    "print('number of nodes added: {}'.format(num_results))\n",
    "\n",
    "# ------------------------------------------------------------------------"
   ]
  },
  {
   "cell_type": "code",
   "execution_count": null,
   "metadata": {
    "collapsed": true
   },
   "outputs": [],
   "source": [
    "num_results = 0\n",
    "for record in result:\n",
    "    num_results += 1\n",
    "    print(record)\n",
    "print('number of results from building: {}'.format(num_results))\n",
    "    \n",
    "#print('----------------------')\n",
    "\n",
    "result = session.run(\"\"\" match(n) return n \"\"\")\n",
    "num_results = 0\n",
    "for record in result:\n",
    "    num_results += 1\n",
    "    print(record)\n",
    "print('number of results from querying: {}'.format(num_results))\n",
    "\n"
   ]
  }
 ],
 "metadata": {
  "anaconda-cloud": {},
  "kernelspec": {
   "display_name": "Python [default]",
   "language": "python",
   "name": "python3"
  },
  "language_info": {
   "codemirror_mode": {
    "name": "ipython",
    "version": 3
   },
   "file_extension": ".py",
   "mimetype": "text/x-python",
   "name": "python",
   "nbconvert_exporter": "python",
   "pygments_lexer": "ipython3",
   "version": "3.5.2"
  }
 },
 "nbformat": 4,
 "nbformat_minor": 0
}
