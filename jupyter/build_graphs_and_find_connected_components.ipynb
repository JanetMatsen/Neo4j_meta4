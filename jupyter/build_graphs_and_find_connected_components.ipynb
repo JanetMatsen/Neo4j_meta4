{
 "cells": [
  {
   "cell_type": "code",
   "execution_count": null,
   "metadata": {
    "collapsed": false
   },
   "outputs": [],
   "source": [
    "import pandas as pd\n",
    "import re\n",
    "import subprocess\n",
    "import matplotlib as mpl\n",
    "mpl.use('Agg') \n",
    "import matplotlib.pyplot as plt\n",
    "import seaborn as sns\n",
    "\n",
    "%matplotlib inline"
   ]
  },
  {
   "cell_type": "markdown",
   "metadata": {},
   "source": [
    "`mv Untitled.jar ConnectedComponents.jar`"
   ]
  },
  {
   "cell_type": "markdown",
   "metadata": {},
   "source": [
    "worked:\n",
    "\n",
    "```\n",
    "badger:Neo4j_meta4 janet$ pwd\n",
    "/Users/janet/Neo4j_meta4\n",
    "badger:Neo4j_meta4 janet$ java -jar ConnectedComponents.jar 0.03\n",
    "``` "
   ]
  },
  {
   "cell_type": "code",
   "execution_count": null,
   "metadata": {
    "collapsed": false
   },
   "outputs": [],
   "source": [
    "! pwd"
   ]
  },
  {
   "cell_type": "code",
   "execution_count": null,
   "metadata": {
    "collapsed": true
   },
   "outputs": [],
   "source": [
    "# for Waffle, until the default Java is set to 8:\n",
    "#java=\"/usr/lib/jvm/java-8-oracle/jre/bin/java\"\n",
    "# for badger, set java = 'java'\n",
    "java='java'"
   ]
  },
  {
   "cell_type": "code",
   "execution_count": null,
   "metadata": {
    "collapsed": false
   },
   "outputs": [],
   "source": [
    "! pwd"
   ]
  },
  {
   "cell_type": "code",
   "execution_count": null,
   "metadata": {
    "collapsed": false
   },
   "outputs": [],
   "source": [
    "! ls -l ../jars/*.jar"
   ]
  },
  {
   "cell_type": "code",
   "execution_count": null,
   "metadata": {
    "collapsed": false
   },
   "outputs": [],
   "source": [
    "command = [java, '-jar', '../jars/ConstructNetwork50M.jar', '0.06']\n",
    "print(' '.join(command))\n",
    "example_build = subprocess.check_output(command)"
   ]
  },
  {
   "cell_type": "code",
   "execution_count": null,
   "metadata": {
    "collapsed": false
   },
   "outputs": [],
   "source": [
    "print(example_build.decode('utf-8'))"
   ]
  },
  {
   "cell_type": "code",
   "execution_count": null,
   "metadata": {
    "collapsed": true
   },
   "outputs": [],
   "source": [
    "def parse_db_building_stdout(stdout):\n",
    "    #print(stdout)\n",
    "    nodes_edges = re.findall(\n",
    "        'after network construction: (\\d+), (\\d+)', \n",
    "        str(stdout))\n",
    "    print(nodes_edges)\n",
    "    assert len(nodes_edges) == 1, 'expected one count for nodes and one for edges'\n",
    "    nodes, edges = nodes_edges[0]\n",
    "    \n",
    "    density = re.findall('Graph density: (\\d*\\.\\d+|[-+]?\\d+)', str(stdout))\n",
    "    assert len(density) == 1, 'should report one density.  Found {}'.format(density)\n",
    "    print(density)\n",
    "    return nodes, edges, density[0]"
   ]
  },
  {
   "cell_type": "code",
   "execution_count": null,
   "metadata": {
    "collapsed": false
   },
   "outputs": [],
   "source": [
    "parse_db_building_stdout(example_build.decode('utf-8'))"
   ]
  },
  {
   "cell_type": "code",
   "execution_count": null,
   "metadata": {
    "collapsed": false
   },
   "outputs": [],
   "source": [
    "query = [java, '-jar', '../jars/ConnectedComponentsFinder50M.jar', \n",
    "     '../data_mining_Neo4j_v2_3_2/databases/db_50M_0.060000']\n",
    "print(\" \".join(query))\n",
    "example_result = subprocess.check_output(query)"
   ]
  },
  {
   "cell_type": "code",
   "execution_count": null,
   "metadata": {
    "collapsed": false
   },
   "outputs": [],
   "source": [
    "print(example_result.decode('utf-8'))"
   ]
  },
  {
   "cell_type": "code",
   "execution_count": null,
   "metadata": {
    "collapsed": false
   },
   "outputs": [],
   "source": [
    "re.findall(r'There are \\d+ different connected components for cutoff \\d+.\\d+', \n",
    "           str(example_result))"
   ]
  },
  {
   "cell_type": "markdown",
   "metadata": {},
   "source": [
    "### Run the real query"
   ]
  },
  {
   "cell_type": "code",
   "execution_count": null,
   "metadata": {
    "collapsed": true
   },
   "outputs": [],
   "source": [
    "cutoffs = [0.06, 0.65]\n",
    "#cutoffs = [0.01, 0.02, 0.03, 0.04, 0.05, 0.06, 0.07]"
   ]
  },
  {
   "cell_type": "code",
   "execution_count": null,
   "metadata": {
    "collapsed": false
   },
   "outputs": [],
   "source": [
    "def build_databases(cutoffs):\n",
    "    db_info = pd.DataFrame()\n",
    "    for c in cutoffs:\n",
    "        print('build db for cutoff = {}'.format(c))\n",
    "        example_build = subprocess.check_output(\n",
    "            [java, '-jar', '../jars/ConstructNetwork50M.jar', str(c)])\n",
    "        nodes, edges, density = parse_db_building_stdout(example_build.decode('utf-8'))\n",
    "        #print(nodes, edges, density)\n",
    "        info = {'pcor cutoff':c, 'nodes':nodes, 'edges':edges, 'density': density}\n",
    "        info = {k:[v] for k, v in info.items()}\n",
    "        #print(info)\n",
    "        db_info = pd.concat([db_info, pd.DataFrame(info)])\n",
    "        db_info.to_csv('database_construction_info.tsv')\n",
    "    return db_info\n",
    "    # TODO: plot time for construction w/ different # of nodes. \n",
    "    "
   ]
  },
  {
   "cell_type": "code",
   "execution_count": null,
   "metadata": {
    "collapsed": false
   },
   "outputs": [],
   "source": [
    "build_databases(cutoffs)"
   ]
  },
  {
   "cell_type": "code",
   "execution_count": null,
   "metadata": {
    "collapsed": false
   },
   "outputs": [],
   "source": [
    "! ls -l ../data_mining_Neo4j_v2_3_2/databases/"
   ]
  },
  {
   "cell_type": "code",
   "execution_count": null,
   "metadata": {
    "collapsed": true
   },
   "outputs": [],
   "source": [
    "def connected_components(filepath):\n",
    "    print('find connected components for {}'.format(filepath))\n",
    "    command = [java, '-jar', '../jars/ConnectedComponentsFinder50M.jar', filepath]\n",
    "    print(\" \".join(command))\n",
    "    example_result = subprocess.check_output(command)\n",
    "    results = str(example_result,'utf-8')\n",
    "    result_sentence = re.findall(r'There are \\d+ different connected '\n",
    "                                 'components for cutoff \\d+.\\d+', results)[0]\n",
    "    print(result_sentence)\n",
    "    cc = re.findall('(\\d+) different', result_sentence)\n",
    "    cc[0] = int(cc[0])\n",
    "    cutoff = re.findall('for cutoff (\\d+.\\d+)', result_sentence)\n",
    "    cutoff[0] = float(cutoff[0])\n",
    "    return {'cutoff': cutoff, 'connected components':cc}"
   ]
  },
  {
   "cell_type": "code",
   "execution_count": null,
   "metadata": {
    "collapsed": false
   },
   "outputs": [],
   "source": [
    "connected_components('../data_mining_Neo4j_v2_3_2/databases/db_50M_0.060000')"
   ]
  },
  {
   "cell_type": "code",
   "execution_count": null,
   "metadata": {
    "collapsed": false
   },
   "outputs": [],
   "source": [
    "results = pd.DataFrame()\n",
    "for c in cutoffs:\n",
    "    print(\"assess cutoff {}\".format(c))\n",
    "    path = '../data_mining_Neo4j_v2_3_2/databases/db_50M_' + str(c) + '0000'\n",
    "    result = pd.DataFrame(connected_components(path))\n",
    "    results = pd.concat([results, result], axis=0)\n",
    "results"
   ]
  },
  {
   "cell_type": "code",
   "execution_count": null,
   "metadata": {
    "collapsed": false
   },
   "outputs": [],
   "source": [
    "def plot(df, x_col, y_col, filename=None):\n",
    "    x = df[x_col]\n",
    "    y = df[y_col]\n",
    "    \n",
    "    fig, ax = plt.subplots(1, 1, figsize=(4, 3))\n",
    "    plt.plot(x, y, linestyle='--', marker='o', color='#756bb1')\n",
    "    ax.set_ylim(bottom=0) \n",
    "    \n",
    "    #plt.legend(loc='best')\n",
    "    ax.legend(loc='center left', bbox_to_anchor=(1, 0.5))\n",
    "    plt.xlabel(x_col)\n",
    "    plt.ylabel(y_col)\n",
    "    plt.title('Number of non-singleton connected components')\n",
    "    plt.tight_layout()\n",
    "    if filename:\n",
    "        fig.savefig(filename)\n",
    "    return fig"
   ]
  },
  {
   "cell_type": "code",
   "execution_count": null,
   "metadata": {
    "collapsed": false
   },
   "outputs": [],
   "source": [
    "connected_components = plot(results, 'cutoff', 'connected components')"
   ]
  },
  {
   "cell_type": "code",
   "execution_count": null,
   "metadata": {
    "collapsed": true
   },
   "outputs": [],
   "source": []
  }
 ],
 "metadata": {
  "anaconda-cloud": {},
  "kernelspec": {
   "display_name": "Python [conda env:mlpy3]",
   "language": "python",
   "name": "conda-env-mlpy3-py"
  },
  "language_info": {
   "codemirror_mode": {
    "name": "ipython",
    "version": 3
   },
   "file_extension": ".py",
   "mimetype": "text/x-python",
   "name": "python",
   "nbconvert_exporter": "python",
   "pygments_lexer": "ipython3",
   "version": "3.5.2"
  }
 },
 "nbformat": 4,
 "nbformat_minor": 1
}
